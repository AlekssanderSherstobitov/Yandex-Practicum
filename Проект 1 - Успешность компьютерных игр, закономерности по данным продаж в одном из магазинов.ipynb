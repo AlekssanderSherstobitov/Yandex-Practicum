{
 "cells": [
  {
   "cell_type": "markdown",
   "metadata": {},
   "source": [
    "# Тема проект: Выявить определяющие успешность игры закономерности по данным продаж игр магазина «Стримчик»"
   ]
  },
  {
   "cell_type": "markdown",
   "metadata": {},
   "source": [
    "## План:\n",
    "- выполнить подготовку для анализ исходных данных;\n",
    "- провести исследовательский анализ данных, выявить какие-либо закономерности;\n",
    "- составить портрет пользовательского региона;\n",
    "- сформировать и проверить гипотезы;\n",
    "- обобщающий вывод."
   ]
  },
  {
   "cell_type": "markdown",
   "metadata": {},
   "source": [
    "### Описание данных\n",
    "- Name — название игры\n",
    "- Platform — платформа\n",
    "- Year_of_Release — год выпуска\n",
    "- Genre — жанр игры\n",
    "- NA_sales — продажи в Северной Америке (миллионы проданных копий)\n",
    "- EU_sales — продажи в Европе (миллионы проданных копий)\n",
    "- JP_sales — продажи в Японии (миллионы проданных копий)\n",
    "- Other_sales — продажи в других странах (миллионы проданных копий)\n",
    "- Critic_Score — оценка критиков (максимум 100)\n",
    "- User_Score — оценка пользователей (максимум 10)\n",
    "- Rating — рейтинг от организации ESRB (англ. Entertainment Software Rating Board). Эта ассоциация определяет рейтинг компьютерных игр и присваивает им подходящую возрастную категорию."
   ]
  },
  {
   "cell_type": "code",
   "execution_count": 45,
   "metadata": {},
   "outputs": [],
   "source": [
    "import pandas as pd\n",
    "import matplotlib.pyplot as plt\n",
    "import matplotlib\n",
    "import datetime\n",
    "import numpy as np\n",
    "import seaborn as sns\n",
    "from scipy import stats as st "
   ]
  },
  {
   "cell_type": "markdown",
   "metadata": {},
   "source": [
    "## Подготовка данных"
   ]
  },
  {
   "cell_type": "code",
   "execution_count": 46,
   "metadata": {
    "scrolled": true
   },
   "outputs": [
    {
     "data": {
      "text/html": [
       "<div>\n",
       "<style scoped>\n",
       "    .dataframe tbody tr th:only-of-type {\n",
       "        vertical-align: middle;\n",
       "    }\n",
       "\n",
       "    .dataframe tbody tr th {\n",
       "        vertical-align: top;\n",
       "    }\n",
       "\n",
       "    .dataframe thead th {\n",
       "        text-align: right;\n",
       "    }\n",
       "</style>\n",
       "<table border=\"1\" class=\"dataframe\">\n",
       "  <thead>\n",
       "    <tr style=\"text-align: right;\">\n",
       "      <th></th>\n",
       "      <th>Name</th>\n",
       "      <th>Platform</th>\n",
       "      <th>Year_of_Release</th>\n",
       "      <th>Genre</th>\n",
       "      <th>NA_sales</th>\n",
       "      <th>EU_sales</th>\n",
       "      <th>JP_sales</th>\n",
       "      <th>Other_sales</th>\n",
       "      <th>Critic_Score</th>\n",
       "      <th>User_Score</th>\n",
       "      <th>Rating</th>\n",
       "    </tr>\n",
       "  </thead>\n",
       "  <tbody>\n",
       "    <tr>\n",
       "      <th>0</th>\n",
       "      <td>Wii Sports</td>\n",
       "      <td>Wii</td>\n",
       "      <td>2006.0</td>\n",
       "      <td>Sports</td>\n",
       "      <td>41.36</td>\n",
       "      <td>28.96</td>\n",
       "      <td>3.77</td>\n",
       "      <td>8.45</td>\n",
       "      <td>76.0</td>\n",
       "      <td>8</td>\n",
       "      <td>E</td>\n",
       "    </tr>\n",
       "    <tr>\n",
       "      <th>1</th>\n",
       "      <td>Super Mario Bros.</td>\n",
       "      <td>NES</td>\n",
       "      <td>1985.0</td>\n",
       "      <td>Platform</td>\n",
       "      <td>29.08</td>\n",
       "      <td>3.58</td>\n",
       "      <td>6.81</td>\n",
       "      <td>0.77</td>\n",
       "      <td>NaN</td>\n",
       "      <td>NaN</td>\n",
       "      <td>NaN</td>\n",
       "    </tr>\n",
       "    <tr>\n",
       "      <th>2</th>\n",
       "      <td>Mario Kart Wii</td>\n",
       "      <td>Wii</td>\n",
       "      <td>2008.0</td>\n",
       "      <td>Racing</td>\n",
       "      <td>15.68</td>\n",
       "      <td>12.76</td>\n",
       "      <td>3.79</td>\n",
       "      <td>3.29</td>\n",
       "      <td>82.0</td>\n",
       "      <td>8.3</td>\n",
       "      <td>E</td>\n",
       "    </tr>\n",
       "    <tr>\n",
       "      <th>3</th>\n",
       "      <td>Wii Sports Resort</td>\n",
       "      <td>Wii</td>\n",
       "      <td>2009.0</td>\n",
       "      <td>Sports</td>\n",
       "      <td>15.61</td>\n",
       "      <td>10.93</td>\n",
       "      <td>3.28</td>\n",
       "      <td>2.95</td>\n",
       "      <td>80.0</td>\n",
       "      <td>8</td>\n",
       "      <td>E</td>\n",
       "    </tr>\n",
       "    <tr>\n",
       "      <th>4</th>\n",
       "      <td>Pokemon Red/Pokemon Blue</td>\n",
       "      <td>GB</td>\n",
       "      <td>1996.0</td>\n",
       "      <td>Role-Playing</td>\n",
       "      <td>11.27</td>\n",
       "      <td>8.89</td>\n",
       "      <td>10.22</td>\n",
       "      <td>1.00</td>\n",
       "      <td>NaN</td>\n",
       "      <td>NaN</td>\n",
       "      <td>NaN</td>\n",
       "    </tr>\n",
       "  </tbody>\n",
       "</table>\n",
       "</div>"
      ],
      "text/plain": [
       "                       Name Platform  Year_of_Release         Genre  NA_sales  \\\n",
       "0                Wii Sports      Wii           2006.0        Sports     41.36   \n",
       "1         Super Mario Bros.      NES           1985.0      Platform     29.08   \n",
       "2            Mario Kart Wii      Wii           2008.0        Racing     15.68   \n",
       "3         Wii Sports Resort      Wii           2009.0        Sports     15.61   \n",
       "4  Pokemon Red/Pokemon Blue       GB           1996.0  Role-Playing     11.27   \n",
       "\n",
       "   EU_sales  JP_sales  Other_sales  Critic_Score User_Score Rating  \n",
       "0     28.96      3.77         8.45          76.0          8      E  \n",
       "1      3.58      6.81         0.77           NaN        NaN    NaN  \n",
       "2     12.76      3.79         3.29          82.0        8.3      E  \n",
       "3     10.93      3.28         2.95          80.0          8      E  \n",
       "4      8.89     10.22         1.00           NaN        NaN    NaN  "
      ]
     },
     "metadata": {},
     "output_type": "display_data"
    }
   ],
   "source": [
    "# прочитать файл, выведем первые стороки на экран\n",
    "data = pd.read_csv('/datasets/games.csv')\n",
    "display(data.head())"
   ]
  },
  {
   "cell_type": "code",
   "execution_count": 47,
   "metadata": {},
   "outputs": [
    {
     "name": "stdout",
     "output_type": "stream",
     "text": [
      "<class 'pandas.core.frame.DataFrame'>\n",
      "RangeIndex: 16715 entries, 0 to 16714\n",
      "Data columns (total 11 columns):\n",
      " #   Column           Non-Null Count  Dtype  \n",
      "---  ------           --------------  -----  \n",
      " 0   Name             16713 non-null  object \n",
      " 1   Platform         16715 non-null  object \n",
      " 2   Year_of_Release  16446 non-null  float64\n",
      " 3   Genre            16713 non-null  object \n",
      " 4   NA_sales         16715 non-null  float64\n",
      " 5   EU_sales         16715 non-null  float64\n",
      " 6   JP_sales         16715 non-null  float64\n",
      " 7   Other_sales      16715 non-null  float64\n",
      " 8   Critic_Score     8137 non-null   float64\n",
      " 9   User_Score       10014 non-null  object \n",
      " 10  Rating           9949 non-null   object \n",
      "dtypes: float64(6), object(5)\n",
      "memory usage: 1.4+ MB\n"
     ]
    }
   ],
   "source": [
    "# общее представление о исходной таблице\n",
    "data.info()"
   ]
  },
  {
   "cell_type": "code",
   "execution_count": 48,
   "metadata": {
    "scrolled": false
   },
   "outputs": [
    {
     "data": {
      "text/html": [
       "<div>\n",
       "<style scoped>\n",
       "    .dataframe tbody tr th:only-of-type {\n",
       "        vertical-align: middle;\n",
       "    }\n",
       "\n",
       "    .dataframe tbody tr th {\n",
       "        vertical-align: top;\n",
       "    }\n",
       "\n",
       "    .dataframe thead th {\n",
       "        text-align: right;\n",
       "    }\n",
       "</style>\n",
       "<table border=\"1\" class=\"dataframe\">\n",
       "  <thead>\n",
       "    <tr style=\"text-align: right;\">\n",
       "      <th></th>\n",
       "      <th>name</th>\n",
       "      <th>platform</th>\n",
       "      <th>year_of_release</th>\n",
       "      <th>genre</th>\n",
       "      <th>na_sales</th>\n",
       "      <th>eu_sales</th>\n",
       "      <th>jp_sales</th>\n",
       "      <th>other_sales</th>\n",
       "      <th>critic_score</th>\n",
       "      <th>user_score</th>\n",
       "      <th>rating</th>\n",
       "    </tr>\n",
       "  </thead>\n",
       "  <tbody>\n",
       "    <tr>\n",
       "      <th>0</th>\n",
       "      <td>Wii Sports</td>\n",
       "      <td>Wii</td>\n",
       "      <td>2006.0</td>\n",
       "      <td>Sports</td>\n",
       "      <td>41.36</td>\n",
       "      <td>28.96</td>\n",
       "      <td>3.77</td>\n",
       "      <td>8.45</td>\n",
       "      <td>76.0</td>\n",
       "      <td>8</td>\n",
       "      <td>E</td>\n",
       "    </tr>\n",
       "    <tr>\n",
       "      <th>1</th>\n",
       "      <td>Super Mario Bros.</td>\n",
       "      <td>NES</td>\n",
       "      <td>1985.0</td>\n",
       "      <td>Platform</td>\n",
       "      <td>29.08</td>\n",
       "      <td>3.58</td>\n",
       "      <td>6.81</td>\n",
       "      <td>0.77</td>\n",
       "      <td>NaN</td>\n",
       "      <td>NaN</td>\n",
       "      <td>NaN</td>\n",
       "    </tr>\n",
       "    <tr>\n",
       "      <th>2</th>\n",
       "      <td>Mario Kart Wii</td>\n",
       "      <td>Wii</td>\n",
       "      <td>2008.0</td>\n",
       "      <td>Racing</td>\n",
       "      <td>15.68</td>\n",
       "      <td>12.76</td>\n",
       "      <td>3.79</td>\n",
       "      <td>3.29</td>\n",
       "      <td>82.0</td>\n",
       "      <td>8.3</td>\n",
       "      <td>E</td>\n",
       "    </tr>\n",
       "    <tr>\n",
       "      <th>3</th>\n",
       "      <td>Wii Sports Resort</td>\n",
       "      <td>Wii</td>\n",
       "      <td>2009.0</td>\n",
       "      <td>Sports</td>\n",
       "      <td>15.61</td>\n",
       "      <td>10.93</td>\n",
       "      <td>3.28</td>\n",
       "      <td>2.95</td>\n",
       "      <td>80.0</td>\n",
       "      <td>8</td>\n",
       "      <td>E</td>\n",
       "    </tr>\n",
       "    <tr>\n",
       "      <th>4</th>\n",
       "      <td>Pokemon Red/Pokemon Blue</td>\n",
       "      <td>GB</td>\n",
       "      <td>1996.0</td>\n",
       "      <td>Role-Playing</td>\n",
       "      <td>11.27</td>\n",
       "      <td>8.89</td>\n",
       "      <td>10.22</td>\n",
       "      <td>1.00</td>\n",
       "      <td>NaN</td>\n",
       "      <td>NaN</td>\n",
       "      <td>NaN</td>\n",
       "    </tr>\n",
       "  </tbody>\n",
       "</table>\n",
       "</div>"
      ],
      "text/plain": [
       "                       name platform  year_of_release         genre  na_sales  \\\n",
       "0                Wii Sports      Wii           2006.0        Sports     41.36   \n",
       "1         Super Mario Bros.      NES           1985.0      Platform     29.08   \n",
       "2            Mario Kart Wii      Wii           2008.0        Racing     15.68   \n",
       "3         Wii Sports Resort      Wii           2009.0        Sports     15.61   \n",
       "4  Pokemon Red/Pokemon Blue       GB           1996.0  Role-Playing     11.27   \n",
       "\n",
       "   eu_sales  jp_sales  other_sales  critic_score user_score rating  \n",
       "0     28.96      3.77         8.45          76.0          8      E  \n",
       "1      3.58      6.81         0.77           NaN        NaN    NaN  \n",
       "2     12.76      3.79         3.29          82.0        8.3      E  \n",
       "3     10.93      3.28         2.95          80.0          8      E  \n",
       "4      8.89     10.22         1.00           NaN        NaN    NaN  "
      ]
     },
     "metadata": {},
     "output_type": "display_data"
    }
   ],
   "source": [
    "# заменим регистр в наименованиях столбцов\n",
    "data.columns=data.columns.str.lower()\n",
    "display(data.head())"
   ]
  },
  {
   "cell_type": "code",
   "execution_count": 49,
   "metadata": {},
   "outputs": [],
   "source": [
    "# check\n",
    "# пропущенные значения бары\n",
    "\n",
    "def pass_value_barh(df):\n",
    "    try:\n",
    "        (\n",
    "            (df.isna().mean()*100)\n",
    "            .to_frame()\n",
    "            .rename(columns = {0:'space'})\n",
    "            .query('space > 0')\n",
    "            .sort_values(by = 'space', ascending = True)\n",
    "            .plot(kind = 'barh', figsize = (19,6), rot = 0, legend = False, fontsize = 16)\n",
    "            .set_title('Процент пропусков в столбцах от общего числа строк' + \"\\n\", fontsize = 22, color = 'SteelBlue')    \n",
    "        );    \n",
    "    except:\n",
    "        print('пропусков не осталось :) ')"
   ]
  },
  {
   "cell_type": "code",
   "execution_count": 50,
   "metadata": {},
   "outputs": [
    {
     "data": {
      "image/png": "[encoded data removed]",
      "text/plain": [
       "<Figure size 1368x432 with 1 Axes>"
      ]
     },
     "metadata": {
      "needs_background": "light"
     },
     "output_type": "display_data"
    }
   ],
   "source": [
    "# Процент пропусков в столбцах от общего числа строк\n",
    "pass_value_barh(data)"
   ]
  },
  {
   "cell_type": "code",
   "execution_count": 51,
   "metadata": {},
   "outputs": [],
   "source": [
    "# замена tbd - абревиатура означающая отсутствиет оценки, меняем на нуль\n",
    "data.loc[data['user_score']=='tbd','user_score']= \"NaN\"\n",
    "data['rating']=data['rating'].fillna('unknown')"
   ]
  },
  {
   "cell_type": "code",
   "execution_count": 52,
   "metadata": {},
   "outputs": [],
   "source": [
    "# удаление пропусков в столбце year_of_release\n",
    "data=data.dropna(subset=['year_of_release','genre', 'name'])\n"
   ]
  },
  {
   "cell_type": "code",
   "execution_count": 53,
   "metadata": {},
   "outputs": [],
   "source": [
    "#заменил тип данных столбца year_of_releas, т.к. целое число\n",
    "data['year_of_release']=data['year_of_release'].astype(int)\n",
    "# заменим тип данных столбца с object на float, т.к. значения в столбце с плавающей точкой  \n",
    "data['user_score']=data['user_score'].astype(float)\n"
   ]
  },
  {
   "cell_type": "code",
   "execution_count": 54,
   "metadata": {
    "scrolled": true
   },
   "outputs": [
    {
     "name": "stdout",
     "output_type": "stream",
     "text": [
      "<class 'pandas.core.frame.DataFrame'>\n",
      "Int64Index: 16444 entries, 0 to 16714\n",
      "Data columns (total 11 columns):\n",
      " #   Column           Non-Null Count  Dtype  \n",
      "---  ------           --------------  -----  \n",
      " 0   name             16444 non-null  object \n",
      " 1   platform         16444 non-null  object \n",
      " 2   year_of_release  16444 non-null  int64  \n",
      " 3   genre            16444 non-null  object \n",
      " 4   na_sales         16444 non-null  float64\n",
      " 5   eu_sales         16444 non-null  float64\n",
      " 6   jp_sales         16444 non-null  float64\n",
      " 7   other_sales      16444 non-null  float64\n",
      " 8   critic_score     7983 non-null   float64\n",
      " 9   user_score       7463 non-null   float64\n",
      " 10  rating           16444 non-null  object \n",
      "dtypes: float64(6), int64(1), object(4)\n",
      "memory usage: 1.5+ MB\n"
     ]
    }
   ],
   "source": [
    "data.info()"
   ]
  },
  {
   "cell_type": "code",
   "execution_count": 55,
   "metadata": {
    "scrolled": false
   },
   "outputs": [
    {
     "data": {
      "text/html": [
       "<div>\n",
       "<style scoped>\n",
       "    .dataframe tbody tr th:only-of-type {\n",
       "        vertical-align: middle;\n",
       "    }\n",
       "\n",
       "    .dataframe tbody tr th {\n",
       "        vertical-align: top;\n",
       "    }\n",
       "\n",
       "    .dataframe thead th {\n",
       "        text-align: right;\n",
       "    }\n",
       "</style>\n",
       "<table border=\"1\" class=\"dataframe\">\n",
       "  <thead>\n",
       "    <tr style=\"text-align: right;\">\n",
       "      <th></th>\n",
       "      <th>name</th>\n",
       "      <th>platform</th>\n",
       "      <th>year_of_release</th>\n",
       "      <th>genre</th>\n",
       "      <th>na_sales</th>\n",
       "      <th>eu_sales</th>\n",
       "      <th>jp_sales</th>\n",
       "      <th>other_sales</th>\n",
       "      <th>critic_score</th>\n",
       "      <th>user_score</th>\n",
       "      <th>rating</th>\n",
       "    </tr>\n",
       "  </thead>\n",
       "  <tbody>\n",
       "    <tr>\n",
       "      <th>0</th>\n",
       "      <td>Wii Sports</td>\n",
       "      <td>Wii</td>\n",
       "      <td>2006</td>\n",
       "      <td>Sports</td>\n",
       "      <td>41.36</td>\n",
       "      <td>28.96</td>\n",
       "      <td>3.77</td>\n",
       "      <td>8.45</td>\n",
       "      <td>76.0</td>\n",
       "      <td>8.0</td>\n",
       "      <td>E</td>\n",
       "    </tr>\n",
       "    <tr>\n",
       "      <th>1</th>\n",
       "      <td>Super Mario Bros.</td>\n",
       "      <td>NES</td>\n",
       "      <td>1985</td>\n",
       "      <td>Platform</td>\n",
       "      <td>29.08</td>\n",
       "      <td>3.58</td>\n",
       "      <td>6.81</td>\n",
       "      <td>0.77</td>\n",
       "      <td>NaN</td>\n",
       "      <td>NaN</td>\n",
       "      <td>unknown</td>\n",
       "    </tr>\n",
       "    <tr>\n",
       "      <th>2</th>\n",
       "      <td>Mario Kart Wii</td>\n",
       "      <td>Wii</td>\n",
       "      <td>2008</td>\n",
       "      <td>Racing</td>\n",
       "      <td>15.68</td>\n",
       "      <td>12.76</td>\n",
       "      <td>3.79</td>\n",
       "      <td>3.29</td>\n",
       "      <td>82.0</td>\n",
       "      <td>8.3</td>\n",
       "      <td>E</td>\n",
       "    </tr>\n",
       "    <tr>\n",
       "      <th>3</th>\n",
       "      <td>Wii Sports Resort</td>\n",
       "      <td>Wii</td>\n",
       "      <td>2009</td>\n",
       "      <td>Sports</td>\n",
       "      <td>15.61</td>\n",
       "      <td>10.93</td>\n",
       "      <td>3.28</td>\n",
       "      <td>2.95</td>\n",
       "      <td>80.0</td>\n",
       "      <td>8.0</td>\n",
       "      <td>E</td>\n",
       "    </tr>\n",
       "    <tr>\n",
       "      <th>4</th>\n",
       "      <td>Pokemon Red/Pokemon Blue</td>\n",
       "      <td>GB</td>\n",
       "      <td>1996</td>\n",
       "      <td>Role-Playing</td>\n",
       "      <td>11.27</td>\n",
       "      <td>8.89</td>\n",
       "      <td>10.22</td>\n",
       "      <td>1.00</td>\n",
       "      <td>NaN</td>\n",
       "      <td>NaN</td>\n",
       "      <td>unknown</td>\n",
       "    </tr>\n",
       "  </tbody>\n",
       "</table>\n",
       "</div>"
      ],
      "text/plain": [
       "                       name platform  year_of_release         genre  na_sales  \\\n",
       "0                Wii Sports      Wii             2006        Sports     41.36   \n",
       "1         Super Mario Bros.      NES             1985      Platform     29.08   \n",
       "2            Mario Kart Wii      Wii             2008        Racing     15.68   \n",
       "3         Wii Sports Resort      Wii             2009        Sports     15.61   \n",
       "4  Pokemon Red/Pokemon Blue       GB             1996  Role-Playing     11.27   \n",
       "\n",
       "   eu_sales  jp_sales  other_sales  critic_score  user_score   rating  \n",
       "0     28.96      3.77         8.45          76.0         8.0        E  \n",
       "1      3.58      6.81         0.77           NaN         NaN  unknown  \n",
       "2     12.76      3.79         3.29          82.0         8.3        E  \n",
       "3     10.93      3.28         2.95          80.0         8.0        E  \n",
       "4      8.89     10.22         1.00           NaN         NaN  unknown  "
      ]
     },
     "metadata": {},
     "output_type": "display_data"
    }
   ],
   "source": [
    "display(data.head())"
   ]
  },
  {
   "cell_type": "code",
   "execution_count": 56,
   "metadata": {
    "scrolled": false
   },
   "outputs": [
    {
     "data": {
      "text/html": [
       "<div>\n",
       "<style scoped>\n",
       "    .dataframe tbody tr th:only-of-type {\n",
       "        vertical-align: middle;\n",
       "    }\n",
       "\n",
       "    .dataframe tbody tr th {\n",
       "        vertical-align: top;\n",
       "    }\n",
       "\n",
       "    .dataframe thead th {\n",
       "        text-align: right;\n",
       "    }\n",
       "</style>\n",
       "<table border=\"1\" class=\"dataframe\">\n",
       "  <thead>\n",
       "    <tr style=\"text-align: right;\">\n",
       "      <th></th>\n",
       "      <th>name</th>\n",
       "      <th>platform</th>\n",
       "      <th>year_of_release</th>\n",
       "      <th>genre</th>\n",
       "      <th>na_sales</th>\n",
       "      <th>eu_sales</th>\n",
       "      <th>jp_sales</th>\n",
       "      <th>other_sales</th>\n",
       "      <th>critic_score</th>\n",
       "      <th>user_score</th>\n",
       "      <th>rating</th>\n",
       "      <th>sum_sales</th>\n",
       "    </tr>\n",
       "  </thead>\n",
       "  <tbody>\n",
       "    <tr>\n",
       "      <th>0</th>\n",
       "      <td>Wii Sports</td>\n",
       "      <td>Wii</td>\n",
       "      <td>2006</td>\n",
       "      <td>Sports</td>\n",
       "      <td>41.36</td>\n",
       "      <td>28.96</td>\n",
       "      <td>3.77</td>\n",
       "      <td>8.45</td>\n",
       "      <td>76.0</td>\n",
       "      <td>8.0</td>\n",
       "      <td>E</td>\n",
       "      <td>82.54</td>\n",
       "    </tr>\n",
       "    <tr>\n",
       "      <th>1</th>\n",
       "      <td>Super Mario Bros.</td>\n",
       "      <td>NES</td>\n",
       "      <td>1985</td>\n",
       "      <td>Platform</td>\n",
       "      <td>29.08</td>\n",
       "      <td>3.58</td>\n",
       "      <td>6.81</td>\n",
       "      <td>0.77</td>\n",
       "      <td>NaN</td>\n",
       "      <td>NaN</td>\n",
       "      <td>unknown</td>\n",
       "      <td>40.24</td>\n",
       "    </tr>\n",
       "    <tr>\n",
       "      <th>2</th>\n",
       "      <td>Mario Kart Wii</td>\n",
       "      <td>Wii</td>\n",
       "      <td>2008</td>\n",
       "      <td>Racing</td>\n",
       "      <td>15.68</td>\n",
       "      <td>12.76</td>\n",
       "      <td>3.79</td>\n",
       "      <td>3.29</td>\n",
       "      <td>82.0</td>\n",
       "      <td>8.3</td>\n",
       "      <td>E</td>\n",
       "      <td>35.52</td>\n",
       "    </tr>\n",
       "    <tr>\n",
       "      <th>3</th>\n",
       "      <td>Wii Sports Resort</td>\n",
       "      <td>Wii</td>\n",
       "      <td>2009</td>\n",
       "      <td>Sports</td>\n",
       "      <td>15.61</td>\n",
       "      <td>10.93</td>\n",
       "      <td>3.28</td>\n",
       "      <td>2.95</td>\n",
       "      <td>80.0</td>\n",
       "      <td>8.0</td>\n",
       "      <td>E</td>\n",
       "      <td>32.77</td>\n",
       "    </tr>\n",
       "    <tr>\n",
       "      <th>4</th>\n",
       "      <td>Pokemon Red/Pokemon Blue</td>\n",
       "      <td>GB</td>\n",
       "      <td>1996</td>\n",
       "      <td>Role-Playing</td>\n",
       "      <td>11.27</td>\n",
       "      <td>8.89</td>\n",
       "      <td>10.22</td>\n",
       "      <td>1.00</td>\n",
       "      <td>NaN</td>\n",
       "      <td>NaN</td>\n",
       "      <td>unknown</td>\n",
       "      <td>31.38</td>\n",
       "    </tr>\n",
       "  </tbody>\n",
       "</table>\n",
       "</div>"
      ],
      "text/plain": [
       "                       name platform  year_of_release         genre  na_sales  \\\n",
       "0                Wii Sports      Wii             2006        Sports     41.36   \n",
       "1         Super Mario Bros.      NES             1985      Platform     29.08   \n",
       "2            Mario Kart Wii      Wii             2008        Racing     15.68   \n",
       "3         Wii Sports Resort      Wii             2009        Sports     15.61   \n",
       "4  Pokemon Red/Pokemon Blue       GB             1996  Role-Playing     11.27   \n",
       "\n",
       "   eu_sales  jp_sales  other_sales  critic_score  user_score   rating  \\\n",
       "0     28.96      3.77         8.45          76.0         8.0        E   \n",
       "1      3.58      6.81         0.77           NaN         NaN  unknown   \n",
       "2     12.76      3.79         3.29          82.0         8.3        E   \n",
       "3     10.93      3.28         2.95          80.0         8.0        E   \n",
       "4      8.89     10.22         1.00           NaN         NaN  unknown   \n",
       "\n",
       "   sum_sales  \n",
       "0      82.54  \n",
       "1      40.24  \n",
       "2      35.52  \n",
       "3      32.77  \n",
       "4      31.38  "
      ]
     },
     "execution_count": 56,
     "metadata": {},
     "output_type": "execute_result"
    }
   ],
   "source": [
    "# Cуммарные продажи по регионах, запись в отдельный столбец\n",
    "data['sum_sales']=data['na_sales']+data['eu_sales']+data['jp_sales']+data['other_sales']\n",
    "data.head()"
   ]
  },
  {
   "cell_type": "code",
   "execution_count": 57,
   "metadata": {},
   "outputs": [
    {
     "data": {
      "text/plain": [
       "0"
      ]
     },
     "execution_count": 57,
     "metadata": {},
     "output_type": "execute_result"
    }
   ],
   "source": [
    "# Проверка на наличие явных дубликатов. Явные дубликаты отсутствуют.\n",
    "data.duplicated().sum()\n"
   ]
  },
  {
   "cell_type": "markdown",
   "metadata": {},
   "source": [
    "***Промежуточные выводы по разделу подготовка данных***\n",
    "\n",
    "1 Были удалены пропуски в столбцах year_of_release, genre, name. Суммарное количество удаленных пропуском не превышает 1,5% от общего числа.\n",
    "\n",
    "2 Значение 'tbd' в столбце user_score означает отсутствие оценки на данный момент, заменил на NaN.  \n",
    "\n",
    "3 Тип столбца year_of_release - float был заменен на int64, т.к. в нем находятся целочисленные значения. Тип столбца user_score был заменен на с object на float.\n",
    "\n",
    "4 Возможные причины пропусков в столбцах:\n",
    "- пользователи и игроки не захотели ставить оценок играм по личным причинам;\n",
    "- игры некоторые игры непопулятрны в  ряде стран нет продаж, нет продаж - нет оценок;\n",
    "- возможно отсутствие оценок - ноль; \n",
    "- по ошибке не заполнили соотвествующие поля при занесении при занесении в базу данных."
   ]
  },
  {
   "cell_type": "markdown",
   "metadata": {},
   "source": [
    "## Исследовательский анализ данных"
   ]
  },
  {
   "cell_type": "code",
   "execution_count": 58,
   "metadata": {},
   "outputs": [
    {
     "data": {
      "image/png": "[encoded data removed]",
      "text/plain": [
       "<Figure size 864x360 with 1 Axes>"
      ]
     },
     "metadata": {
      "needs_background": "light"
     },
     "output_type": "display_data"
    }
   ],
   "source": [
    "# Количество игр, выпускаемые по годам.\n",
    "data.groupby('year_of_release')['name'].agg('count').reset_index() \\\n",
    ".plot(kind = 'bar', \n",
    "      y = 'name',\n",
    "      x = 'year_of_release',\n",
    "      ylabel = 'Количество игр выпускаемых',\n",
    "      xlabel = 'Дата', \n",
    "      figsize = (12,5)) \\\n",
    ".set_title('Количество игр выпускаемых каждый год');"
   ]
  },
  {
   "cell_type": "code",
   "execution_count": 59,
   "metadata": {
    "scrolled": false
   },
   "outputs": [
    {
     "data": {
      "image/png": "[encoded data removed]",
      "text/plain": [
       "<Figure size 432x288 with 1 Axes>"
      ]
     },
     "metadata": {
      "needs_background": "light"
     },
     "output_type": "display_data"
    }
   ],
   "source": [
    "# Ящик с усами, что бы определить граница нормального распределения\n",
    "plt.boxplot(data['year_of_release']);"
   ]
  },
  {
   "cell_type": "markdown",
   "metadata": {},
   "source": [
    "Посмотрите, как менялись продажи по платформам. Выберите платформы с наибольшими суммарными продажами и постройте распределение по годам. За какой характерный срок появляются новые и исчезают старые платформы?"
   ]
  },
  {
   "cell_type": "code",
   "execution_count": 60,
   "metadata": {
    "scrolled": true
   },
   "outputs": [
    {
     "data": {
      "text/html": [
       "<div>\n",
       "<style scoped>\n",
       "    .dataframe tbody tr th:only-of-type {\n",
       "        vertical-align: middle;\n",
       "    }\n",
       "\n",
       "    .dataframe tbody tr th {\n",
       "        vertical-align: top;\n",
       "    }\n",
       "\n",
       "    .dataframe thead th {\n",
       "        text-align: right;\n",
       "    }\n",
       "</style>\n",
       "<table border=\"1\" class=\"dataframe\">\n",
       "  <thead>\n",
       "    <tr style=\"text-align: right;\">\n",
       "      <th></th>\n",
       "      <th></th>\n",
       "      <th>sum_sales</th>\n",
       "    </tr>\n",
       "    <tr>\n",
       "      <th>year_of_release</th>\n",
       "      <th>platform</th>\n",
       "      <th></th>\n",
       "    </tr>\n",
       "  </thead>\n",
       "  <tbody>\n",
       "    <tr>\n",
       "      <th>1980</th>\n",
       "      <th>2600</th>\n",
       "      <td>11.38</td>\n",
       "    </tr>\n",
       "    <tr>\n",
       "      <th>1981</th>\n",
       "      <th>2600</th>\n",
       "      <td>35.68</td>\n",
       "    </tr>\n",
       "    <tr>\n",
       "      <th>1982</th>\n",
       "      <th>2600</th>\n",
       "      <td>28.88</td>\n",
       "    </tr>\n",
       "    <tr>\n",
       "      <th rowspan=\"2\" valign=\"top\">1983</th>\n",
       "      <th>2600</th>\n",
       "      <td>5.84</td>\n",
       "    </tr>\n",
       "    <tr>\n",
       "      <th>NES</th>\n",
       "      <td>10.96</td>\n",
       "    </tr>\n",
       "    <tr>\n",
       "      <th rowspan=\"2\" valign=\"top\">1984</th>\n",
       "      <th>2600</th>\n",
       "      <td>0.27</td>\n",
       "    </tr>\n",
       "    <tr>\n",
       "      <th>NES</th>\n",
       "      <td>50.08</td>\n",
       "    </tr>\n",
       "    <tr>\n",
       "      <th rowspan=\"4\" valign=\"top\">1985</th>\n",
       "      <th>2600</th>\n",
       "      <td>0.45</td>\n",
       "    </tr>\n",
       "    <tr>\n",
       "      <th>DS</th>\n",
       "      <td>0.02</td>\n",
       "    </tr>\n",
       "    <tr>\n",
       "      <th>NES</th>\n",
       "      <td>53.44</td>\n",
       "    </tr>\n",
       "    <tr>\n",
       "      <th>PC</th>\n",
       "      <td>0.04</td>\n",
       "    </tr>\n",
       "    <tr>\n",
       "      <th rowspan=\"2\" valign=\"top\">1986</th>\n",
       "      <th>2600</th>\n",
       "      <td>0.67</td>\n",
       "    </tr>\n",
       "    <tr>\n",
       "      <th>NES</th>\n",
       "      <td>36.41</td>\n",
       "    </tr>\n",
       "    <tr>\n",
       "      <th rowspan=\"2\" valign=\"top\">1987</th>\n",
       "      <th>2600</th>\n",
       "      <td>1.94</td>\n",
       "    </tr>\n",
       "    <tr>\n",
       "      <th>NES</th>\n",
       "      <td>19.76</td>\n",
       "    </tr>\n",
       "  </tbody>\n",
       "</table>\n",
       "</div>"
      ],
      "text/plain": [
       "                          sum_sales\n",
       "year_of_release platform           \n",
       "1980            2600          11.38\n",
       "1981            2600          35.68\n",
       "1982            2600          28.88\n",
       "1983            2600           5.84\n",
       "                NES           10.96\n",
       "1984            2600           0.27\n",
       "                NES           50.08\n",
       "1985            2600           0.45\n",
       "                DS             0.02\n",
       "                NES           53.44\n",
       "                PC             0.04\n",
       "1986            2600           0.67\n",
       "                NES           36.41\n",
       "1987            2600           1.94\n",
       "                NES           19.76"
      ]
     },
     "metadata": {},
     "output_type": "display_data"
    }
   ],
   "source": [
    "# Сводная таблица по наименованию платформ и количество продаж на этих платформах по годам.\n",
    "platform_sales_years=pd.pivot_table(data,index=['year_of_release','platform'], \\\n",
    "                                    values=['sum_sales'], aggfunc='sum')\n",
    "display(platform_sales_years.head(15))\n",
    "\n",
    "    "
   ]
  },
  {
   "cell_type": "code",
   "execution_count": 61,
   "metadata": {},
   "outputs": [
    {
     "data": {
      "image/png": "[encoded data removed]",
      "text/plain": [
       "<Figure size 504x504 with 1 Axes>"
      ]
     },
     "metadata": {},
     "output_type": "display_data"
    }
   ],
   "source": [
    "# Сводная таблица сумма продаж каждой из платформ \n",
    "platform_sales_names=pd.pivot_table(data,index=['platform'],values=['sum_sales'], aggfunc='sum')\\\n",
    ".sort_values(by='sum_sales', ascending=False)\n",
    "#display(platform_sales_names.head(15))\n",
    "\n",
    "# График продаж по платформам в процентах от общего числа продаж \n",
    "platform_sales_names['sum_sales'].plot(kind='pie', figsize=(7,7),\n",
    "                  autopct='%1.1f%%',\n",
    "                  shadow=True)\n",
    "#plt.axis('platform')\n",
    "plt.show()"
   ]
  },
  {
   "cell_type": "code",
   "execution_count": 62,
   "metadata": {
    "scrolled": true
   },
   "outputs": [
    {
     "data": {
      "image/png": "[encoded data removed]",
      "text/plain": [
       "<Figure size 1080x720 with 1 Axes>"
      ]
     },
     "metadata": {
      "needs_background": "light"
     },
     "output_type": "display_data"
    }
   ],
   "source": [
    "# График зависимости существования продаж игр на платформы по года\n",
    "data.plot(x='year_of_release', y = 'platform', figsize=(15,10), grid= True, kind='scatter');\n"
   ]
  },
  {
   "cell_type": "code",
   "execution_count": 63,
   "metadata": {
    "scrolled": true
   },
   "outputs": [
    {
     "data": {
      "image/png": "[encoded data removed]",
      "text/plain": [
       "<Figure size 432x288 with 1 Axes>"
      ]
     },
     "metadata": {
      "needs_background": "light"
     },
     "output_type": "display_data"
    }
   ],
   "source": [
    "# Сумма продаж платформы Wii по годам\n",
    "platform_wii=data.query('platform ==\"Wii\"')\n",
    "sns.lineplot(data=platform_wii, x='year_of_release', y = 'sum_sales', label = 'Wii продажи  по годам');"
   ]
  },
  {
   "cell_type": "code",
   "execution_count": 64,
   "metadata": {
    "scrolled": true
   },
   "outputs": [
    {
     "data": {
      "image/png": "[encoded data removed]",
      "text/plain": [
       "<Figure size 432x288 with 1 Axes>"
      ]
     },
     "metadata": {
      "needs_background": "light"
     },
     "output_type": "display_data"
    }
   ],
   "source": [
    "# Сумма продаж платформы PS2 по годам\n",
    "platform_ps2=data.query('platform ==\"PS2\"')\n",
    "sns.lineplot(data=platform_ps2, x='year_of_release', y = 'sum_sales', label = 'PS2 продажи  по годам');"
   ]
  },
  {
   "cell_type": "code",
   "execution_count": 65,
   "metadata": {
    "scrolled": true
   },
   "outputs": [
    {
     "data": {
      "image/png": "[encoded data removed]",
      "text/plain": [
       "<Figure size 432x288 with 1 Axes>"
      ]
     },
     "metadata": {
      "needs_background": "light"
     },
     "output_type": "display_data"
    }
   ],
   "source": [
    "# Сумма продаж платформы X360 по годам\n",
    "platform_x360=data.query('platform ==\"X360\"')\n",
    "sns.lineplot(data=platform_x360, x='year_of_release', y = 'sum_sales', label = 'X360 продажи  по годам');"
   ]
  },
  {
   "cell_type": "code",
   "execution_count": 66,
   "metadata": {},
   "outputs": [
    {
     "data": {
      "text/plain": [
       "year_of_release    7.677419\n",
       "dtype: float64"
      ]
     },
     "metadata": {},
     "output_type": "display_data"
    }
   ],
   "source": [
    "# Сводная таблица по наименованию платформ и количество продаж на этих платформах по годам.\n",
    "life_platform = (data.loc[:,['year_of_release', 'platform']]\n",
    "        .drop_duplicates()\n",
    "        .pivot_table(index=['platform'], values='year_of_release', aggfunc='count')\n",
    "       )\n",
    "display (life_platform.mean())\n"
   ]
  },
  {
   "cell_type": "markdown",
   "metadata": {},
   "source": [
    "### Промежуточные выводы\n",
    "- Была построена диаграмма размаха. Данные находщиеся до 1994 находятся более чем 1,5IQR, их можно не расматривать, они за границами доверительного интервала;\n",
    "- Были определены платформы с самыми большими продажами РS2, X360, PS3, Wii. Общая закономерность продажи платформ постепенно угасают по истежению времени;\n",
    "- Среднее время жизни платформы в среднем 7,7 лет.\n"
   ]
  },
  {
   "cell_type": "markdown",
   "metadata": {
    "scrolled": true
   },
   "source": [
    "### Для прогнозирования данных о продажах на 2017 актуальный период считаем данные за 2014...2016 года\n",
    "\n",
    "\n"
   ]
  },
  {
   "cell_type": "code",
   "execution_count": 67,
   "metadata": {
    "scrolled": true
   },
   "outputs": [
    {
     "data": {
      "text/html": [
       "<div>\n",
       "<style scoped>\n",
       "    .dataframe tbody tr th:only-of-type {\n",
       "        vertical-align: middle;\n",
       "    }\n",
       "\n",
       "    .dataframe tbody tr th {\n",
       "        vertical-align: top;\n",
       "    }\n",
       "\n",
       "    .dataframe thead th {\n",
       "        text-align: right;\n",
       "    }\n",
       "</style>\n",
       "<table border=\"1\" class=\"dataframe\">\n",
       "  <thead>\n",
       "    <tr style=\"text-align: right;\">\n",
       "      <th></th>\n",
       "      <th>name</th>\n",
       "      <th>platform</th>\n",
       "      <th>year_of_release</th>\n",
       "      <th>genre</th>\n",
       "      <th>na_sales</th>\n",
       "      <th>eu_sales</th>\n",
       "      <th>jp_sales</th>\n",
       "      <th>other_sales</th>\n",
       "      <th>critic_score</th>\n",
       "      <th>user_score</th>\n",
       "      <th>rating</th>\n",
       "      <th>sum_sales</th>\n",
       "    </tr>\n",
       "  </thead>\n",
       "  <tbody>\n",
       "    <tr>\n",
       "      <th>31</th>\n",
       "      <td>Call of Duty: Black Ops 3</td>\n",
       "      <td>PS4</td>\n",
       "      <td>2015</td>\n",
       "      <td>Shooter</td>\n",
       "      <td>6.03</td>\n",
       "      <td>5.86</td>\n",
       "      <td>0.36</td>\n",
       "      <td>2.38</td>\n",
       "      <td>NaN</td>\n",
       "      <td>NaN</td>\n",
       "      <td>unknown</td>\n",
       "      <td>14.63</td>\n",
       "    </tr>\n",
       "    <tr>\n",
       "      <th>42</th>\n",
       "      <td>Grand Theft Auto V</td>\n",
       "      <td>PS4</td>\n",
       "      <td>2014</td>\n",
       "      <td>Action</td>\n",
       "      <td>3.96</td>\n",
       "      <td>6.31</td>\n",
       "      <td>0.38</td>\n",
       "      <td>1.97</td>\n",
       "      <td>97.0</td>\n",
       "      <td>8.3</td>\n",
       "      <td>M</td>\n",
       "      <td>12.62</td>\n",
       "    </tr>\n",
       "    <tr>\n",
       "      <th>47</th>\n",
       "      <td>Pokemon Omega Ruby/Pokemon Alpha Sapphire</td>\n",
       "      <td>3DS</td>\n",
       "      <td>2014</td>\n",
       "      <td>Role-Playing</td>\n",
       "      <td>4.35</td>\n",
       "      <td>3.49</td>\n",
       "      <td>3.10</td>\n",
       "      <td>0.74</td>\n",
       "      <td>NaN</td>\n",
       "      <td>NaN</td>\n",
       "      <td>unknown</td>\n",
       "      <td>11.68</td>\n",
       "    </tr>\n",
       "    <tr>\n",
       "      <th>77</th>\n",
       "      <td>FIFA 16</td>\n",
       "      <td>PS4</td>\n",
       "      <td>2015</td>\n",
       "      <td>Sports</td>\n",
       "      <td>1.12</td>\n",
       "      <td>6.12</td>\n",
       "      <td>0.06</td>\n",
       "      <td>1.28</td>\n",
       "      <td>82.0</td>\n",
       "      <td>4.3</td>\n",
       "      <td>E</td>\n",
       "      <td>8.58</td>\n",
       "    </tr>\n",
       "    <tr>\n",
       "      <th>87</th>\n",
       "      <td>Star Wars Battlefront (2015)</td>\n",
       "      <td>PS4</td>\n",
       "      <td>2015</td>\n",
       "      <td>Shooter</td>\n",
       "      <td>2.99</td>\n",
       "      <td>3.49</td>\n",
       "      <td>0.22</td>\n",
       "      <td>1.28</td>\n",
       "      <td>NaN</td>\n",
       "      <td>NaN</td>\n",
       "      <td>unknown</td>\n",
       "      <td>7.98</td>\n",
       "    </tr>\n",
       "  </tbody>\n",
       "</table>\n",
       "</div>"
      ],
      "text/plain": [
       "                                         name platform  year_of_release  \\\n",
       "31                  Call of Duty: Black Ops 3      PS4             2015   \n",
       "42                         Grand Theft Auto V      PS4             2014   \n",
       "47  Pokemon Omega Ruby/Pokemon Alpha Sapphire      3DS             2014   \n",
       "77                                    FIFA 16      PS4             2015   \n",
       "87               Star Wars Battlefront (2015)      PS4             2015   \n",
       "\n",
       "           genre  na_sales  eu_sales  jp_sales  other_sales  critic_score  \\\n",
       "31       Shooter      6.03      5.86      0.36         2.38           NaN   \n",
       "42        Action      3.96      6.31      0.38         1.97          97.0   \n",
       "47  Role-Playing      4.35      3.49      3.10         0.74           NaN   \n",
       "77        Sports      1.12      6.12      0.06         1.28          82.0   \n",
       "87       Shooter      2.99      3.49      0.22         1.28           NaN   \n",
       "\n",
       "    user_score   rating  sum_sales  \n",
       "31         NaN  unknown      14.63  \n",
       "42         8.3        M      12.62  \n",
       "47         NaN  unknown      11.68  \n",
       "77         4.3        E       8.58  \n",
       "87         NaN  unknown       7.98  "
      ]
     },
     "execution_count": 67,
     "metadata": {},
     "output_type": "execute_result"
    }
   ],
   "source": [
    "# создали новую таблицу с актуальными данными за 2014...2016 года\n",
    "data_2014_2016=data[data['year_of_release'].isin([2014,2015,2016])]\n",
    "data_2014_2016.head()"
   ]
  },
  {
   "cell_type": "code",
   "execution_count": 68,
   "metadata": {
    "scrolled": true
   },
   "outputs": [
    {
     "data": {
      "text/html": [
       "<div>\n",
       "<style scoped>\n",
       "    .dataframe tbody tr th:only-of-type {\n",
       "        vertical-align: middle;\n",
       "    }\n",
       "\n",
       "    .dataframe tbody tr th {\n",
       "        vertical-align: top;\n",
       "    }\n",
       "\n",
       "    .dataframe thead th {\n",
       "        text-align: right;\n",
       "    }\n",
       "</style>\n",
       "<table border=\"1\" class=\"dataframe\">\n",
       "  <thead>\n",
       "    <tr style=\"text-align: right;\">\n",
       "      <th></th>\n",
       "      <th>sum_sales</th>\n",
       "    </tr>\n",
       "    <tr>\n",
       "      <th>platform</th>\n",
       "      <th></th>\n",
       "    </tr>\n",
       "  </thead>\n",
       "  <tbody>\n",
       "    <tr>\n",
       "      <th>PS4</th>\n",
       "      <td>288.15</td>\n",
       "    </tr>\n",
       "    <tr>\n",
       "      <th>XOne</th>\n",
       "      <td>140.36</td>\n",
       "    </tr>\n",
       "    <tr>\n",
       "      <th>3DS</th>\n",
       "      <td>86.68</td>\n",
       "    </tr>\n",
       "    <tr>\n",
       "      <th>PS3</th>\n",
       "      <td>68.18</td>\n",
       "    </tr>\n",
       "    <tr>\n",
       "      <th>X360</th>\n",
       "      <td>48.22</td>\n",
       "    </tr>\n",
       "    <tr>\n",
       "      <th>WiiU</th>\n",
       "      <td>42.98</td>\n",
       "    </tr>\n",
       "    <tr>\n",
       "      <th>PC</th>\n",
       "      <td>27.05</td>\n",
       "    </tr>\n",
       "    <tr>\n",
       "      <th>PSV</th>\n",
       "      <td>22.40</td>\n",
       "    </tr>\n",
       "    <tr>\n",
       "      <th>Wii</th>\n",
       "      <td>5.07</td>\n",
       "    </tr>\n",
       "    <tr>\n",
       "      <th>PSP</th>\n",
       "      <td>0.36</td>\n",
       "    </tr>\n",
       "  </tbody>\n",
       "</table>\n",
       "</div>"
      ],
      "text/plain": [
       "          sum_sales\n",
       "platform           \n",
       "PS4          288.15\n",
       "XOne         140.36\n",
       "3DS           86.68\n",
       "PS3           68.18\n",
       "X360          48.22\n",
       "WiiU          42.98\n",
       "PC            27.05\n",
       "PSV           22.40\n",
       "Wii            5.07\n",
       "PSP            0.36"
      ]
     },
     "metadata": {},
     "output_type": "display_data"
    }
   ],
   "source": [
    "# Сводная таблица сумма продаж каждой из платформ \n",
    "platform_sales_names_2=pd.pivot_table(data_2014_2016,index=['platform'],values=['sum_sales'], aggfunc='sum')\\\n",
    ".sort_values(by='sum_sales', ascending=False)\n",
    "display(platform_sales_names_2)\n",
    "\n"
   ]
  },
  {
   "cell_type": "code",
   "execution_count": 69,
   "metadata": {
    "scrolled": false
   },
   "outputs": [
    {
     "data": {
      "image/png": "[encoded data removed]",
      "text/plain": [
       "<Figure size 504x504 with 1 Axes>"
      ]
     },
     "metadata": {},
     "output_type": "display_data"
    }
   ],
   "source": [
    "# График продаж по платформам в процентах от общего числа продаж \n",
    "platform_sales_names_2['sum_sales'].plot(kind='pie', figsize=(7,7),\n",
    "                  autopct='%1.1f%%',\n",
    "                  shadow=True)\n",
    "plt.show()"
   ]
  },
  {
   "cell_type": "code",
   "execution_count": 70,
   "metadata": {},
   "outputs": [
    {
     "data": {
      "text/html": [
       "<div>\n",
       "<style scoped>\n",
       "    .dataframe tbody tr th:only-of-type {\n",
       "        vertical-align: middle;\n",
       "    }\n",
       "\n",
       "    .dataframe tbody tr th {\n",
       "        vertical-align: top;\n",
       "    }\n",
       "\n",
       "    .dataframe thead th {\n",
       "        text-align: right;\n",
       "    }\n",
       "</style>\n",
       "<table border=\"1\" class=\"dataframe\">\n",
       "  <thead>\n",
       "    <tr style=\"text-align: right;\">\n",
       "      <th></th>\n",
       "      <th>name</th>\n",
       "      <th>platform</th>\n",
       "      <th>year_of_release</th>\n",
       "      <th>genre</th>\n",
       "      <th>na_sales</th>\n",
       "      <th>eu_sales</th>\n",
       "      <th>jp_sales</th>\n",
       "      <th>other_sales</th>\n",
       "      <th>critic_score</th>\n",
       "      <th>user_score</th>\n",
       "      <th>rating</th>\n",
       "      <th>sum_sales</th>\n",
       "    </tr>\n",
       "  </thead>\n",
       "  <tbody>\n",
       "    <tr>\n",
       "      <th>31</th>\n",
       "      <td>Call of Duty: Black Ops 3</td>\n",
       "      <td>PS4</td>\n",
       "      <td>2015</td>\n",
       "      <td>Shooter</td>\n",
       "      <td>6.03</td>\n",
       "      <td>5.86</td>\n",
       "      <td>0.36</td>\n",
       "      <td>2.38</td>\n",
       "      <td>NaN</td>\n",
       "      <td>NaN</td>\n",
       "      <td>unknown</td>\n",
       "      <td>14.63</td>\n",
       "    </tr>\n",
       "    <tr>\n",
       "      <th>42</th>\n",
       "      <td>Grand Theft Auto V</td>\n",
       "      <td>PS4</td>\n",
       "      <td>2014</td>\n",
       "      <td>Action</td>\n",
       "      <td>3.96</td>\n",
       "      <td>6.31</td>\n",
       "      <td>0.38</td>\n",
       "      <td>1.97</td>\n",
       "      <td>97.0</td>\n",
       "      <td>8.3</td>\n",
       "      <td>M</td>\n",
       "      <td>12.62</td>\n",
       "    </tr>\n",
       "    <tr>\n",
       "      <th>47</th>\n",
       "      <td>Pokemon Omega Ruby/Pokemon Alpha Sapphire</td>\n",
       "      <td>3DS</td>\n",
       "      <td>2014</td>\n",
       "      <td>Role-Playing</td>\n",
       "      <td>4.35</td>\n",
       "      <td>3.49</td>\n",
       "      <td>3.10</td>\n",
       "      <td>0.74</td>\n",
       "      <td>NaN</td>\n",
       "      <td>NaN</td>\n",
       "      <td>unknown</td>\n",
       "      <td>11.68</td>\n",
       "    </tr>\n",
       "    <tr>\n",
       "      <th>77</th>\n",
       "      <td>FIFA 16</td>\n",
       "      <td>PS4</td>\n",
       "      <td>2015</td>\n",
       "      <td>Sports</td>\n",
       "      <td>1.12</td>\n",
       "      <td>6.12</td>\n",
       "      <td>0.06</td>\n",
       "      <td>1.28</td>\n",
       "      <td>82.0</td>\n",
       "      <td>4.3</td>\n",
       "      <td>E</td>\n",
       "      <td>8.58</td>\n",
       "    </tr>\n",
       "    <tr>\n",
       "      <th>87</th>\n",
       "      <td>Star Wars Battlefront (2015)</td>\n",
       "      <td>PS4</td>\n",
       "      <td>2015</td>\n",
       "      <td>Shooter</td>\n",
       "      <td>2.99</td>\n",
       "      <td>3.49</td>\n",
       "      <td>0.22</td>\n",
       "      <td>1.28</td>\n",
       "      <td>NaN</td>\n",
       "      <td>NaN</td>\n",
       "      <td>unknown</td>\n",
       "      <td>7.98</td>\n",
       "    </tr>\n",
       "    <tr>\n",
       "      <th>...</th>\n",
       "      <td>...</td>\n",
       "      <td>...</td>\n",
       "      <td>...</td>\n",
       "      <td>...</td>\n",
       "      <td>...</td>\n",
       "      <td>...</td>\n",
       "      <td>...</td>\n",
       "      <td>...</td>\n",
       "      <td>...</td>\n",
       "      <td>...</td>\n",
       "      <td>...</td>\n",
       "      <td>...</td>\n",
       "    </tr>\n",
       "    <tr>\n",
       "      <th>16703</th>\n",
       "      <td>Strawberry Nauts</td>\n",
       "      <td>PSV</td>\n",
       "      <td>2016</td>\n",
       "      <td>Adventure</td>\n",
       "      <td>0.00</td>\n",
       "      <td>0.00</td>\n",
       "      <td>0.01</td>\n",
       "      <td>0.00</td>\n",
       "      <td>NaN</td>\n",
       "      <td>NaN</td>\n",
       "      <td>unknown</td>\n",
       "      <td>0.01</td>\n",
       "    </tr>\n",
       "    <tr>\n",
       "      <th>16707</th>\n",
       "      <td>Aiyoku no Eustia</td>\n",
       "      <td>PSV</td>\n",
       "      <td>2014</td>\n",
       "      <td>Misc</td>\n",
       "      <td>0.00</td>\n",
       "      <td>0.00</td>\n",
       "      <td>0.01</td>\n",
       "      <td>0.00</td>\n",
       "      <td>NaN</td>\n",
       "      <td>NaN</td>\n",
       "      <td>unknown</td>\n",
       "      <td>0.01</td>\n",
       "    </tr>\n",
       "    <tr>\n",
       "      <th>16710</th>\n",
       "      <td>Samurai Warriors: Sanada Maru</td>\n",
       "      <td>PS3</td>\n",
       "      <td>2016</td>\n",
       "      <td>Action</td>\n",
       "      <td>0.00</td>\n",
       "      <td>0.00</td>\n",
       "      <td>0.01</td>\n",
       "      <td>0.00</td>\n",
       "      <td>NaN</td>\n",
       "      <td>NaN</td>\n",
       "      <td>unknown</td>\n",
       "      <td>0.01</td>\n",
       "    </tr>\n",
       "    <tr>\n",
       "      <th>16712</th>\n",
       "      <td>Haitaka no Psychedelica</td>\n",
       "      <td>PSV</td>\n",
       "      <td>2016</td>\n",
       "      <td>Adventure</td>\n",
       "      <td>0.00</td>\n",
       "      <td>0.00</td>\n",
       "      <td>0.01</td>\n",
       "      <td>0.00</td>\n",
       "      <td>NaN</td>\n",
       "      <td>NaN</td>\n",
       "      <td>unknown</td>\n",
       "      <td>0.01</td>\n",
       "    </tr>\n",
       "    <tr>\n",
       "      <th>16714</th>\n",
       "      <td>Winning Post 8 2016</td>\n",
       "      <td>PSV</td>\n",
       "      <td>2016</td>\n",
       "      <td>Simulation</td>\n",
       "      <td>0.00</td>\n",
       "      <td>0.00</td>\n",
       "      <td>0.01</td>\n",
       "      <td>0.00</td>\n",
       "      <td>NaN</td>\n",
       "      <td>NaN</td>\n",
       "      <td>unknown</td>\n",
       "      <td>0.01</td>\n",
       "    </tr>\n",
       "  </tbody>\n",
       "</table>\n",
       "<p>1689 rows × 12 columns</p>\n",
       "</div>"
      ],
      "text/plain": [
       "                                            name platform  year_of_release  \\\n",
       "31                     Call of Duty: Black Ops 3      PS4             2015   \n",
       "42                            Grand Theft Auto V      PS4             2014   \n",
       "47     Pokemon Omega Ruby/Pokemon Alpha Sapphire      3DS             2014   \n",
       "77                                       FIFA 16      PS4             2015   \n",
       "87                  Star Wars Battlefront (2015)      PS4             2015   \n",
       "...                                          ...      ...              ...   \n",
       "16703                           Strawberry Nauts      PSV             2016   \n",
       "16707                           Aiyoku no Eustia      PSV             2014   \n",
       "16710              Samurai Warriors: Sanada Maru      PS3             2016   \n",
       "16712                    Haitaka no Psychedelica      PSV             2016   \n",
       "16714                        Winning Post 8 2016      PSV             2016   \n",
       "\n",
       "              genre  na_sales  eu_sales  jp_sales  other_sales  critic_score  \\\n",
       "31          Shooter      6.03      5.86      0.36         2.38           NaN   \n",
       "42           Action      3.96      6.31      0.38         1.97          97.0   \n",
       "47     Role-Playing      4.35      3.49      3.10         0.74           NaN   \n",
       "77           Sports      1.12      6.12      0.06         1.28          82.0   \n",
       "87          Shooter      2.99      3.49      0.22         1.28           NaN   \n",
       "...             ...       ...       ...       ...          ...           ...   \n",
       "16703     Adventure      0.00      0.00      0.01         0.00           NaN   \n",
       "16707          Misc      0.00      0.00      0.01         0.00           NaN   \n",
       "16710        Action      0.00      0.00      0.01         0.00           NaN   \n",
       "16712     Adventure      0.00      0.00      0.01         0.00           NaN   \n",
       "16714    Simulation      0.00      0.00      0.01         0.00           NaN   \n",
       "\n",
       "       user_score   rating  sum_sales  \n",
       "31            NaN  unknown      14.63  \n",
       "42            8.3        M      12.62  \n",
       "47            NaN  unknown      11.68  \n",
       "77            4.3        E       8.58  \n",
       "87            NaN  unknown       7.98  \n",
       "...           ...      ...        ...  \n",
       "16703         NaN  unknown       0.01  \n",
       "16707         NaN  unknown       0.01  \n",
       "16710         NaN  unknown       0.01  \n",
       "16712         NaN  unknown       0.01  \n",
       "16714         NaN  unknown       0.01  \n",
       "\n",
       "[1689 rows x 12 columns]"
      ]
     },
     "execution_count": 70,
     "metadata": {},
     "output_type": "execute_result"
    }
   ],
   "source": [
    "data_2014_2016"
   ]
  },
  {
   "cell_type": "code",
   "execution_count": 71,
   "metadata": {
    "scrolled": true
   },
   "outputs": [
    {
     "data": {
      "image/png": "[encoded data removed]",
      "text/plain": [
       "<Figure size 432x288 with 1 Axes>"
      ]
     },
     "metadata": {
      "needs_background": "light"
     },
     "output_type": "display_data"
    }
   ],
   "source": [
    "# Поиск прибыльных платформ в разрезе 2014...2016 годов\n",
    "data_2014_2016 = data_2014_2016[(data_2014_2016['year_of_release'].isin([2014, 2015, 2016]))]\n",
    "ax = sns.barplot(y='sum_sales', x='platform', hue='year_of_release',\\\n",
    "                 data = data_2014_2016)"
   ]
  },
  {
   "cell_type": "markdown",
   "metadata": {},
   "source": [
    "**Лидирерами продаж в период 2014...2016 являются платформы: PS4, XOne, 3DS, PS3, X360. Ежегодное падение суммарных продаж от года к году.**"
   ]
  },
  {
   "cell_type": "code",
   "execution_count": 72,
   "metadata": {
    "scrolled": true
   },
   "outputs": [
    {
     "data": {
      "image/png": "[encoded data removed]",
      "text/plain": [
       "<Figure size 1080x576 with 1 Axes>"
      ]
     },
     "metadata": {
      "needs_background": "light"
     },
     "output_type": "display_data"
    }
   ],
   "source": [
    "# график «ящик с усами» по глобальным продажам игр в разбивке по платформам\n",
    "data_2014_2016.boxplot(by='platform', column ='sum_sales', vert = False, figsize=(15, 8));\n",
    "\n"
   ]
  },
  {
   "cell_type": "code",
   "execution_count": 73,
   "metadata": {},
   "outputs": [
    {
     "data": {
      "image/png": "[encoded data removed]",
      "text/plain": [
       "<Figure size 1080x576 with 1 Axes>"
      ]
     },
     "metadata": {
      "needs_background": "light"
     },
     "output_type": "display_data"
    }
   ],
   "source": [
    "# график «ящик с усами» по глобальным продажам игр в разбивке по платформам\n",
    "data_2014_2016.boxplot(by='platform', column ='sum_sales', vert = False, figsize=(15, 8), showfliers=False);\n"
   ]
  },
  {
   "cell_type": "markdown",
   "metadata": {
    "scrolled": true
   },
   "source": [
    "**Описания диаграммы \"Ящик с усами\":**\n",
    "- Данные по продажам плотно сгруппированы;\n",
    "- Распределение несимметрично;\n",
    "- Существуют выбрасы;\n",
    "- Смещены вправо.\n"
   ]
  },
  {
   "cell_type": "markdown",
   "metadata": {},
   "source": [
    "### Влияние на продажи платформы РS4 отзывов пользователей и критиков"
   ]
  },
  {
   "cell_type": "code",
   "execution_count": 74,
   "metadata": {
    "scrolled": true
   },
   "outputs": [
    {
     "data": {
      "image/png": "[encoded data removed]",
      "text/plain": [
       "<Figure size 432x288 with 1 Axes>"
      ]
     },
     "metadata": {
      "needs_background": "light"
     },
     "output_type": "display_data"
    },
    {
     "name": "stdout",
     "output_type": "stream",
     "text": [
      "Коэфициент корреляции:  -0.040131589472697356\n"
     ]
    }
   ],
   "source": [
    "# График зависимости количества продаж от оценок пользователей\n",
    "df = data_2014_2016.query('platform == \"PS4\" and user_score > 0')\n",
    "#display(data_2014_2016.query('platform == \"PS4\" and user_score > 0').plot(x='user_score', y = 'sum_sales', kind = 'scatter'))\n",
    "df.plot(x='user_score', y = 'sum_sales', kind = 'scatter', title = 'График зависимости продаж от оценок пользователей'),\\\n",
    "plt.show()\n",
    "# Коэффициент корреляции \n",
    "print('Коэфициент корреляции: ', np.corrcoef(df['user_score'], df['sum_sales'])[0,1])"
   ]
  },
  {
   "cell_type": "code",
   "execution_count": 75,
   "metadata": {},
   "outputs": [
    {
     "data": {
      "image/png": "[encoded data removed]",
      "text/plain": [
       "<Figure size 432x288 with 1 Axes>"
      ]
     },
     "metadata": {
      "needs_background": "light"
     },
     "output_type": "display_data"
    },
    {
     "name": "stdout",
     "output_type": "stream",
     "text": [
      "Коэфициент корреляции:  0.40266141068104083\n"
     ]
    }
   ],
   "source": [
    "# График зависимости количества продаж от оценок пользователей\n",
    "df = data_2014_2016.query('platform == \"PS4\" and critic_score > 0')\n",
    "df.plot(x='critic_score', y = 'sum_sales', kind = 'scatter', title = 'График зависимости продаж от оценок критиков'),\\\n",
    "plt.show()\n",
    "# Коэффициент корреляции \n",
    "print('Коэфициент корреляции: ', np.corrcoef(df['critic_score'], df['sum_sales'])[0,1])"
   ]
  },
  {
   "cell_type": "markdown",
   "metadata": {},
   "source": [
    "**Коэфффициент корреляции:**\n",
    "- между количеством продаж и оценок пользователей равен -0.04 -связь слабая, отрицательная. Данное значение указывает на отсутвтвие зависимости между данными;\n",
    "- между количеством продаж и оценок критиков равен 0.4 - связь ниже среднего, положительная. Зависимость есть но не сильная.\n"
   ]
  },
  {
   "cell_type": "code",
   "execution_count": 76,
   "metadata": {
    "scrolled": true
   },
   "outputs": [],
   "source": [
    "# Функция поиска зависимости количества продаж от оценок пользователей и критиков\n",
    "def func_corr(platformi):\n",
    "    df_1 = data_2014_2016.query('platform == @platformi and user_score > 0')\n",
    "    df_1.plot(x='user_score', y = 'sum_sales', kind = 'scatter',\\\n",
    "              title = 'График зависимости продаж от оценок пользователей'),\\\n",
    "    plt.show()\n",
    "    \n",
    "              \n",
    "    # Коэффициент корреляции \n",
    "    print('Коэфициент корреляции: ', np.corrcoef(df_1['user_score'], df_1['sum_sales'])[0,1])\n",
    "    \n",
    "    df_2 = data_2014_2016.query('platform == @platformi and critic_score > 0')\n",
    "    df_2.plot(x='critic_score', y = 'sum_sales', kind = 'scatter', \\\n",
    "             title = 'График зависимости продаж от оценок критиков'),\n",
    "    plt.show()\n",
    "   \n",
    "    # Коэффициент корреляции \n",
    "    print('Коэфициент корреляции: ', np.corrcoef(df_2['critic_score'], df_2['sum_sales'])[0,1])"
   ]
  },
  {
   "cell_type": "code",
   "execution_count": 77,
   "metadata": {
    "scrolled": true
   },
   "outputs": [
    {
     "data": {
      "image/png": "[encoded data removed]",
      "text/plain": [
       "<Figure size 432x288 with 1 Axes>"
      ]
     },
     "metadata": {
      "needs_background": "light"
     },
     "output_type": "display_data"
    },
    {
     "name": "stdout",
     "output_type": "stream",
     "text": [
      "Коэфициент корреляции:  -0.16676141347662118\n"
     ]
    },
    {
     "data": {
      "image/png": "[encoded data removed]",
      "text/plain": [
       "<Figure size 432x288 with 1 Axes>"
      ]
     },
     "metadata": {
      "needs_background": "light"
     },
     "output_type": "display_data"
    },
    {
     "name": "stdout",
     "output_type": "stream",
     "text": [
      "Коэфициент корреляции:  0.44657460493190704\n"
     ]
    }
   ],
   "source": [
    "# График зависимости продаж от оценок пользователей и критиков, коэффициента корреляр \n",
    "func_corr('PS3')\n"
   ]
  },
  {
   "cell_type": "code",
   "execution_count": 78,
   "metadata": {},
   "outputs": [
    {
     "data": {
      "image/png": "[encoded data removed]",
      "text/plain": [
       "<Figure size 432x288 with 1 Axes>"
      ]
     },
     "metadata": {
      "needs_background": "light"
     },
     "output_type": "display_data"
    },
    {
     "name": "stdout",
     "output_type": "stream",
     "text": [
      "Коэфициент корреляции:  -0.0703839280647581\n"
     ]
    },
    {
     "data": {
      "image/png": "[encoded data removed]",
      "text/plain": [
       "<Figure size 432x288 with 1 Axes>"
      ]
     },
     "metadata": {
      "needs_background": "light"
     },
     "output_type": "display_data"
    },
    {
     "name": "stdout",
     "output_type": "stream",
     "text": [
      "Коэфициент корреляции:  0.42867694370333226\n"
     ]
    }
   ],
   "source": [
    "func_corr('XOne')"
   ]
  },
  {
   "cell_type": "markdown",
   "metadata": {
    "scrolled": true
   },
   "source": [
    "**Проведена дополнительная проверка двух платформ для нахождения коэффициента корреляции. Проверка показала:**\n",
    "- корреляция между оценками пользователей и количеством продаж отсутствует на всех платформах;\n",
    "- корреляция между оценками критиков  и количеством продаж существует, но она не очень сильная."
   ]
  },
  {
   "cell_type": "markdown",
   "metadata": {},
   "source": [
    "### Общее распределение игр по жанрам. "
   ]
  },
  {
   "cell_type": "code",
   "execution_count": 79,
   "metadata": {},
   "outputs": [
    {
     "data": {
      "image/png": "[encoded data removed]",
      "text/plain": [
       "<Figure size 1080x576 with 1 Axes>"
      ]
     },
     "metadata": {
      "needs_background": "light"
     },
     "output_type": "display_data"
    }
   ],
   "source": [
    "# График для оценки медианых продаж по жанрам\n",
    "data_2014_2016.boxplot(by='genre', column ='sum_sales', vert = False, figsize=(15, 8), showfliers=False);"
   ]
  },
  {
   "cell_type": "markdown",
   "metadata": {},
   "source": [
    "Cамыми прибыльными жанрами являются Shooter, Sport. Самыми низкими продажами являются игры жанров Adventure, Puzzle."
   ]
  },
  {
   "cell_type": "markdown",
   "metadata": {},
   "source": [
    "## Портрет пользователя каждого региона"
   ]
  },
  {
   "cell_type": "markdown",
   "metadata": {},
   "source": [
    "Определите для пользователя каждого региона (NA, EU, JP):\n",
    "Самые популярные платформы (топ-5). Опишите различия в долях продаж.\n",
    "Самые популярные жанры (топ-5). Поясните разницу.\n",
    "Влияет ли рейтинг ESRB на продажи в отдельном регионе?"
   ]
  },
  {
   "cell_type": "code",
   "execution_count": 80,
   "metadata": {},
   "outputs": [],
   "source": [
    "# Функция, которая строит в зависимости от региона три сводные таблицы с ТОП-5 популярных платформ, ТОП-5 попурных жанров,\n",
    "# зависимость продажи от рейтинг ESRB.Строит по сводным таблицам круговые диаграммы.  \n",
    "\n",
    "def func_country(country):\n",
    "    # Сводная таблица  ТОП-5 платформы в кокретном регионе.\n",
    "    country_sales_platform=pd.pivot_table(data_2014_2016,index=['platform'],values=[country], aggfunc='sum')\\\n",
    "                    .sort_values(by=country, ascending=False).head()\n",
    "    display(country_sales_platform)\n",
    "    \n",
    "    # место размещения графика\n",
    "    plt.subplot(3, 3, 1)\n",
    "    # График ТОП-5 платформ в кокретном регионе в процентах\n",
    "    country_sales_platform [country].plot(kind='pie', figsize=(15,15),\n",
    "                autopct='%1.1f%%',\n",
    "                shadow=True);\n",
    "    \n",
    "    \n",
    "    # Сводная таблица для определения  ТОП-5 жанров в кокретном регионе.\n",
    "    country_sales_genre=pd.pivot_table(data_2014_2016,index=['genre'],values=[country], aggfunc='sum')\\\n",
    "                    .sort_values(by=country, ascending=False).head()\n",
    "    display(country_sales_genre)\n",
    "    \n",
    "    # место размещения графика\n",
    "    plt.subplot(3, 3, 2)\n",
    "    # График ТОП-5 популярных жанров в кокретном регионе\n",
    "    country_sales_genre [country].plot(kind='pie', figsize=(15,15),\n",
    "                autopct='%1.1f%%',\n",
    "                shadow=True);\n",
    "    \n",
    "    # Сводная таблица рейтинг ESRB и продаж в конкретном регионе.\n",
    "    country_sales_genre=pd.pivot_table(data_2014_2016,index=['rating'],values=[country], aggfunc='sum')\\\n",
    "                    .sort_values(by=country, ascending=False)\n",
    "    display(country_sales_genre)\n",
    "    \n",
    "    # место размещения графика\n",
    "    plt.subplot(3, 3, 3)\n",
    "    # График ТОП-5 популярных жанров в кокретном регионе\n",
    "    country_sales_genre [country].plot(kind='pie', figsize=(15,15),\n",
    "                autopct='%1.1f%%',\n",
    "                shadow=True);    \n",
    "\n",
    "   "
   ]
  },
  {
   "cell_type": "code",
   "execution_count": 81,
   "metadata": {
    "scrolled": true
   },
   "outputs": [
    {
     "data": {
      "text/html": [
       "<div>\n",
       "<style scoped>\n",
       "    .dataframe tbody tr th:only-of-type {\n",
       "        vertical-align: middle;\n",
       "    }\n",
       "\n",
       "    .dataframe tbody tr th {\n",
       "        vertical-align: top;\n",
       "    }\n",
       "\n",
       "    .dataframe thead th {\n",
       "        text-align: right;\n",
       "    }\n",
       "</style>\n",
       "<table border=\"1\" class=\"dataframe\">\n",
       "  <thead>\n",
       "    <tr style=\"text-align: right;\">\n",
       "      <th></th>\n",
       "      <th>na_sales</th>\n",
       "    </tr>\n",
       "    <tr>\n",
       "      <th>platform</th>\n",
       "      <th></th>\n",
       "    </tr>\n",
       "  </thead>\n",
       "  <tbody>\n",
       "    <tr>\n",
       "      <th>PS4</th>\n",
       "      <td>98.61</td>\n",
       "    </tr>\n",
       "    <tr>\n",
       "      <th>XOne</th>\n",
       "      <td>81.27</td>\n",
       "    </tr>\n",
       "    <tr>\n",
       "      <th>X360</th>\n",
       "      <td>28.30</td>\n",
       "    </tr>\n",
       "    <tr>\n",
       "      <th>3DS</th>\n",
       "      <td>22.64</td>\n",
       "    </tr>\n",
       "    <tr>\n",
       "      <th>PS3</th>\n",
       "      <td>22.05</td>\n",
       "    </tr>\n",
       "  </tbody>\n",
       "</table>\n",
       "</div>"
      ],
      "text/plain": [
       "          na_sales\n",
       "platform          \n",
       "PS4          98.61\n",
       "XOne         81.27\n",
       "X360         28.30\n",
       "3DS          22.64\n",
       "PS3          22.05"
      ]
     },
     "metadata": {},
     "output_type": "display_data"
    },
    {
     "data": {
      "text/html": [
       "<div>\n",
       "<style scoped>\n",
       "    .dataframe tbody tr th:only-of-type {\n",
       "        vertical-align: middle;\n",
       "    }\n",
       "\n",
       "    .dataframe tbody tr th {\n",
       "        vertical-align: top;\n",
       "    }\n",
       "\n",
       "    .dataframe thead th {\n",
       "        text-align: right;\n",
       "    }\n",
       "</style>\n",
       "<table border=\"1\" class=\"dataframe\">\n",
       "  <thead>\n",
       "    <tr style=\"text-align: right;\">\n",
       "      <th></th>\n",
       "      <th>na_sales</th>\n",
       "    </tr>\n",
       "    <tr>\n",
       "      <th>genre</th>\n",
       "      <th></th>\n",
       "    </tr>\n",
       "  </thead>\n",
       "  <tbody>\n",
       "    <tr>\n",
       "      <th>Shooter</th>\n",
       "      <td>79.02</td>\n",
       "    </tr>\n",
       "    <tr>\n",
       "      <th>Action</th>\n",
       "      <td>72.53</td>\n",
       "    </tr>\n",
       "    <tr>\n",
       "      <th>Sports</th>\n",
       "      <td>46.13</td>\n",
       "    </tr>\n",
       "    <tr>\n",
       "      <th>Role-Playing</th>\n",
       "      <td>33.47</td>\n",
       "    </tr>\n",
       "    <tr>\n",
       "      <th>Misc</th>\n",
       "      <td>15.05</td>\n",
       "    </tr>\n",
       "  </tbody>\n",
       "</table>\n",
       "</div>"
      ],
      "text/plain": [
       "              na_sales\n",
       "genre                 \n",
       "Shooter          79.02\n",
       "Action           72.53\n",
       "Sports           46.13\n",
       "Role-Playing     33.47\n",
       "Misc             15.05"
      ]
     },
     "metadata": {},
     "output_type": "display_data"
    },
    {
     "data": {
      "text/html": [
       "<div>\n",
       "<style scoped>\n",
       "    .dataframe tbody tr th:only-of-type {\n",
       "        vertical-align: middle;\n",
       "    }\n",
       "\n",
       "    .dataframe tbody tr th {\n",
       "        vertical-align: top;\n",
       "    }\n",
       "\n",
       "    .dataframe thead th {\n",
       "        text-align: right;\n",
       "    }\n",
       "</style>\n",
       "<table border=\"1\" class=\"dataframe\">\n",
       "  <thead>\n",
       "    <tr style=\"text-align: right;\">\n",
       "      <th></th>\n",
       "      <th>na_sales</th>\n",
       "    </tr>\n",
       "    <tr>\n",
       "      <th>rating</th>\n",
       "      <th></th>\n",
       "    </tr>\n",
       "  </thead>\n",
       "  <tbody>\n",
       "    <tr>\n",
       "      <th>M</th>\n",
       "      <td>96.42</td>\n",
       "    </tr>\n",
       "    <tr>\n",
       "      <th>unknown</th>\n",
       "      <td>64.72</td>\n",
       "    </tr>\n",
       "    <tr>\n",
       "      <th>E</th>\n",
       "      <td>50.74</td>\n",
       "    </tr>\n",
       "    <tr>\n",
       "      <th>T</th>\n",
       "      <td>38.95</td>\n",
       "    </tr>\n",
       "    <tr>\n",
       "      <th>E10+</th>\n",
       "      <td>33.23</td>\n",
       "    </tr>\n",
       "  </tbody>\n",
       "</table>\n",
       "</div>"
      ],
      "text/plain": [
       "         na_sales\n",
       "rating           \n",
       "M           96.42\n",
       "unknown     64.72\n",
       "E           50.74\n",
       "T           38.95\n",
       "E10+        33.23"
      ]
     },
     "metadata": {},
     "output_type": "display_data"
    },
    {
     "data": {
      "image/png": "[encoded data removed]",
      "text/plain": [
       "<Figure size 1080x1080 with 3 Axes>"
      ]
     },
     "metadata": {},
     "output_type": "display_data"
    }
   ],
   "source": [
    "# Америка. Cводные таблицы с ТОП-5 популярных платформ, ТОП-5 попурных жанров,\n",
    "# зависимость продажи от рейтинг ESRB.\n",
    "func_country('na_sales')"
   ]
  },
  {
   "cell_type": "code",
   "execution_count": 82,
   "metadata": {
    "scrolled": true
   },
   "outputs": [
    {
     "data": {
      "text/html": [
       "<div>\n",
       "<style scoped>\n",
       "    .dataframe tbody tr th:only-of-type {\n",
       "        vertical-align: middle;\n",
       "    }\n",
       "\n",
       "    .dataframe tbody tr th {\n",
       "        vertical-align: top;\n",
       "    }\n",
       "\n",
       "    .dataframe thead th {\n",
       "        text-align: right;\n",
       "    }\n",
       "</style>\n",
       "<table border=\"1\" class=\"dataframe\">\n",
       "  <thead>\n",
       "    <tr style=\"text-align: right;\">\n",
       "      <th></th>\n",
       "      <th>eu_sales</th>\n",
       "    </tr>\n",
       "    <tr>\n",
       "      <th>platform</th>\n",
       "      <th></th>\n",
       "    </tr>\n",
       "  </thead>\n",
       "  <tbody>\n",
       "    <tr>\n",
       "      <th>PS4</th>\n",
       "      <td>130.04</td>\n",
       "    </tr>\n",
       "    <tr>\n",
       "      <th>XOne</th>\n",
       "      <td>46.25</td>\n",
       "    </tr>\n",
       "    <tr>\n",
       "      <th>PS3</th>\n",
       "      <td>25.54</td>\n",
       "    </tr>\n",
       "    <tr>\n",
       "      <th>PC</th>\n",
       "      <td>17.97</td>\n",
       "    </tr>\n",
       "    <tr>\n",
       "      <th>3DS</th>\n",
       "      <td>16.12</td>\n",
       "    </tr>\n",
       "  </tbody>\n",
       "</table>\n",
       "</div>"
      ],
      "text/plain": [
       "          eu_sales\n",
       "platform          \n",
       "PS4         130.04\n",
       "XOne         46.25\n",
       "PS3          25.54\n",
       "PC           17.97\n",
       "3DS          16.12"
      ]
     },
     "metadata": {},
     "output_type": "display_data"
    },
    {
     "data": {
      "text/html": [
       "<div>\n",
       "<style scoped>\n",
       "    .dataframe tbody tr th:only-of-type {\n",
       "        vertical-align: middle;\n",
       "    }\n",
       "\n",
       "    .dataframe tbody tr th {\n",
       "        vertical-align: top;\n",
       "    }\n",
       "\n",
       "    .dataframe thead th {\n",
       "        text-align: right;\n",
       "    }\n",
       "</style>\n",
       "<table border=\"1\" class=\"dataframe\">\n",
       "  <thead>\n",
       "    <tr style=\"text-align: right;\">\n",
       "      <th></th>\n",
       "      <th>eu_sales</th>\n",
       "    </tr>\n",
       "    <tr>\n",
       "      <th>genre</th>\n",
       "      <th></th>\n",
       "    </tr>\n",
       "  </thead>\n",
       "  <tbody>\n",
       "    <tr>\n",
       "      <th>Action</th>\n",
       "      <td>74.68</td>\n",
       "    </tr>\n",
       "    <tr>\n",
       "      <th>Shooter</th>\n",
       "      <td>65.52</td>\n",
       "    </tr>\n",
       "    <tr>\n",
       "      <th>Sports</th>\n",
       "      <td>45.73</td>\n",
       "    </tr>\n",
       "    <tr>\n",
       "      <th>Role-Playing</th>\n",
       "      <td>28.17</td>\n",
       "    </tr>\n",
       "    <tr>\n",
       "      <th>Racing</th>\n",
       "      <td>14.13</td>\n",
       "    </tr>\n",
       "  </tbody>\n",
       "</table>\n",
       "</div>"
      ],
      "text/plain": [
       "              eu_sales\n",
       "genre                 \n",
       "Action           74.68\n",
       "Shooter          65.52\n",
       "Sports           45.73\n",
       "Role-Playing     28.17\n",
       "Racing           14.13"
      ]
     },
     "metadata": {},
     "output_type": "display_data"
    },
    {
     "data": {
      "text/html": [
       "<div>\n",
       "<style scoped>\n",
       "    .dataframe tbody tr th:only-of-type {\n",
       "        vertical-align: middle;\n",
       "    }\n",
       "\n",
       "    .dataframe tbody tr th {\n",
       "        vertical-align: top;\n",
       "    }\n",
       "\n",
       "    .dataframe thead th {\n",
       "        text-align: right;\n",
       "    }\n",
       "</style>\n",
       "<table border=\"1\" class=\"dataframe\">\n",
       "  <thead>\n",
       "    <tr style=\"text-align: right;\">\n",
       "      <th></th>\n",
       "      <th>eu_sales</th>\n",
       "    </tr>\n",
       "    <tr>\n",
       "      <th>rating</th>\n",
       "      <th></th>\n",
       "    </tr>\n",
       "  </thead>\n",
       "  <tbody>\n",
       "    <tr>\n",
       "      <th>M</th>\n",
       "      <td>93.44</td>\n",
       "    </tr>\n",
       "    <tr>\n",
       "      <th>unknown</th>\n",
       "      <td>58.95</td>\n",
       "    </tr>\n",
       "    <tr>\n",
       "      <th>E</th>\n",
       "      <td>58.06</td>\n",
       "    </tr>\n",
       "    <tr>\n",
       "      <th>T</th>\n",
       "      <td>34.07</td>\n",
       "    </tr>\n",
       "    <tr>\n",
       "      <th>E10+</th>\n",
       "      <td>26.16</td>\n",
       "    </tr>\n",
       "  </tbody>\n",
       "</table>\n",
       "</div>"
      ],
      "text/plain": [
       "         eu_sales\n",
       "rating           \n",
       "M           93.44\n",
       "unknown     58.95\n",
       "E           58.06\n",
       "T           34.07\n",
       "E10+        26.16"
      ]
     },
     "metadata": {},
     "output_type": "display_data"
    },
    {
     "data": {
      "image/png": "[encoded data removed]",
      "text/plain": [
       "<Figure size 1080x1080 with 3 Axes>"
      ]
     },
     "metadata": {},
     "output_type": "display_data"
    }
   ],
   "source": [
    "# Европа: Cводные таблицы с ТОП-5 популярных платформ, ТОП-5 попурных жанров,\n",
    "# зависимость продажи от рейтинг ESRB.\n",
    "func_country('eu_sales')"
   ]
  },
  {
   "cell_type": "code",
   "execution_count": 83,
   "metadata": {},
   "outputs": [
    {
     "data": {
      "text/html": [
       "<div>\n",
       "<style scoped>\n",
       "    .dataframe tbody tr th:only-of-type {\n",
       "        vertical-align: middle;\n",
       "    }\n",
       "\n",
       "    .dataframe tbody tr th {\n",
       "        vertical-align: top;\n",
       "    }\n",
       "\n",
       "    .dataframe thead th {\n",
       "        text-align: right;\n",
       "    }\n",
       "</style>\n",
       "<table border=\"1\" class=\"dataframe\">\n",
       "  <thead>\n",
       "    <tr style=\"text-align: right;\">\n",
       "      <th></th>\n",
       "      <th>jp_sales</th>\n",
       "    </tr>\n",
       "    <tr>\n",
       "      <th>platform</th>\n",
       "      <th></th>\n",
       "    </tr>\n",
       "  </thead>\n",
       "  <tbody>\n",
       "    <tr>\n",
       "      <th>3DS</th>\n",
       "      <td>44.24</td>\n",
       "    </tr>\n",
       "    <tr>\n",
       "      <th>PS4</th>\n",
       "      <td>15.02</td>\n",
       "    </tr>\n",
       "    <tr>\n",
       "      <th>PSV</th>\n",
       "      <td>14.54</td>\n",
       "    </tr>\n",
       "    <tr>\n",
       "      <th>PS3</th>\n",
       "      <td>11.22</td>\n",
       "    </tr>\n",
       "    <tr>\n",
       "      <th>WiiU</th>\n",
       "      <td>7.31</td>\n",
       "    </tr>\n",
       "  </tbody>\n",
       "</table>\n",
       "</div>"
      ],
      "text/plain": [
       "          jp_sales\n",
       "platform          \n",
       "3DS          44.24\n",
       "PS4          15.02\n",
       "PSV          14.54\n",
       "PS3          11.22\n",
       "WiiU          7.31"
      ]
     },
     "metadata": {},
     "output_type": "display_data"
    },
    {
     "data": {
      "text/html": [
       "<div>\n",
       "<style scoped>\n",
       "    .dataframe tbody tr th:only-of-type {\n",
       "        vertical-align: middle;\n",
       "    }\n",
       "\n",
       "    .dataframe tbody tr th {\n",
       "        vertical-align: top;\n",
       "    }\n",
       "\n",
       "    .dataframe thead th {\n",
       "        text-align: right;\n",
       "    }\n",
       "</style>\n",
       "<table border=\"1\" class=\"dataframe\">\n",
       "  <thead>\n",
       "    <tr style=\"text-align: right;\">\n",
       "      <th></th>\n",
       "      <th>jp_sales</th>\n",
       "    </tr>\n",
       "    <tr>\n",
       "      <th>genre</th>\n",
       "      <th></th>\n",
       "    </tr>\n",
       "  </thead>\n",
       "  <tbody>\n",
       "    <tr>\n",
       "      <th>Role-Playing</th>\n",
       "      <td>31.16</td>\n",
       "    </tr>\n",
       "    <tr>\n",
       "      <th>Action</th>\n",
       "      <td>29.58</td>\n",
       "    </tr>\n",
       "    <tr>\n",
       "      <th>Fighting</th>\n",
       "      <td>6.37</td>\n",
       "    </tr>\n",
       "    <tr>\n",
       "      <th>Misc</th>\n",
       "      <td>5.61</td>\n",
       "    </tr>\n",
       "    <tr>\n",
       "      <th>Shooter</th>\n",
       "      <td>4.87</td>\n",
       "    </tr>\n",
       "  </tbody>\n",
       "</table>\n",
       "</div>"
      ],
      "text/plain": [
       "              jp_sales\n",
       "genre                 \n",
       "Role-Playing     31.16\n",
       "Action           29.58\n",
       "Fighting          6.37\n",
       "Misc              5.61\n",
       "Shooter           4.87"
      ]
     },
     "metadata": {},
     "output_type": "display_data"
    },
    {
     "data": {
      "text/html": [
       "<div>\n",
       "<style scoped>\n",
       "    .dataframe tbody tr th:only-of-type {\n",
       "        vertical-align: middle;\n",
       "    }\n",
       "\n",
       "    .dataframe tbody tr th {\n",
       "        vertical-align: top;\n",
       "    }\n",
       "\n",
       "    .dataframe thead th {\n",
       "        text-align: right;\n",
       "    }\n",
       "</style>\n",
       "<table border=\"1\" class=\"dataframe\">\n",
       "  <thead>\n",
       "    <tr style=\"text-align: right;\">\n",
       "      <th></th>\n",
       "      <th>jp_sales</th>\n",
       "    </tr>\n",
       "    <tr>\n",
       "      <th>rating</th>\n",
       "      <th></th>\n",
       "    </tr>\n",
       "  </thead>\n",
       "  <tbody>\n",
       "    <tr>\n",
       "      <th>unknown</th>\n",
       "      <td>56.90</td>\n",
       "    </tr>\n",
       "    <tr>\n",
       "      <th>T</th>\n",
       "      <td>14.78</td>\n",
       "    </tr>\n",
       "    <tr>\n",
       "      <th>E</th>\n",
       "      <td>8.94</td>\n",
       "    </tr>\n",
       "    <tr>\n",
       "      <th>M</th>\n",
       "      <td>8.01</td>\n",
       "    </tr>\n",
       "    <tr>\n",
       "      <th>E10+</th>\n",
       "      <td>4.46</td>\n",
       "    </tr>\n",
       "  </tbody>\n",
       "</table>\n",
       "</div>"
      ],
      "text/plain": [
       "         jp_sales\n",
       "rating           \n",
       "unknown     56.90\n",
       "T           14.78\n",
       "E            8.94\n",
       "M            8.01\n",
       "E10+         4.46"
      ]
     },
     "metadata": {},
     "output_type": "display_data"
    },
    {
     "data": {
      "image/png": "[encoded data removed]",
      "text/plain": [
       "<Figure size 1080x1080 with 3 Axes>"
      ]
     },
     "metadata": {},
     "output_type": "display_data"
    }
   ],
   "source": [
    "# Япония: Cводные таблицы с ТОП-5 популярных платформ, ТОП-5 попурных жанров,\n",
    "# зависимость продажи от рейтинг ESRB.\n",
    "func_country('jp_sales')"
   ]
  },
  {
   "cell_type": "markdown",
   "metadata": {},
   "source": [
    "### Промежуточный вывод:\n",
    "**1 ТОП-5 популярных платформ по странам:**\n",
    "- Америка - PS4, XOne, X360, 3DS, PS3;\n",
    "- Европа - PS4, XOne, PS3, PC, 3DS;\n",
    "- Япония - 3DS, PS4, PSV, PS3, WiiU.\n",
    "\n",
    "**2 Топ-5 популярных жанров по странам:**\n",
    "- Америка - Shooter, Action, Sports, Role-Playing, Misc;\n",
    "- Европа - Action, Shooter, Sports,Role-Playing, Racing;\n",
    "- Япония - Role-Playing, Action, Fighting, Misc, Shooter.\t\n",
    "\n",
    "**Портреты пользователей Европы и Америки схожи. Они пользуются одинаковыми платформами, самыми популярными являются PS4 и XOne, любимые жанры шутеры и экшен. Отличие только в том, что у американских пользователей есть предпочтение к музыкальным играм, а  у европейцев в топ входят \"гонки\". Портрет японского игрока полностью отличается от европейцев и американцев, т.к. главный игровой жанр - ролевые игры, экшен, и файтинг, а основная консоль - 3DS.  Рейтинг ESRB влияет на европейских и американских игроков, кроме региона - Япония, здесь сумарные продажи у игр без рейтинга выше ( моем случает rating=unknown).**"
   ]
  },
  {
   "cell_type": "markdown",
   "metadata": {},
   "source": [
    "## Проверка гипотез"
   ]
  },
  {
   "cell_type": "markdown",
   "metadata": {},
   "source": [
    "### Гипотеза 1 -Средние пользовательские рейтинги платформ Xbox One и PC одинаковые\n"
   ]
  },
  {
   "cell_type": "markdown",
   "metadata": {},
   "source": [
    "**Нулевая гипотеза: то средние пользовательские рейтинги платформ Xbox One и PC одинаковые. Альтернативная гипотеза: средние пользовательские рейтинги платформ Xbox One и PC неодинаковые. Год исследования - 2014..2016.**"
   ]
  },
  {
   "cell_type": "code",
   "execution_count": 84,
   "metadata": {},
   "outputs": [
    {
     "name": "stdout",
     "output_type": "stream",
     "text": [
      "0.10450507919348513\n",
      "не можем отвергнуть нулевую гипотезу\n"
     ]
    }
   ],
   "source": [
    "# Массив данных с рейтингами пользователей платформ Xbox One\n",
    "xone = data_2014_2016.query('platform == \"XOne\"')['user_score']\n",
    "# Массив данных с рейтингами пользователей платформ PC\n",
    "pc = data_2014_2016.query('platform == \"PC\"')['user_score']\n",
    "\n",
    "alpha = 0.05 # порог принятия верности гипотезы\n",
    "result =st.ttest_ind(xone, pc, nan_policy= 'omit')\n",
    "print (result.pvalue)\n",
    "if result.pvalue > alpha:\n",
    "    print('не можем отвергнуть нулевую гипотезу')\n",
    "else:\n",
    "    print ('отвергаем гипотезу')"
   ]
  },
  {
   "cell_type": "markdown",
   "metadata": {},
   "source": [
    "### Гипотеза 2 - Средние пользовательские рейтинги жанров Action и Sports  разные."
   ]
  },
  {
   "cell_type": "markdown",
   "metadata": {},
   "source": [
    "**Нулевая гипотеза: средние пользовательские рейтинги жанров Action и Sports одинаковые. Альтернативная гипотеза: средние пользовательские рейтинги жанров Action и Sports разные. Год исследования - 2014..2016.**\n"
   ]
  },
  {
   "cell_type": "code",
   "execution_count": 85,
   "metadata": {},
   "outputs": [
    {
     "name": "stdout",
     "output_type": "stream",
     "text": [
      "2.8711147985107304e-19\n",
      "отвергаем гипотезу\n"
     ]
    }
   ],
   "source": [
    "# Массив данных с рейтингами пользователей жанра Action\n",
    "genre_action = data_2014_2016.query('genre == \"Action\"')['user_score']\n",
    "\n",
    "# Массив данных с рейтингами пользователей жанра Sport\n",
    "genre_sport = data_2014_2016.query('genre == \"Sports\"')['user_score']\n",
    "\n",
    "alpha = 0.05 # порог принятия верности гипотезы\n",
    "result =st.ttest_ind(genre_action, genre_sport,  nan_policy= 'omit')\n",
    "print (result.pvalue)\n",
    "if result.pvalue > alpha:\n",
    "    print('не можем отвергнуть нулевую гипотезу')\n",
    "else:\n",
    "    print ('отвергаем гипотезу')"
   ]
  },
  {
   "cell_type": "markdown",
   "metadata": {},
   "source": [
    "**Предварительный вывод:**\n",
    "- Первая гипотеза подтвердилась, вторую гипотезу отвергли. Они были сформированы согласно заданому условия;\n",
    "- Применен критерий о равенстве средних двух генеральных совокупностей"
   ]
  },
  {
   "cell_type": "markdown",
   "metadata": {},
   "source": [
    "## Общий вывод по проекту\n",
    "\n",
    "1.1 Первичный анализ, подготовка данных:\n",
    "- При подготовке данных к анализу в столюцах year_of_release, genre, name были удалены пропуски. Суммарное количество удаленных пропуском не превышает 1,5% от общего числа.\n",
    "- В столбцах critic_score, user_score, rating заменены пропуски на 0. Явной замены для данных значений не нашлось. значение 'tbd' в столбце user_score означает отсутствие оценки на данный момент, так же было замено на 0. Возможно, что издатель не захотел получать рейтинговую оценку ESRB или игра не планировалась выпускаться для региона NA.\n",
    "- Тип данных столбца year_of_release - float был заменен на int64, т.к. в нем находятся целочисленные значения. Тип столбца user_score был заменен на с object на float.\n",
    "\n",
    "1.2 Возможные причины пропусков в столбцах:\n",
    "- пользователи и игроки не захотели ставить оценок играм по личным причинам;\n",
    "- некоторые игры непопулятрны в ряде стран нет продаж, нет продаж - нет оценок;\n",
    "- некоректная работа сборщика;\n",
    "- не получилось считать наименнование игры; \n",
    "\n",
    "2 Исследовательский анализ выполнен:\n",
    "\n",
    "2.1 До 1994 года выпускалось не более 50 игр в год для разных платформ,  Данные находщиеся до 1994 находятся более чем 1,5IQR, их можно не расматривать, они за границами доверительного интервала.\n",
    "2.2 Платформы с самыми большими продажами РS2, X360, PS3, Wii за весь рассотренный период времени. Общая закономерность продажи платформ постепенно угасают с течением времени. Средний срок жизни платформы - 7.7 лет\n",
    "2.3 Для прогнозирования данных о продажах на 2017 актуальный период считаем данные за 2014...2016 года. Далее использовались лишь эти данные для анализа.\n",
    "2.4 Лидирерами продаж в период 2014...2016 являются платформы: PS4, XOne, 3DS, PS3, X360. Наблюдается ежегодное падение суммарных продаж от года к году.\n",
    "2.5 Были проанализирована распределениее продаж по платформам исходя из диаграммы \"Ящик с усами\", получены следующие результаты:\n",
    "- Данные по продажам плотно сгруппированы;\n",
    "- Распределение несимметрично;\n",
    "- Существуют выбрасы;\n",
    "- Смещены вправо.\n",
    "2.6 На самых популярных, с точки зрения продаж, платформах был проведен корреляционный анализ, получили следующие выводы:\n",
    "- корреляция между оценками пользователей и количеством продаж отсутствует. Значение коэф. корреляции около 0 связь слабая, отрицательная;\n",
    "- корреляция между оценками критиков и количеством продаж существует, но она не очень сильная, связь положительная.Значение коэф. корреляции около 0.4.\n",
    "\n",
    "2.7 Cамыми прибыльными жанрами являются Shooter, Sport. Самыми низкими продажами являются игры жанров Adventure, Puzzlе.\n",
    "\n",
    "2.8  Портрет пользователя каждого региона\n",
    "\n",
    "2.8.1 ТОП-5 популярных платформ по странам:\n",
    "- Америка - PS4, XOne, X360, 3DS, PS3;\n",
    "- Европа - PS4, XOne, PS3, PC, 3DS;\n",
    "- Япония - 3DS, PS4, PSV, PS3, WiiU.\n",
    "\n",
    "2.8.2 Топ-5 популярных жанров по странам:\n",
    "- Америка - Shooter, Action, Sports, Role-Playing, Misc;\n",
    "- Европа - Action, Shooter, Sports,Role-Playing, Racing;\n",
    "- Япония - Role-Playing, Action, Fighting, Misc, Shooter.\n",
    "Портреты пользователей Европы и Америки схожи. Они пользуются одинаковыми платформами, самыми популярными являются PS4 и XOne, любимые жанры \"шутеры\" и \"экшен\". Отличие только в том, что у американских пользователей есть предпочтение к музыкальным играм, а у европейцев в топ входят \"гонки\". Портрет японского игрока  отличается от европейцев и американцев, т.к. главный игровой жанр - ролевые игры, экшен, и файтинг, а основная консоль - 3DS. Рейтинг ESRB влияет на европейских и американских игроков, в Японии на данный рейтинг меньше обращают внимание, сумарные продажи игр без рейтинга 61%.\n",
    "\n",
    "3 Проверка гипотез. Был применен критерий о равенстве средних двух генеральных совокупностей.\n",
    "3.1  Первая гипотеза \"Средние пользовательские рейтинги платформ Xbox One и PC одинаковые\" подтвердилась. Сформулирована гипотеза была следующим образом: Если гипотеза будет подтвреждена- то средние пользовательские рейтинги платформ Xbox One и PC одинаковые, а в случае не подтвержения, принимаем альтернативную гипотезу о неравенстве средних. Год исследования - 2014..2016. \n",
    "\n",
    "3.2 Вторая гипотеза \"Средние пользовательские рейтинги жанров Action и Sports разные\" отвергнута. Сформулирована гипотеза была следующим образом: Если гипотеза будет подтвреждена- то средние пользовательские рейтинги жанров Action и Sports разные, а в случае не подтвержения, принимаем альтернативную гипотезу о равенстве средних рейтингов. Год исследования - 2014..2016.\n"
   ]
  }
 ],
 "metadata": {
  "ExecuteTimeLog": [
   {
    "duration": 49,
    "start_time": "2023-01-30T18:38:21.723Z"
   },
   {
    "duration": 437,
    "start_time": "2023-01-30T18:38:27.610Z"
   },
   {
    "duration": 106,
    "start_time": "2023-01-30T18:38:29.225Z"
   },
   {
    "duration": 103,
    "start_time": "2023-01-30T18:38:53.592Z"
   },
   {
    "duration": 30,
    "start_time": "2023-01-30T18:41:32.799Z"
   },
   {
    "duration": 21,
    "start_time": "2023-01-30T18:41:49.900Z"
   },
   {
    "duration": 8,
    "start_time": "2023-01-30T18:42:35.518Z"
   },
   {
    "duration": 10,
    "start_time": "2023-01-30T18:47:00.950Z"
   },
   {
    "duration": 10,
    "start_time": "2023-01-30T18:49:21.801Z"
   },
   {
    "duration": 11,
    "start_time": "2023-01-30T18:51:09.648Z"
   },
   {
    "duration": 84,
    "start_time": "2023-01-30T18:52:18.799Z"
   },
   {
    "duration": 890,
    "start_time": "2023-01-30T18:52:41.432Z"
   },
   {
    "duration": 11,
    "start_time": "2023-01-30T18:53:20.127Z"
   },
   {
    "duration": 7,
    "start_time": "2023-01-30T18:53:29.668Z"
   },
   {
    "duration": 821,
    "start_time": "2023-01-30T18:53:41.606Z"
   },
   {
    "duration": 8,
    "start_time": "2023-01-30T18:53:50.343Z"
   },
   {
    "duration": 33,
    "start_time": "2023-01-30T18:59:10.669Z"
   },
   {
    "duration": 17,
    "start_time": "2023-01-30T18:59:23.149Z"
   },
   {
    "duration": 29,
    "start_time": "2023-01-30T18:59:39.580Z"
   },
   {
    "duration": 12,
    "start_time": "2023-01-30T19:00:00.202Z"
   },
   {
    "duration": 10,
    "start_time": "2023-01-30T19:00:07.857Z"
   },
   {
    "duration": 7,
    "start_time": "2023-01-30T19:06:57.604Z"
   },
   {
    "duration": 10,
    "start_time": "2023-01-30T19:07:07.673Z"
   },
   {
    "duration": 7,
    "start_time": "2023-01-30T19:07:13.349Z"
   },
   {
    "duration": 11,
    "start_time": "2023-01-30T19:07:49.129Z"
   },
   {
    "duration": 8,
    "start_time": "2023-01-30T19:08:10.231Z"
   },
   {
    "duration": 9,
    "start_time": "2023-01-30T19:08:22.977Z"
   },
   {
    "duration": 775,
    "start_time": "2023-01-30T19:10:46.857Z"
   },
   {
    "duration": 13,
    "start_time": "2023-01-30T19:11:12.055Z"
   },
   {
    "duration": 10,
    "start_time": "2023-01-30T19:11:37.408Z"
   },
   {
    "duration": 5,
    "start_time": "2023-01-30T19:13:33.880Z"
   },
   {
    "duration": 9,
    "start_time": "2023-01-30T19:13:53.756Z"
   },
   {
    "duration": 10,
    "start_time": "2023-01-30T19:14:14.515Z"
   },
   {
    "duration": 61,
    "start_time": "2023-01-30T19:14:48.083Z"
   },
   {
    "duration": 47,
    "start_time": "2023-01-30T19:14:58.801Z"
   },
   {
    "duration": 8,
    "start_time": "2023-01-30T19:16:33.724Z"
   },
   {
    "duration": 8,
    "start_time": "2023-01-30T19:17:03.649Z"
   },
   {
    "duration": 5,
    "start_time": "2023-01-30T19:19:18.512Z"
   },
   {
    "duration": 3,
    "start_time": "2023-01-30T19:19:35.112Z"
   },
   {
    "duration": 59,
    "start_time": "2023-01-30T19:20:06.903Z"
   },
   {
    "duration": 10,
    "start_time": "2023-01-30T19:21:35.306Z"
   },
   {
    "duration": 80,
    "start_time": "2023-01-30T19:22:01.566Z"
   },
   {
    "duration": 16,
    "start_time": "2023-01-30T19:22:07.407Z"
   },
   {
    "duration": 17,
    "start_time": "2023-01-30T19:26:51.711Z"
   },
   {
    "duration": 4,
    "start_time": "2023-01-30T19:27:07.065Z"
   },
   {
    "duration": 17,
    "start_time": "2023-01-30T19:27:44.907Z"
   },
   {
    "duration": 752,
    "start_time": "2023-01-30T19:29:46.774Z"
   },
   {
    "duration": 15,
    "start_time": "2023-01-30T19:30:15.105Z"
   },
   {
    "duration": 7,
    "start_time": "2023-01-30T19:33:08.652Z"
   },
   {
    "duration": 4,
    "start_time": "2023-01-30T19:33:41.964Z"
   },
   {
    "duration": 5,
    "start_time": "2023-01-30T19:33:54.147Z"
   },
   {
    "duration": 82,
    "start_time": "2023-01-30T19:35:37.449Z"
   },
   {
    "duration": 64,
    "start_time": "2023-01-30T19:35:41.803Z"
   },
   {
    "duration": 9,
    "start_time": "2023-01-30T19:35:46.242Z"
   },
   {
    "duration": 8,
    "start_time": "2023-01-30T19:35:54.710Z"
   },
   {
    "duration": 8,
    "start_time": "2023-01-30T19:36:11.931Z"
   },
   {
    "duration": 8,
    "start_time": "2023-01-30T19:36:21.572Z"
   },
   {
    "duration": 10,
    "start_time": "2023-01-30T19:36:43.778Z"
   },
   {
    "duration": 59,
    "start_time": "2023-01-30T19:38:52.207Z"
   },
   {
    "duration": 26,
    "start_time": "2023-01-30T19:38:56.432Z"
   },
   {
    "duration": 37,
    "start_time": "2023-01-30T19:39:06.967Z"
   },
   {
    "duration": 10,
    "start_time": "2023-01-30T19:39:14.968Z"
   },
   {
    "duration": 29,
    "start_time": "2023-01-30T19:39:26.600Z"
   },
   {
    "duration": 28,
    "start_time": "2023-01-30T19:39:32.231Z"
   },
   {
    "duration": 27,
    "start_time": "2023-01-30T19:39:51.111Z"
   },
   {
    "duration": 13,
    "start_time": "2023-01-30T19:39:54.953Z"
   },
   {
    "duration": 38,
    "start_time": "2023-01-30T19:40:15.378Z"
   },
   {
    "duration": 20,
    "start_time": "2023-01-30T19:42:31.096Z"
   },
   {
    "duration": 19,
    "start_time": "2023-01-30T19:42:59.639Z"
   },
   {
    "duration": 22,
    "start_time": "2023-01-30T19:43:06.749Z"
   },
   {
    "duration": 9,
    "start_time": "2023-01-30T19:43:44.692Z"
   },
   {
    "duration": 9,
    "start_time": "2023-01-30T19:44:49.097Z"
   },
   {
    "duration": 48,
    "start_time": "2023-01-30T19:50:52.195Z"
   },
   {
    "duration": 56,
    "start_time": "2023-01-30T19:51:12.961Z"
   },
   {
    "duration": 397,
    "start_time": "2023-01-31T17:30:24.619Z"
   },
   {
    "duration": 217,
    "start_time": "2023-01-31T17:30:26.798Z"
   },
   {
    "duration": 15,
    "start_time": "2023-01-31T17:30:35.898Z"
   },
   {
    "duration": 380,
    "start_time": "2023-01-31T17:38:38.093Z"
   },
   {
    "duration": 124,
    "start_time": "2023-01-31T17:39:05.194Z"
   },
   {
    "duration": 128,
    "start_time": "2023-01-31T17:39:58.224Z"
   },
   {
    "duration": 81,
    "start_time": "2023-01-31T17:46:57.940Z"
   },
   {
    "duration": 8,
    "start_time": "2023-01-31T17:50:31.668Z"
   },
   {
    "duration": 129,
    "start_time": "2023-01-31T17:50:54.867Z"
   },
   {
    "duration": 239,
    "start_time": "2023-01-31T17:51:26.786Z"
   },
   {
    "duration": 23,
    "start_time": "2023-01-31T17:57:19.008Z"
   },
   {
    "duration": 21,
    "start_time": "2023-01-31T17:57:51.883Z"
   },
   {
    "duration": 19,
    "start_time": "2023-01-31T17:58:05.525Z"
   },
   {
    "duration": 10,
    "start_time": "2023-01-31T18:00:58.364Z"
   },
   {
    "duration": 72,
    "start_time": "2023-01-31T18:01:17.672Z"
   },
   {
    "duration": 16,
    "start_time": "2023-01-31T18:01:20.474Z"
   },
   {
    "duration": 9,
    "start_time": "2023-01-31T18:01:23.588Z"
   },
   {
    "duration": 6,
    "start_time": "2023-01-31T18:01:59.027Z"
   },
   {
    "duration": 8,
    "start_time": "2023-01-31T18:02:28.952Z"
   },
   {
    "duration": 4,
    "start_time": "2023-01-31T18:02:40.023Z"
   },
   {
    "duration": 162,
    "start_time": "2023-01-31T18:04:11.571Z"
   },
   {
    "duration": 14,
    "start_time": "2023-01-31T18:05:01.765Z"
   },
   {
    "duration": 4,
    "start_time": "2023-01-31T18:06:33.975Z"
   },
   {
    "duration": 12,
    "start_time": "2023-01-31T18:07:04.367Z"
   },
   {
    "duration": 173,
    "start_time": "2023-01-31T18:07:16.835Z"
   },
   {
    "duration": 13,
    "start_time": "2023-01-31T18:07:21.058Z"
   },
   {
    "duration": 11,
    "start_time": "2023-01-31T18:08:50.336Z"
   },
   {
    "duration": 9,
    "start_time": "2023-01-31T18:09:08.462Z"
   },
   {
    "duration": 10,
    "start_time": "2023-01-31T18:10:22.281Z"
   },
   {
    "duration": 162,
    "start_time": "2023-01-31T18:10:49.813Z"
   },
   {
    "duration": 14,
    "start_time": "2023-01-31T18:10:53.534Z"
   },
   {
    "duration": 163,
    "start_time": "2023-01-31T18:11:07.372Z"
   },
   {
    "duration": 12,
    "start_time": "2023-01-31T18:11:14.722Z"
   },
   {
    "duration": 4,
    "start_time": "2023-01-31T18:11:19.128Z"
   },
   {
    "duration": 9,
    "start_time": "2023-01-31T18:16:02.892Z"
   },
   {
    "duration": 175,
    "start_time": "2023-01-31T18:16:17.427Z"
   },
   {
    "duration": 12,
    "start_time": "2023-01-31T18:16:22.075Z"
   },
   {
    "duration": 10,
    "start_time": "2023-01-31T18:19:18.750Z"
   },
   {
    "duration": 8,
    "start_time": "2023-01-31T18:19:50.607Z"
   },
   {
    "duration": 199,
    "start_time": "2023-01-31T18:20:06.676Z"
   },
   {
    "duration": 16,
    "start_time": "2023-01-31T18:20:11.009Z"
   },
   {
    "duration": 10,
    "start_time": "2023-01-31T18:24:49.295Z"
   },
   {
    "duration": 7,
    "start_time": "2023-01-31T18:25:12.034Z"
   },
   {
    "duration": 4,
    "start_time": "2023-01-31T18:29:57.668Z"
   },
   {
    "duration": 9,
    "start_time": "2023-01-31T18:30:01.304Z"
   },
   {
    "duration": 2,
    "start_time": "2023-01-31T18:30:27.988Z"
   },
   {
    "duration": 61,
    "start_time": "2023-01-31T18:30:29.720Z"
   },
   {
    "duration": 15,
    "start_time": "2023-01-31T18:30:30.664Z"
   },
   {
    "duration": 4,
    "start_time": "2023-01-31T18:30:34.769Z"
   },
   {
    "duration": 9,
    "start_time": "2023-01-31T18:30:38.120Z"
   },
   {
    "duration": 3,
    "start_time": "2023-01-31T18:30:53.233Z"
   },
   {
    "duration": 77,
    "start_time": "2023-01-31T18:30:54.824Z"
   },
   {
    "duration": 14,
    "start_time": "2023-01-31T18:30:58.651Z"
   },
   {
    "duration": 6,
    "start_time": "2023-01-31T18:31:30.823Z"
   },
   {
    "duration": 4,
    "start_time": "2023-01-31T18:31:46.344Z"
   },
   {
    "duration": 14,
    "start_time": "2023-01-31T18:31:49.660Z"
   },
   {
    "duration": 6,
    "start_time": "2023-01-31T18:33:15.277Z"
   },
   {
    "duration": 14,
    "start_time": "2023-01-31T18:33:18.549Z"
   },
   {
    "duration": 6,
    "start_time": "2023-01-31T18:33:58.419Z"
   },
   {
    "duration": 14,
    "start_time": "2023-01-31T18:34:12.691Z"
   },
   {
    "duration": 14,
    "start_time": "2023-01-31T18:34:29.136Z"
   },
   {
    "duration": 5,
    "start_time": "2023-01-31T18:44:47.353Z"
   },
   {
    "duration": 881,
    "start_time": "2023-01-31T18:44:58.895Z"
   },
   {
    "duration": 61,
    "start_time": "2023-01-31T18:45:18.494Z"
   },
   {
    "duration": 14,
    "start_time": "2023-01-31T18:45:21.744Z"
   },
   {
    "duration": 7,
    "start_time": "2023-01-31T18:45:29.028Z"
   },
   {
    "duration": 6,
    "start_time": "2023-01-31T18:45:32.803Z"
   },
   {
    "duration": 5,
    "start_time": "2023-01-31T18:45:46.517Z"
   },
   {
    "duration": 20,
    "start_time": "2023-01-31T18:47:16.611Z"
   },
   {
    "duration": 5,
    "start_time": "2023-01-31T19:13:56.107Z"
   },
   {
    "duration": 5,
    "start_time": "2023-01-31T19:14:37.393Z"
   },
   {
    "duration": 5,
    "start_time": "2023-01-31T19:15:57.392Z"
   },
   {
    "duration": 6,
    "start_time": "2023-01-31T19:16:25.309Z"
   },
   {
    "duration": 851,
    "start_time": "2023-02-01T18:09:51.215Z"
   },
   {
    "duration": 235,
    "start_time": "2023-02-01T18:09:52.922Z"
   },
   {
    "duration": 18,
    "start_time": "2023-02-01T18:09:58.256Z"
   },
   {
    "duration": 8,
    "start_time": "2023-02-01T18:10:30.221Z"
   },
   {
    "duration": 3,
    "start_time": "2023-02-01T18:17:37.620Z"
   },
   {
    "duration": 73,
    "start_time": "2023-02-01T18:17:39.617Z"
   },
   {
    "duration": 17,
    "start_time": "2023-02-01T18:17:45.021Z"
   },
   {
    "duration": 5,
    "start_time": "2023-02-01T18:18:30.088Z"
   },
   {
    "duration": 4,
    "start_time": "2023-02-01T18:19:19.068Z"
   },
   {
    "duration": 189,
    "start_time": "2023-02-01T18:20:07.613Z"
   },
   {
    "duration": 7,
    "start_time": "2023-02-01T18:21:18.420Z"
   },
   {
    "duration": 197,
    "start_time": "2023-02-01T18:21:20.682Z"
   },
   {
    "duration": 4,
    "start_time": "2023-02-01T18:23:06.372Z"
   },
   {
    "duration": 183,
    "start_time": "2023-02-01T18:23:08.385Z"
   },
   {
    "duration": 88,
    "start_time": "2023-02-01T18:38:28.669Z"
   },
   {
    "duration": 9,
    "start_time": "2023-02-01T18:39:33.020Z"
   },
   {
    "duration": 14,
    "start_time": "2023-02-01T18:40:27.933Z"
   },
   {
    "duration": 7,
    "start_time": "2023-02-01T18:40:35.897Z"
   },
   {
    "duration": 96,
    "start_time": "2023-02-01T18:40:39.726Z"
   },
   {
    "duration": 4,
    "start_time": "2023-02-01T18:42:54.501Z"
   },
   {
    "duration": 6,
    "start_time": "2023-02-01T18:43:06.387Z"
   },
   {
    "duration": 16,
    "start_time": "2023-02-01T18:43:55.335Z"
   },
   {
    "duration": 16,
    "start_time": "2023-02-01T18:44:28.530Z"
   },
   {
    "duration": 8,
    "start_time": "2023-02-01T18:44:33.213Z"
   },
   {
    "duration": 14,
    "start_time": "2023-02-01T18:44:45.229Z"
   },
   {
    "duration": 14,
    "start_time": "2023-02-01T18:48:41.289Z"
   },
   {
    "duration": 73,
    "start_time": "2023-02-01T18:48:48.326Z"
   },
   {
    "duration": 16,
    "start_time": "2023-02-01T18:48:52.501Z"
   },
   {
    "duration": 3,
    "start_time": "2023-02-01T18:48:56.701Z"
   },
   {
    "duration": 4,
    "start_time": "2023-02-01T18:49:01.728Z"
   },
   {
    "duration": 283,
    "start_time": "2023-02-01T18:49:04.680Z"
   },
   {
    "duration": 14,
    "start_time": "2023-02-01T18:49:08.821Z"
   },
   {
    "duration": 10,
    "start_time": "2023-02-01T18:49:12.933Z"
   },
   {
    "duration": 5,
    "start_time": "2023-02-01T18:49:17.058Z"
   },
   {
    "duration": 855,
    "start_time": "2023-02-01T18:49:46.552Z"
   },
   {
    "duration": 11,
    "start_time": "2023-02-01T18:51:37.825Z"
   },
   {
    "duration": 3,
    "start_time": "2023-02-01T18:51:48.100Z"
   },
   {
    "duration": 66,
    "start_time": "2023-02-01T18:51:49.912Z"
   },
   {
    "duration": 21,
    "start_time": "2023-02-01T18:51:54.932Z"
   },
   {
    "duration": 15,
    "start_time": "2023-02-01T18:52:04.265Z"
   },
   {
    "duration": 5,
    "start_time": "2023-02-01T18:52:09.021Z"
   },
   {
    "duration": 14,
    "start_time": "2023-02-01T18:52:12.395Z"
   },
   {
    "duration": 6,
    "start_time": "2023-02-01T18:52:13.886Z"
   },
   {
    "duration": 7,
    "start_time": "2023-02-01T18:52:14.716Z"
   },
   {
    "duration": 7,
    "start_time": "2023-02-01T18:52:37.051Z"
   },
   {
    "duration": 16,
    "start_time": "2023-02-01T18:52:41.332Z"
   },
   {
    "duration": 14,
    "start_time": "2023-02-01T19:10:07.593Z"
   },
   {
    "duration": 10,
    "start_time": "2023-02-01T19:26:45.698Z"
   },
   {
    "duration": 28,
    "start_time": "2023-02-01T19:27:10.098Z"
   },
   {
    "duration": 22,
    "start_time": "2023-02-01T19:27:18.054Z"
   },
   {
    "duration": 21,
    "start_time": "2023-02-01T19:33:51.410Z"
   },
   {
    "duration": 4,
    "start_time": "2023-02-01T19:34:28.136Z"
   },
   {
    "duration": 72,
    "start_time": "2023-02-01T19:34:28.142Z"
   },
   {
    "duration": 19,
    "start_time": "2023-02-01T19:34:28.216Z"
   },
   {
    "duration": 15,
    "start_time": "2023-02-01T19:34:28.237Z"
   },
   {
    "duration": 12,
    "start_time": "2023-02-01T19:34:28.255Z"
   },
   {
    "duration": 177,
    "start_time": "2023-02-01T19:34:29.657Z"
   },
   {
    "duration": 14,
    "start_time": "2023-02-01T19:34:29.836Z"
   },
   {
    "duration": 6,
    "start_time": "2023-02-01T19:34:29.962Z"
   },
   {
    "duration": 6,
    "start_time": "2023-02-01T19:34:29.971Z"
   },
   {
    "duration": 12,
    "start_time": "2023-02-01T19:34:29.978Z"
   },
   {
    "duration": 13,
    "start_time": "2023-02-01T19:34:29.992Z"
   },
   {
    "duration": 14,
    "start_time": "2023-02-01T19:34:30.007Z"
   },
   {
    "duration": 34,
    "start_time": "2023-02-01T19:34:30.023Z"
   },
   {
    "duration": 2,
    "start_time": "2023-02-01T19:34:30.059Z"
   },
   {
    "duration": 10,
    "start_time": "2023-02-01T19:34:30.063Z"
   },
   {
    "duration": 8,
    "start_time": "2023-02-01T19:34:30.075Z"
   },
   {
    "duration": 11,
    "start_time": "2023-02-01T19:35:10.798Z"
   },
   {
    "duration": 25,
    "start_time": "2023-02-01T19:35:24.101Z"
   },
   {
    "duration": 8,
    "start_time": "2023-02-01T19:42:22.358Z"
   },
   {
    "duration": 10,
    "start_time": "2023-02-01T19:43:18.764Z"
   },
   {
    "duration": 10,
    "start_time": "2023-02-01T19:43:55.553Z"
   },
   {
    "duration": 82,
    "start_time": "2023-02-01T19:45:19.486Z"
   },
   {
    "duration": 4894,
    "start_time": "2023-02-01T19:46:17.284Z"
   },
   {
    "duration": 5504,
    "start_time": "2023-02-01T19:46:29.387Z"
   },
   {
    "duration": 30,
    "start_time": "2023-02-01T19:47:15.115Z"
   },
   {
    "duration": 3917,
    "start_time": "2023-02-01T19:48:01.299Z"
   },
   {
    "duration": 23,
    "start_time": "2023-02-01T20:02:23.562Z"
   },
   {
    "duration": 152,
    "start_time": "2023-02-01T20:02:43.195Z"
   },
   {
    "duration": 74,
    "start_time": "2023-02-01T20:03:30.994Z"
   },
   {
    "duration": 205,
    "start_time": "2023-02-01T20:03:36.893Z"
   },
   {
    "duration": 202,
    "start_time": "2023-02-01T20:06:09.649Z"
   },
   {
    "duration": 189,
    "start_time": "2023-02-01T20:14:17.757Z"
   },
   {
    "duration": 742,
    "start_time": "2023-02-02T17:27:59.791Z"
   },
   {
    "duration": 109,
    "start_time": "2023-02-02T17:28:00.535Z"
   },
   {
    "duration": 13,
    "start_time": "2023-02-02T17:28:00.646Z"
   },
   {
    "duration": 38,
    "start_time": "2023-02-02T17:28:00.661Z"
   },
   {
    "duration": 10,
    "start_time": "2023-02-02T17:28:00.701Z"
   },
   {
    "duration": 179,
    "start_time": "2023-02-02T17:28:00.713Z"
   },
   {
    "duration": 13,
    "start_time": "2023-02-02T17:28:00.894Z"
   },
   {
    "duration": 45,
    "start_time": "2023-02-02T17:28:00.909Z"
   },
   {
    "duration": 21,
    "start_time": "2023-02-02T17:28:00.956Z"
   },
   {
    "duration": 26,
    "start_time": "2023-02-02T17:28:00.979Z"
   },
   {
    "duration": 27,
    "start_time": "2023-02-02T17:28:01.007Z"
   },
   {
    "duration": 34,
    "start_time": "2023-02-02T17:28:01.035Z"
   },
   {
    "duration": 46,
    "start_time": "2023-02-02T17:28:01.070Z"
   },
   {
    "duration": 41,
    "start_time": "2023-02-02T17:28:01.117Z"
   },
   {
    "duration": 194,
    "start_time": "2023-02-02T17:28:01.160Z"
   },
   {
    "duration": 5,
    "start_time": "2023-02-02T17:28:01.356Z"
   },
   {
    "duration": 35,
    "start_time": "2023-02-02T17:28:01.363Z"
   },
   {
    "duration": 176,
    "start_time": "2023-02-02T18:21:38.515Z"
   },
   {
    "duration": 184,
    "start_time": "2023-02-02T18:21:46.828Z"
   },
   {
    "duration": 255,
    "start_time": "2023-02-02T18:22:02.037Z"
   },
   {
    "duration": 192,
    "start_time": "2023-02-02T18:31:31.525Z"
   },
   {
    "duration": 76,
    "start_time": "2023-02-02T18:32:30.505Z"
   },
   {
    "duration": 23,
    "start_time": "2023-02-02T18:48:38.481Z"
   },
   {
    "duration": 74,
    "start_time": "2023-02-02T18:51:15.179Z"
   },
   {
    "duration": 23,
    "start_time": "2023-02-02T18:51:40.724Z"
   },
   {
    "duration": 41,
    "start_time": "2023-02-02T18:58:21.826Z"
   },
   {
    "duration": 21,
    "start_time": "2023-02-02T18:58:35.777Z"
   },
   {
    "duration": 20,
    "start_time": "2023-02-02T19:02:47.843Z"
   },
   {
    "duration": 20,
    "start_time": "2023-02-02T19:03:00.785Z"
   },
   {
    "duration": 295,
    "start_time": "2023-02-02T19:04:30.677Z"
   },
   {
    "duration": 353,
    "start_time": "2023-02-02T19:04:44.059Z"
   },
   {
    "duration": 283,
    "start_time": "2023-02-02T19:04:57.761Z"
   },
   {
    "duration": 282,
    "start_time": "2023-02-02T19:05:19.152Z"
   },
   {
    "duration": 287,
    "start_time": "2023-02-02T19:06:08.647Z"
   },
   {
    "duration": 10,
    "start_time": "2023-02-02T19:10:46.564Z"
   },
   {
    "duration": 542,
    "start_time": "2023-02-02T19:11:37.805Z"
   },
   {
    "duration": 732,
    "start_time": "2023-02-02T19:11:43.195Z"
   },
   {
    "duration": 647,
    "start_time": "2023-02-02T19:12:13.401Z"
   },
   {
    "duration": 777,
    "start_time": "2023-02-02T19:12:40.718Z"
   },
   {
    "duration": 616,
    "start_time": "2023-02-02T19:14:59.264Z"
   },
   {
    "duration": 836,
    "start_time": "2023-02-02T19:15:18.444Z"
   },
   {
    "duration": 283,
    "start_time": "2023-02-02T19:16:08.483Z"
   },
   {
    "duration": 11,
    "start_time": "2023-02-02T19:19:18.229Z"
   },
   {
    "duration": 9,
    "start_time": "2023-02-02T19:19:40.547Z"
   },
   {
    "duration": 12,
    "start_time": "2023-02-02T19:20:15.778Z"
   },
   {
    "duration": 9,
    "start_time": "2023-02-02T19:24:32.854Z"
   },
   {
    "duration": 12,
    "start_time": "2023-02-02T19:27:14.519Z"
   },
   {
    "duration": 15,
    "start_time": "2023-02-02T19:28:03.106Z"
   },
   {
    "duration": 13,
    "start_time": "2023-02-02T19:29:48.619Z"
   },
   {
    "duration": 11,
    "start_time": "2023-02-02T19:30:22.683Z"
   },
   {
    "duration": 16,
    "start_time": "2023-02-02T19:30:40.120Z"
   },
   {
    "duration": 12,
    "start_time": "2023-02-02T19:31:02.924Z"
   },
   {
    "duration": 249,
    "start_time": "2023-02-02T19:34:51.328Z"
   },
   {
    "duration": 249,
    "start_time": "2023-02-02T19:35:04.080Z"
   },
   {
    "duration": 11,
    "start_time": "2023-02-02T19:37:47.778Z"
   },
   {
    "duration": 9,
    "start_time": "2023-02-02T19:38:24.137Z"
   },
   {
    "duration": 10,
    "start_time": "2023-02-02T19:38:48.135Z"
   },
   {
    "duration": 27,
    "start_time": "2023-02-02T19:40:07.213Z"
   },
   {
    "duration": 142,
    "start_time": "2023-02-02T19:41:04.827Z"
   },
   {
    "duration": 13,
    "start_time": "2023-02-02T19:41:40.788Z"
   },
   {
    "duration": 6101,
    "start_time": "2023-02-02T19:42:20.093Z"
   },
   {
    "duration": 1989,
    "start_time": "2023-02-02T19:43:20.304Z"
   },
   {
    "duration": 273,
    "start_time": "2023-02-02T19:43:46.588Z"
   },
   {
    "duration": 45,
    "start_time": "2023-02-02T19:48:13.683Z"
   },
   {
    "duration": 23,
    "start_time": "2023-02-02T19:51:12.486Z"
   },
   {
    "duration": 17,
    "start_time": "2023-02-02T19:51:36.555Z"
   },
   {
    "duration": 117,
    "start_time": "2023-02-02T19:51:49.466Z"
   },
   {
    "duration": 152,
    "start_time": "2023-02-02T19:52:05.865Z"
   },
   {
    "duration": 1226,
    "start_time": "2023-02-03T17:35:30.324Z"
   },
   {
    "duration": 500,
    "start_time": "2023-02-03T17:35:31.552Z"
   },
   {
    "duration": 15,
    "start_time": "2023-02-03T17:35:32.053Z"
   },
   {
    "duration": 13,
    "start_time": "2023-02-03T17:35:32.069Z"
   },
   {
    "duration": 8,
    "start_time": "2023-02-03T17:35:32.084Z"
   },
   {
    "duration": 181,
    "start_time": "2023-02-03T17:35:32.093Z"
   },
   {
    "duration": 13,
    "start_time": "2023-02-03T17:35:32.275Z"
   },
   {
    "duration": 6,
    "start_time": "2023-02-03T17:35:32.289Z"
   },
   {
    "duration": 5,
    "start_time": "2023-02-03T17:35:32.297Z"
   },
   {
    "duration": 15,
    "start_time": "2023-02-03T17:35:32.303Z"
   },
   {
    "duration": 17,
    "start_time": "2023-02-03T17:35:32.319Z"
   },
   {
    "duration": 33,
    "start_time": "2023-02-03T17:35:32.338Z"
   },
   {
    "duration": 23,
    "start_time": "2023-02-03T17:35:32.372Z"
   },
   {
    "duration": 14,
    "start_time": "2023-02-03T17:35:32.398Z"
   },
   {
    "duration": 234,
    "start_time": "2023-02-03T17:35:32.413Z"
   },
   {
    "duration": 28,
    "start_time": "2023-02-03T17:35:32.649Z"
   },
   {
    "duration": 288,
    "start_time": "2023-02-03T17:35:32.679Z"
   },
   {
    "duration": 274,
    "start_time": "2023-02-03T17:35:32.969Z"
   },
   {
    "duration": 201,
    "start_time": "2023-02-03T17:35:33.245Z"
   },
   {
    "duration": 1,
    "start_time": "2023-02-03T17:35:33.448Z"
   },
   {
    "duration": 298,
    "start_time": "2023-02-03T17:39:38.102Z"
   },
   {
    "duration": 329,
    "start_time": "2023-02-03T17:43:53.653Z"
   },
   {
    "duration": 373,
    "start_time": "2023-02-03T17:44:20.597Z"
   },
   {
    "duration": 259,
    "start_time": "2023-02-03T17:44:36.393Z"
   },
   {
    "duration": 14,
    "start_time": "2023-02-03T17:45:02.947Z"
   },
   {
    "duration": 304,
    "start_time": "2023-02-03T17:46:06.625Z"
   },
   {
    "duration": 478,
    "start_time": "2023-02-03T17:49:15.385Z"
   },
   {
    "duration": 16,
    "start_time": "2023-02-03T17:51:30.571Z"
   },
   {
    "duration": 14,
    "start_time": "2023-02-03T17:52:00.589Z"
   },
   {
    "duration": 18,
    "start_time": "2023-02-03T17:52:32.324Z"
   },
   {
    "duration": 14,
    "start_time": "2023-02-03T17:53:18.306Z"
   },
   {
    "duration": 17,
    "start_time": "2023-02-03T17:53:38.504Z"
   },
   {
    "duration": 15,
    "start_time": "2023-02-03T17:54:24.575Z"
   },
   {
    "duration": 330,
    "start_time": "2023-02-03T17:57:17.193Z"
   },
   {
    "duration": 332,
    "start_time": "2023-02-03T17:58:09.563Z"
   },
   {
    "duration": 11,
    "start_time": "2023-02-03T18:04:23.744Z"
   },
   {
    "duration": 208,
    "start_time": "2023-02-03T18:07:46.106Z"
   },
   {
    "duration": 577,
    "start_time": "2023-02-03T18:11:17.995Z"
   },
   {
    "duration": 555,
    "start_time": "2023-02-03T18:20:02.094Z"
   },
   {
    "duration": 10,
    "start_time": "2023-02-03T18:20:58.157Z"
   },
   {
    "duration": 178,
    "start_time": "2023-02-03T18:21:06.071Z"
   },
   {
    "duration": 10,
    "start_time": "2023-02-03T18:21:46.389Z"
   },
   {
    "duration": 8,
    "start_time": "2023-02-03T18:22:03.600Z"
   },
   {
    "duration": 86,
    "start_time": "2023-02-03T18:23:12.584Z"
   },
   {
    "duration": 92,
    "start_time": "2023-02-03T18:23:18.121Z"
   },
   {
    "duration": 24,
    "start_time": "2023-02-03T18:47:25.117Z"
   },
   {
    "duration": 17,
    "start_time": "2023-02-03T18:47:41.908Z"
   },
   {
    "duration": 180,
    "start_time": "2023-02-03T18:51:05.516Z"
   },
   {
    "duration": 18,
    "start_time": "2023-02-03T18:52:24.118Z"
   },
   {
    "duration": 16,
    "start_time": "2023-02-03T18:52:30.100Z"
   },
   {
    "duration": 15,
    "start_time": "2023-02-03T18:52:45.712Z"
   },
   {
    "duration": 179,
    "start_time": "2023-02-03T18:53:47.636Z"
   },
   {
    "duration": 106,
    "start_time": "2023-02-03T18:58:04.749Z"
   },
   {
    "duration": 85,
    "start_time": "2023-02-03T18:58:11.783Z"
   },
   {
    "duration": 86,
    "start_time": "2023-02-03T18:59:28.982Z"
   },
   {
    "duration": 89,
    "start_time": "2023-02-03T18:59:45.856Z"
   },
   {
    "duration": 29,
    "start_time": "2023-02-03T19:17:41.823Z"
   },
   {
    "duration": 183,
    "start_time": "2023-02-03T19:20:30.285Z"
   },
   {
    "duration": 103,
    "start_time": "2023-02-03T19:20:59.493Z"
   },
   {
    "duration": 254,
    "start_time": "2023-02-03T19:21:42.896Z"
   },
   {
    "duration": 111,
    "start_time": "2023-02-03T19:21:50.575Z"
   },
   {
    "duration": 18,
    "start_time": "2023-02-03T19:23:04.921Z"
   },
   {
    "duration": 11,
    "start_time": "2023-02-03T19:23:08.421Z"
   },
   {
    "duration": 45,
    "start_time": "2023-02-03T19:23:21.638Z"
   },
   {
    "duration": 73,
    "start_time": "2023-02-03T19:24:18.089Z"
   },
   {
    "duration": 216,
    "start_time": "2023-02-03T19:24:27.186Z"
   },
   {
    "duration": 7,
    "start_time": "2023-02-03T19:25:17.212Z"
   },
   {
    "duration": 70,
    "start_time": "2023-02-03T19:26:07.509Z"
   },
   {
    "duration": 28,
    "start_time": "2023-02-03T19:26:33.326Z"
   },
   {
    "duration": 101,
    "start_time": "2023-02-03T19:26:46.145Z"
   },
   {
    "duration": 35,
    "start_time": "2023-02-03T19:26:55.528Z"
   },
   {
    "duration": 43,
    "start_time": "2023-02-03T19:27:57.850Z"
   },
   {
    "duration": 37,
    "start_time": "2023-02-03T19:28:03.582Z"
   },
   {
    "duration": 88,
    "start_time": "2023-02-03T19:28:35.701Z"
   },
   {
    "duration": 111,
    "start_time": "2023-02-03T19:28:43.671Z"
   },
   {
    "duration": 138,
    "start_time": "2023-02-03T19:29:36.656Z"
   },
   {
    "duration": 125,
    "start_time": "2023-02-03T19:30:01.295Z"
   },
   {
    "duration": 116,
    "start_time": "2023-02-03T19:30:42.419Z"
   },
   {
    "duration": 136,
    "start_time": "2023-02-03T19:31:00.322Z"
   },
   {
    "duration": 92,
    "start_time": "2023-02-03T19:35:29.080Z"
   },
   {
    "duration": 100,
    "start_time": "2023-02-03T19:35:34.732Z"
   },
   {
    "duration": 103,
    "start_time": "2023-02-03T19:35:40.019Z"
   },
   {
    "duration": 110,
    "start_time": "2023-02-03T19:35:50.877Z"
   },
   {
    "duration": 160,
    "start_time": "2023-02-03T19:36:04.164Z"
   },
   {
    "duration": 177,
    "start_time": "2023-02-03T19:36:11.080Z"
   },
   {
    "duration": 98,
    "start_time": "2023-02-03T19:36:36.083Z"
   },
   {
    "duration": 98,
    "start_time": "2023-02-03T19:38:13.230Z"
   },
   {
    "duration": 12,
    "start_time": "2023-02-03T19:44:58.817Z"
   },
   {
    "duration": 76,
    "start_time": "2023-02-03T19:45:20.577Z"
   },
   {
    "duration": 153,
    "start_time": "2023-02-03T19:45:25.066Z"
   },
   {
    "duration": 167,
    "start_time": "2023-02-03T19:46:52.293Z"
   },
   {
    "duration": 727,
    "start_time": "2023-02-03T19:53:56.517Z"
   },
   {
    "duration": 79,
    "start_time": "2023-02-03T19:55:14.723Z"
   },
   {
    "duration": 73,
    "start_time": "2023-02-03T19:55:26.313Z"
   },
   {
    "duration": 633,
    "start_time": "2023-02-03T19:55:44.213Z"
   },
   {
    "duration": 630,
    "start_time": "2023-02-03T19:56:03.650Z"
   },
   {
    "duration": 720,
    "start_time": "2023-02-03T19:56:39.727Z"
   },
   {
    "duration": 194,
    "start_time": "2023-02-03T19:59:11.696Z"
   },
   {
    "duration": 595,
    "start_time": "2023-02-03T20:00:10.574Z"
   },
   {
    "duration": 736,
    "start_time": "2023-02-03T20:00:18.137Z"
   },
   {
    "duration": 32,
    "start_time": "2023-02-03T20:04:42.436Z"
   },
   {
    "duration": 139,
    "start_time": "2023-02-03T20:06:51.967Z"
   },
   {
    "duration": 11,
    "start_time": "2023-02-03T20:07:57.365Z"
   },
   {
    "duration": 11,
    "start_time": "2023-02-03T20:08:21.496Z"
   },
   {
    "duration": 9,
    "start_time": "2023-02-03T20:09:52.334Z"
   },
   {
    "duration": 10,
    "start_time": "2023-02-03T20:11:14.406Z"
   },
   {
    "duration": 171,
    "start_time": "2023-02-03T20:12:23.576Z"
   },
   {
    "duration": 36,
    "start_time": "2023-02-03T20:13:41.326Z"
   },
   {
    "duration": 41,
    "start_time": "2023-02-03T20:13:55.743Z"
   },
   {
    "duration": 33,
    "start_time": "2023-02-03T20:14:12.004Z"
   },
   {
    "duration": 139,
    "start_time": "2023-02-03T20:14:28.877Z"
   },
   {
    "duration": 142,
    "start_time": "2023-02-03T20:16:03.866Z"
   },
   {
    "duration": 151,
    "start_time": "2023-02-03T20:16:23.803Z"
   },
   {
    "duration": 396,
    "start_time": "2023-02-03T20:18:11.625Z"
   },
   {
    "duration": 86,
    "start_time": "2023-02-03T20:19:58.108Z"
   },
   {
    "duration": 90,
    "start_time": "2023-02-03T20:20:35.007Z"
   },
   {
    "duration": 147,
    "start_time": "2023-02-03T20:20:50.786Z"
   },
   {
    "duration": 154,
    "start_time": "2023-02-03T20:21:09.196Z"
   },
   {
    "duration": 137,
    "start_time": "2023-02-03T20:21:22.188Z"
   },
   {
    "duration": 257,
    "start_time": "2023-02-03T20:22:39.902Z"
   },
   {
    "duration": 159,
    "start_time": "2023-02-03T20:23:08.975Z"
   },
   {
    "duration": 148,
    "start_time": "2023-02-03T20:24:09.581Z"
   },
   {
    "duration": 93,
    "start_time": "2023-02-03T20:24:46.838Z"
   },
   {
    "duration": 91,
    "start_time": "2023-02-03T20:25:12.195Z"
   },
   {
    "duration": 95,
    "start_time": "2023-02-03T20:25:21.982Z"
   },
   {
    "duration": 87,
    "start_time": "2023-02-03T20:25:45.541Z"
   },
   {
    "duration": 1229,
    "start_time": "2023-02-05T09:38:07.091Z"
   },
   {
    "duration": 104,
    "start_time": "2023-02-05T09:38:08.323Z"
   },
   {
    "duration": 13,
    "start_time": "2023-02-05T09:38:08.429Z"
   },
   {
    "duration": 13,
    "start_time": "2023-02-05T09:38:08.444Z"
   },
   {
    "duration": 4,
    "start_time": "2023-02-05T09:38:08.458Z"
   },
   {
    "duration": 186,
    "start_time": "2023-02-05T09:38:08.463Z"
   },
   {
    "duration": 14,
    "start_time": "2023-02-05T09:38:08.650Z"
   },
   {
    "duration": 6,
    "start_time": "2023-02-05T09:38:08.665Z"
   },
   {
    "duration": 6,
    "start_time": "2023-02-05T09:38:08.673Z"
   },
   {
    "duration": 8,
    "start_time": "2023-02-05T09:38:08.681Z"
   },
   {
    "duration": 14,
    "start_time": "2023-02-05T09:38:08.690Z"
   },
   {
    "duration": 45,
    "start_time": "2023-02-05T09:38:08.706Z"
   },
   {
    "duration": 21,
    "start_time": "2023-02-05T09:38:08.752Z"
   },
   {
    "duration": 13,
    "start_time": "2023-02-05T09:38:08.775Z"
   },
   {
    "duration": 216,
    "start_time": "2023-02-05T09:38:08.790Z"
   },
   {
    "duration": 95,
    "start_time": "2023-02-05T09:38:09.007Z"
   },
   {
    "duration": 21,
    "start_time": "2023-02-05T09:38:09.103Z"
   },
   {
    "duration": 515,
    "start_time": "2023-02-05T09:38:09.137Z"
   },
   {
    "duration": 290,
    "start_time": "2023-02-05T09:38:09.653Z"
   },
   {
    "duration": 297,
    "start_time": "2023-02-05T09:38:09.944Z"
   },
   {
    "duration": 396,
    "start_time": "2023-02-05T09:38:10.242Z"
   },
   {
    "duration": 334,
    "start_time": "2023-02-05T09:38:10.640Z"
   },
   {
    "duration": 12,
    "start_time": "2023-02-05T09:38:10.975Z"
   },
   {
    "duration": 16,
    "start_time": "2023-02-05T09:38:10.989Z"
   },
   {
    "duration": 34,
    "start_time": "2023-02-05T09:38:11.006Z"
   },
   {
    "duration": 175,
    "start_time": "2023-02-05T09:38:11.042Z"
   },
   {
    "duration": 31,
    "start_time": "2023-02-05T09:38:11.219Z"
   },
   {
    "duration": 724,
    "start_time": "2023-02-05T09:38:11.253Z"
   },
   {
    "duration": 99,
    "start_time": "2023-02-05T09:38:11.979Z"
   },
   {
    "duration": 97,
    "start_time": "2023-02-05T09:38:12.080Z"
   },
   {
    "duration": 99,
    "start_time": "2023-02-05T09:38:12.179Z"
   },
   {
    "duration": 101,
    "start_time": "2023-02-05T09:38:12.280Z"
   },
   {
    "duration": 109,
    "start_time": "2023-02-05T09:38:12.383Z"
   },
   {
    "duration": 55,
    "start_time": "2023-02-05T09:38:12.494Z"
   },
   {
    "duration": 3,
    "start_time": "2023-02-05T09:42:17.187Z"
   },
   {
    "duration": 106,
    "start_time": "2023-02-05T09:42:24.258Z"
   },
   {
    "duration": 324,
    "start_time": "2023-02-05T09:42:43.278Z"
   },
   {
    "duration": 202,
    "start_time": "2023-02-05T09:43:26.548Z"
   },
   {
    "duration": 10,
    "start_time": "2023-02-05T09:55:52.963Z"
   },
   {
    "duration": 198,
    "start_time": "2023-02-05T09:55:58.414Z"
   },
   {
    "duration": 201,
    "start_time": "2023-02-05T10:02:25.993Z"
   },
   {
    "duration": 239,
    "start_time": "2023-02-05T10:02:34.220Z"
   },
   {
    "duration": 31,
    "start_time": "2023-02-05T10:13:45.607Z"
   },
   {
    "duration": 4,
    "start_time": "2023-02-05T10:14:30.356Z"
   },
   {
    "duration": 138,
    "start_time": "2023-02-05T10:14:51.236Z"
   },
   {
    "duration": 147,
    "start_time": "2023-02-05T10:15:03.619Z"
   },
   {
    "duration": 202,
    "start_time": "2023-02-05T10:21:42.871Z"
   },
   {
    "duration": 9,
    "start_time": "2023-02-05T10:24:45.178Z"
   },
   {
    "duration": 177,
    "start_time": "2023-02-05T10:26:01.940Z"
   },
   {
    "duration": 163,
    "start_time": "2023-02-05T10:26:20.521Z"
   },
   {
    "duration": 58,
    "start_time": "2023-02-05T10:27:24.089Z"
   },
   {
    "duration": 53,
    "start_time": "2023-02-05T10:27:56.167Z"
   },
   {
    "duration": 137,
    "start_time": "2023-02-05T10:28:25.679Z"
   },
   {
    "duration": 41,
    "start_time": "2023-02-05T10:28:57.270Z"
   },
   {
    "duration": 28,
    "start_time": "2023-02-05T10:29:35.694Z"
   },
   {
    "duration": 132,
    "start_time": "2023-02-05T10:29:58.163Z"
   },
   {
    "duration": 134,
    "start_time": "2023-02-05T10:30:08.148Z"
   },
   {
    "duration": 217,
    "start_time": "2023-02-05T10:31:42.341Z"
   },
   {
    "duration": 114,
    "start_time": "2023-02-05T10:32:01.084Z"
   },
   {
    "duration": 139,
    "start_time": "2023-02-05T10:38:04.682Z"
   },
   {
    "duration": 145,
    "start_time": "2023-02-05T10:38:16.804Z"
   },
   {
    "duration": 139,
    "start_time": "2023-02-05T10:38:30.812Z"
   },
   {
    "duration": 139,
    "start_time": "2023-02-05T10:39:00.354Z"
   },
   {
    "duration": 142,
    "start_time": "2023-02-05T10:44:19.343Z"
   },
   {
    "duration": 240,
    "start_time": "2023-02-05T10:45:35.263Z"
   },
   {
    "duration": 4,
    "start_time": "2023-02-05T11:02:01.603Z"
   },
   {
    "duration": 247,
    "start_time": "2023-02-05T11:02:56.070Z"
   },
   {
    "duration": 10,
    "start_time": "2023-02-05T11:03:24.481Z"
   },
   {
    "duration": 263,
    "start_time": "2023-02-05T11:03:35.789Z"
   },
   {
    "duration": 265,
    "start_time": "2023-02-05T11:04:01.303Z"
   },
   {
    "duration": 257,
    "start_time": "2023-02-05T11:05:03.340Z"
   },
   {
    "duration": 269,
    "start_time": "2023-02-05T11:06:22.174Z"
   },
   {
    "duration": 4,
    "start_time": "2023-02-05T11:07:14.991Z"
   },
   {
    "duration": 272,
    "start_time": "2023-02-05T11:07:17.448Z"
   },
   {
    "duration": 4,
    "start_time": "2023-02-05T11:07:49.736Z"
   },
   {
    "duration": 393,
    "start_time": "2023-02-05T11:07:51.881Z"
   },
   {
    "duration": 4,
    "start_time": "2023-02-05T11:08:07.548Z"
   },
   {
    "duration": 259,
    "start_time": "2023-02-05T11:08:10.087Z"
   },
   {
    "duration": 5,
    "start_time": "2023-02-05T11:08:38.321Z"
   },
   {
    "duration": 4,
    "start_time": "2023-02-05T11:09:36.068Z"
   },
   {
    "duration": 254,
    "start_time": "2023-02-05T11:09:39.401Z"
   },
   {
    "duration": 4,
    "start_time": "2023-02-05T11:10:33.694Z"
   },
   {
    "duration": 285,
    "start_time": "2023-02-05T11:10:36.227Z"
   },
   {
    "duration": 264,
    "start_time": "2023-02-05T11:10:56.031Z"
   },
   {
    "duration": 8,
    "start_time": "2023-02-05T11:12:18.254Z"
   },
   {
    "duration": 50,
    "start_time": "2023-02-05T11:12:24.428Z"
   },
   {
    "duration": 4,
    "start_time": "2023-02-05T11:12:50.310Z"
   },
   {
    "duration": 254,
    "start_time": "2023-02-05T11:12:53.614Z"
   },
   {
    "duration": 54,
    "start_time": "2023-02-05T16:08:57.406Z"
   },
   {
    "duration": 1313,
    "start_time": "2023-02-05T16:09:04.326Z"
   },
   {
    "duration": 117,
    "start_time": "2023-02-05T16:09:05.642Z"
   },
   {
    "duration": 15,
    "start_time": "2023-02-05T16:09:05.767Z"
   },
   {
    "duration": 14,
    "start_time": "2023-02-05T16:09:05.784Z"
   },
   {
    "duration": 7,
    "start_time": "2023-02-05T16:09:05.799Z"
   },
   {
    "duration": 197,
    "start_time": "2023-02-05T16:09:05.807Z"
   },
   {
    "duration": 28,
    "start_time": "2023-02-05T16:09:06.005Z"
   },
   {
    "duration": 8,
    "start_time": "2023-02-05T16:09:06.041Z"
   },
   {
    "duration": 6,
    "start_time": "2023-02-05T16:09:06.051Z"
   },
   {
    "duration": 7,
    "start_time": "2023-02-05T16:09:06.060Z"
   },
   {
    "duration": 18,
    "start_time": "2023-02-05T16:09:06.069Z"
   },
   {
    "duration": 44,
    "start_time": "2023-02-05T16:09:06.089Z"
   },
   {
    "duration": 23,
    "start_time": "2023-02-05T16:09:06.136Z"
   },
   {
    "duration": 16,
    "start_time": "2023-02-05T16:09:06.161Z"
   },
   {
    "duration": 281,
    "start_time": "2023-02-05T16:09:06.179Z"
   },
   {
    "duration": 110,
    "start_time": "2023-02-05T16:09:06.462Z"
   },
   {
    "duration": 19,
    "start_time": "2023-02-05T16:09:06.574Z"
   },
   {
    "duration": 629,
    "start_time": "2023-02-05T16:09:06.594Z"
   },
   {
    "duration": 333,
    "start_time": "2023-02-05T16:09:07.227Z"
   },
   {
    "duration": 414,
    "start_time": "2023-02-05T16:09:07.562Z"
   },
   {
    "duration": 382,
    "start_time": "2023-02-05T16:09:07.978Z"
   },
   {
    "duration": 388,
    "start_time": "2023-02-05T16:09:08.362Z"
   },
   {
    "duration": 14,
    "start_time": "2023-02-05T16:09:08.751Z"
   },
   {
    "duration": 20,
    "start_time": "2023-02-05T16:09:08.766Z"
   },
   {
    "duration": 40,
    "start_time": "2023-02-05T16:09:08.788Z"
   },
   {
    "duration": 246,
    "start_time": "2023-02-05T16:09:08.830Z"
   },
   {
    "duration": 29,
    "start_time": "2023-02-05T16:09:09.078Z"
   },
   {
    "duration": 840,
    "start_time": "2023-02-05T16:09:09.110Z"
   },
   {
    "duration": 313,
    "start_time": "2023-02-05T16:09:09.952Z"
   },
   {
    "duration": 201,
    "start_time": "2023-02-05T16:09:10.267Z"
   },
   {
    "duration": 207,
    "start_time": "2023-02-05T16:09:10.469Z"
   },
   {
    "duration": 5,
    "start_time": "2023-02-05T16:09:10.678Z"
   },
   {
    "duration": 340,
    "start_time": "2023-02-05T16:09:10.684Z"
   },
   {
    "duration": 400,
    "start_time": "2023-02-05T16:09:11.027Z"
   },
   {
    "duration": 23,
    "start_time": "2023-02-05T16:21:03.810Z"
   },
   {
    "duration": 13,
    "start_time": "2023-02-05T16:21:54.544Z"
   },
   {
    "duration": 222,
    "start_time": "2023-02-05T16:22:52.824Z"
   },
   {
    "duration": 5,
    "start_time": "2023-02-05T16:49:11.539Z"
   },
   {
    "duration": 81,
    "start_time": "2023-02-05T16:50:40.098Z"
   },
   {
    "duration": 24,
    "start_time": "2023-02-05T16:50:51.867Z"
   },
   {
    "duration": 7910,
    "start_time": "2023-02-05T16:52:00.193Z"
   },
   {
    "duration": 19,
    "start_time": "2023-02-05T16:57:44.220Z"
   },
   {
    "duration": 251,
    "start_time": "2023-02-05T17:15:13.492Z"
   },
   {
    "duration": 19,
    "start_time": "2023-02-05T17:22:47.994Z"
   },
   {
    "duration": 163,
    "start_time": "2023-02-05T17:23:06.383Z"
   },
   {
    "duration": 7,
    "start_time": "2023-02-05T17:24:54.611Z"
   },
   {
    "duration": 11,
    "start_time": "2023-02-05T17:24:56.640Z"
   },
   {
    "duration": 13,
    "start_time": "2023-02-05T17:25:07.915Z"
   },
   {
    "duration": 12,
    "start_time": "2023-02-05T17:26:12.316Z"
   },
   {
    "duration": 5,
    "start_time": "2023-02-05T17:26:20.378Z"
   },
   {
    "duration": 229,
    "start_time": "2023-02-05T17:26:21.701Z"
   },
   {
    "duration": 7,
    "start_time": "2023-02-05T17:36:18.872Z"
   },
   {
    "duration": 107,
    "start_time": "2023-02-05T17:36:23.020Z"
   },
   {
    "duration": 5,
    "start_time": "2023-02-05T17:36:50.566Z"
   },
   {
    "duration": 241,
    "start_time": "2023-02-05T17:36:53.419Z"
   },
   {
    "duration": 6,
    "start_time": "2023-02-05T17:54:55.204Z"
   },
   {
    "duration": 55,
    "start_time": "2023-02-05T18:04:43.153Z"
   },
   {
    "duration": 5,
    "start_time": "2023-02-05T18:06:17.296Z"
   },
   {
    "duration": 424,
    "start_time": "2023-02-05T18:06:20.407Z"
   },
   {
    "duration": 5,
    "start_time": "2023-02-05T18:06:49.977Z"
   },
   {
    "duration": 243,
    "start_time": "2023-02-05T18:06:53.842Z"
   },
   {
    "duration": 5,
    "start_time": "2023-02-05T18:13:48.464Z"
   },
   {
    "duration": 207,
    "start_time": "2023-02-05T18:16:27.599Z"
   },
   {
    "duration": 56,
    "start_time": "2023-02-05T18:24:19.952Z"
   },
   {
    "duration": 313,
    "start_time": "2023-02-05T18:24:22.563Z"
   },
   {
    "duration": 9,
    "start_time": "2023-02-05T18:25:00.839Z"
   },
   {
    "duration": 521,
    "start_time": "2023-02-05T18:25:03.625Z"
   },
   {
    "duration": 7,
    "start_time": "2023-02-05T18:25:32.279Z"
   },
   {
    "duration": 377,
    "start_time": "2023-02-05T18:25:36.845Z"
   },
   {
    "duration": 6,
    "start_time": "2023-02-05T18:26:18.558Z"
   },
   {
    "duration": 27,
    "start_time": "2023-02-05T18:31:01.851Z"
   },
   {
    "duration": 413,
    "start_time": "2023-02-05T18:31:41.138Z"
   },
   {
    "duration": 395,
    "start_time": "2023-02-05T18:32:59.047Z"
   },
   {
    "duration": 3,
    "start_time": "2023-02-05T19:02:01.552Z"
   },
   {
    "duration": 3,
    "start_time": "2023-02-05T19:13:00.678Z"
   },
   {
    "duration": 620,
    "start_time": "2023-02-05T19:13:26.135Z"
   },
   {
    "duration": 7,
    "start_time": "2023-02-05T19:24:29.844Z"
   },
   {
    "duration": 12,
    "start_time": "2023-02-05T19:24:55.178Z"
   },
   {
    "duration": 31,
    "start_time": "2023-02-05T19:26:53.704Z"
   },
   {
    "duration": 44,
    "start_time": "2023-02-05T19:27:04.357Z"
   },
   {
    "duration": 11,
    "start_time": "2023-02-05T19:27:14.499Z"
   },
   {
    "duration": 27,
    "start_time": "2023-02-05T19:27:41.865Z"
   },
   {
    "duration": 8,
    "start_time": "2023-02-05T19:28:13.986Z"
   },
   {
    "duration": 58,
    "start_time": "2023-02-05T19:28:58.651Z"
   },
   {
    "duration": 13,
    "start_time": "2023-02-05T19:29:03.533Z"
   },
   {
    "duration": 10,
    "start_time": "2023-02-05T19:35:10.159Z"
   },
   {
    "duration": 9,
    "start_time": "2023-02-05T19:36:47.497Z"
   },
   {
    "duration": 12,
    "start_time": "2023-02-05T19:45:17.353Z"
   },
   {
    "duration": 16,
    "start_time": "2023-02-05T19:46:21.627Z"
   },
   {
    "duration": 18,
    "start_time": "2023-02-05T19:46:45.320Z"
   },
   {
    "duration": 14,
    "start_time": "2023-02-05T19:47:12.599Z"
   },
   {
    "duration": 15,
    "start_time": "2023-02-05T19:47:52.346Z"
   },
   {
    "duration": 16,
    "start_time": "2023-02-05T19:48:11.678Z"
   },
   {
    "duration": 5,
    "start_time": "2023-02-05T20:50:41.979Z"
   },
   {
    "duration": 131,
    "start_time": "2023-02-05T20:50:41.986Z"
   },
   {
    "duration": 31,
    "start_time": "2023-02-05T20:50:42.120Z"
   },
   {
    "duration": 19,
    "start_time": "2023-02-05T20:50:42.154Z"
   },
   {
    "duration": 5,
    "start_time": "2023-02-05T20:50:42.176Z"
   },
   {
    "duration": 247,
    "start_time": "2023-02-05T20:50:42.183Z"
   },
   {
    "duration": 31,
    "start_time": "2023-02-05T20:50:42.437Z"
   },
   {
    "duration": 24,
    "start_time": "2023-02-05T20:50:42.470Z"
   },
   {
    "duration": 9,
    "start_time": "2023-02-05T20:50:42.496Z"
   },
   {
    "duration": 51,
    "start_time": "2023-02-05T20:50:42.508Z"
   },
   {
    "duration": 30,
    "start_time": "2023-02-05T20:50:42.561Z"
   },
   {
    "duration": 27,
    "start_time": "2023-02-05T20:50:42.594Z"
   },
   {
    "duration": 78,
    "start_time": "2023-02-05T20:50:42.632Z"
   },
   {
    "duration": 36,
    "start_time": "2023-02-05T20:50:42.715Z"
   },
   {
    "duration": 265,
    "start_time": "2023-02-05T20:50:42.754Z"
   },
   {
    "duration": 119,
    "start_time": "2023-02-05T20:50:43.021Z"
   },
   {
    "duration": 26,
    "start_time": "2023-02-05T20:50:43.142Z"
   },
   {
    "duration": 696,
    "start_time": "2023-02-05T20:50:43.171Z"
   },
   {
    "duration": 464,
    "start_time": "2023-02-05T20:50:43.869Z"
   },
   {
    "duration": 420,
    "start_time": "2023-02-05T20:50:44.334Z"
   },
   {
    "duration": 509,
    "start_time": "2023-02-05T20:50:44.756Z"
   },
   {
    "duration": 490,
    "start_time": "2023-02-05T20:50:45.268Z"
   },
   {
    "duration": 15,
    "start_time": "2023-02-05T20:50:45.760Z"
   },
   {
    "duration": 59,
    "start_time": "2023-02-05T20:50:45.777Z"
   },
   {
    "duration": 20,
    "start_time": "2023-02-05T20:50:45.837Z"
   },
   {
    "duration": 229,
    "start_time": "2023-02-05T20:50:45.859Z"
   },
   {
    "duration": 54,
    "start_time": "2023-02-05T20:50:46.091Z"
   },
   {
    "duration": 1131,
    "start_time": "2023-02-05T20:50:46.150Z"
   },
   {
    "duration": 305,
    "start_time": "2023-02-05T20:50:47.284Z"
   },
   {
    "duration": 351,
    "start_time": "2023-02-05T20:50:47.590Z"
   },
   {
    "duration": 241,
    "start_time": "2023-02-05T20:50:47.943Z"
   },
   {
    "duration": 6,
    "start_time": "2023-02-05T20:50:48.187Z"
   },
   {
    "duration": 394,
    "start_time": "2023-02-05T20:50:48.195Z"
   },
   {
    "duration": 395,
    "start_time": "2023-02-05T20:50:48.592Z"
   },
   {
    "duration": 296,
    "start_time": "2023-02-05T20:50:48.989Z"
   },
   {
    "duration": 7,
    "start_time": "2023-02-05T20:50:49.287Z"
   },
   {
    "duration": 475,
    "start_time": "2023-02-05T20:50:49.296Z"
   },
   {
    "duration": 460,
    "start_time": "2023-02-05T20:50:49.774Z"
   },
   {
    "duration": 549,
    "start_time": "2023-02-05T20:50:50.235Z"
   },
   {
    "duration": 17,
    "start_time": "2023-02-05T20:50:50.786Z"
   },
   {
    "duration": 48,
    "start_time": "2023-02-05T20:50:50.827Z"
   },
   {
    "duration": 1522,
    "start_time": "2023-02-06T10:03:46.161Z"
   },
   {
    "duration": 241,
    "start_time": "2023-02-06T10:03:47.685Z"
   },
   {
    "duration": 13,
    "start_time": "2023-02-06T10:03:47.928Z"
   },
   {
    "duration": 14,
    "start_time": "2023-02-06T10:03:47.943Z"
   },
   {
    "duration": 6,
    "start_time": "2023-02-06T10:03:47.960Z"
   },
   {
    "duration": 206,
    "start_time": "2023-02-06T10:03:47.968Z"
   },
   {
    "duration": 23,
    "start_time": "2023-02-06T10:03:48.175Z"
   },
   {
    "duration": 10,
    "start_time": "2023-02-06T10:03:48.200Z"
   },
   {
    "duration": 11,
    "start_time": "2023-02-06T10:03:48.212Z"
   },
   {
    "duration": 8,
    "start_time": "2023-02-06T10:03:48.224Z"
   },
   {
    "duration": 19,
    "start_time": "2023-02-06T10:03:48.234Z"
   },
   {
    "duration": 17,
    "start_time": "2023-02-06T10:03:48.255Z"
   },
   {
    "duration": 36,
    "start_time": "2023-02-06T10:03:48.291Z"
   },
   {
    "duration": 16,
    "start_time": "2023-02-06T10:03:48.330Z"
   },
   {
    "duration": 271,
    "start_time": "2023-02-06T10:03:48.347Z"
   },
   {
    "duration": 116,
    "start_time": "2023-02-06T10:03:48.620Z"
   },
   {
    "duration": 21,
    "start_time": "2023-02-06T10:03:48.737Z"
   },
   {
    "duration": 646,
    "start_time": "2023-02-06T10:03:48.760Z"
   },
   {
    "duration": 321,
    "start_time": "2023-02-06T10:03:49.410Z"
   },
   {
    "duration": 345,
    "start_time": "2023-02-06T10:03:49.732Z"
   },
   {
    "duration": 413,
    "start_time": "2023-02-06T10:03:50.080Z"
   },
   {
    "duration": 351,
    "start_time": "2023-02-06T10:03:50.495Z"
   },
   {
    "duration": 13,
    "start_time": "2023-02-06T10:03:50.848Z"
   },
   {
    "duration": 41,
    "start_time": "2023-02-06T10:03:50.863Z"
   },
   {
    "duration": 21,
    "start_time": "2023-02-06T10:03:50.906Z"
   },
   {
    "duration": 192,
    "start_time": "2023-02-06T10:03:50.930Z"
   },
   {
    "duration": 23,
    "start_time": "2023-02-06T10:03:51.124Z"
   },
   {
    "duration": 756,
    "start_time": "2023-02-06T10:03:51.149Z"
   },
   {
    "duration": 260,
    "start_time": "2023-02-06T10:03:51.907Z"
   },
   {
    "duration": 176,
    "start_time": "2023-02-06T10:03:52.168Z"
   },
   {
    "duration": 177,
    "start_time": "2023-02-06T10:03:52.346Z"
   },
   {
    "duration": 5,
    "start_time": "2023-02-06T10:03:52.525Z"
   },
   {
    "duration": 303,
    "start_time": "2023-02-06T10:03:52.532Z"
   },
   {
    "duration": 316,
    "start_time": "2023-02-06T10:03:52.837Z"
   },
   {
    "duration": 307,
    "start_time": "2023-02-06T10:03:53.155Z"
   },
   {
    "duration": 6,
    "start_time": "2023-02-06T10:03:53.464Z"
   },
   {
    "duration": 395,
    "start_time": "2023-02-06T10:03:53.472Z"
   },
   {
    "duration": 392,
    "start_time": "2023-02-06T10:03:53.869Z"
   },
   {
    "duration": 397,
    "start_time": "2023-02-06T10:03:54.262Z"
   },
   {
    "duration": 10,
    "start_time": "2023-02-06T10:03:54.661Z"
   },
   {
    "duration": 22,
    "start_time": "2023-02-06T10:03:54.691Z"
   },
   {
    "duration": 152,
    "start_time": "2023-02-06T10:15:42.635Z"
   },
   {
    "duration": 159,
    "start_time": "2023-02-06T10:15:45.353Z"
   },
   {
    "duration": 176,
    "start_time": "2023-02-06T10:16:28.702Z"
   },
   {
    "duration": 177,
    "start_time": "2023-02-06T10:16:43.050Z"
   },
   {
    "duration": 241,
    "start_time": "2023-02-06T10:16:50.998Z"
   },
   {
    "duration": 166,
    "start_time": "2023-02-06T10:16:56.599Z"
   },
   {
    "duration": 5,
    "start_time": "2023-02-06T10:27:22.477Z"
   },
   {
    "duration": 1446,
    "start_time": "2023-02-06T16:42:39.697Z"
   },
   {
    "duration": 134,
    "start_time": "2023-02-06T16:42:41.148Z"
   },
   {
    "duration": 14,
    "start_time": "2023-02-06T16:42:41.284Z"
   },
   {
    "duration": 30,
    "start_time": "2023-02-06T16:42:41.300Z"
   },
   {
    "duration": 20,
    "start_time": "2023-02-06T16:42:41.332Z"
   },
   {
    "duration": 205,
    "start_time": "2023-02-06T16:42:41.354Z"
   },
   {
    "duration": 13,
    "start_time": "2023-02-06T16:42:41.560Z"
   },
   {
    "duration": 6,
    "start_time": "2023-02-06T16:42:41.575Z"
   },
   {
    "duration": 5,
    "start_time": "2023-02-06T16:42:41.582Z"
   },
   {
    "duration": 34,
    "start_time": "2023-02-06T16:42:41.589Z"
   },
   {
    "duration": 39,
    "start_time": "2023-02-06T16:42:41.624Z"
   },
   {
    "duration": 12,
    "start_time": "2023-02-06T16:42:41.665Z"
   },
   {
    "duration": 17,
    "start_time": "2023-02-06T16:42:41.679Z"
   },
   {
    "duration": 31,
    "start_time": "2023-02-06T16:42:41.698Z"
   },
   {
    "duration": 219,
    "start_time": "2023-02-06T16:42:41.735Z"
   },
   {
    "duration": 108,
    "start_time": "2023-02-06T16:42:41.956Z"
   },
   {
    "duration": 20,
    "start_time": "2023-02-06T16:42:42.066Z"
   },
   {
    "duration": 592,
    "start_time": "2023-02-06T16:42:42.088Z"
   },
   {
    "duration": 341,
    "start_time": "2023-02-06T16:42:42.682Z"
   },
   {
    "duration": 371,
    "start_time": "2023-02-06T16:42:43.024Z"
   },
   {
    "duration": 464,
    "start_time": "2023-02-06T16:42:43.397Z"
   },
   {
    "duration": 380,
    "start_time": "2023-02-06T16:42:43.862Z"
   },
   {
    "duration": 13,
    "start_time": "2023-02-06T16:42:44.244Z"
   },
   {
    "duration": 17,
    "start_time": "2023-02-06T16:42:44.258Z"
   },
   {
    "duration": 54,
    "start_time": "2023-02-06T16:42:44.277Z"
   },
   {
    "duration": 198,
    "start_time": "2023-02-06T16:42:44.336Z"
   },
   {
    "duration": 23,
    "start_time": "2023-02-06T16:42:44.540Z"
   },
   {
    "duration": 876,
    "start_time": "2023-02-06T16:42:44.566Z"
   },
   {
    "duration": 295,
    "start_time": "2023-02-06T16:42:45.443Z"
   },
   {
    "duration": 160,
    "start_time": "2023-02-06T16:42:45.740Z"
   },
   {
    "duration": 182,
    "start_time": "2023-02-06T16:42:45.902Z"
   },
   {
    "duration": 5,
    "start_time": "2023-02-06T16:42:46.085Z"
   },
   {
    "duration": 309,
    "start_time": "2023-02-06T16:42:46.091Z"
   },
   {
    "duration": 362,
    "start_time": "2023-02-06T16:42:46.402Z"
   },
   {
    "duration": 369,
    "start_time": "2023-02-06T16:42:46.766Z"
   },
   {
    "duration": 8,
    "start_time": "2023-02-06T16:42:47.139Z"
   },
   {
    "duration": 383,
    "start_time": "2023-02-06T16:42:47.148Z"
   },
   {
    "duration": 370,
    "start_time": "2023-02-06T16:42:47.532Z"
   },
   {
    "duration": 375,
    "start_time": "2023-02-06T16:42:47.909Z"
   },
   {
    "duration": 9,
    "start_time": "2023-02-06T16:42:48.286Z"
   },
   {
    "duration": 35,
    "start_time": "2023-02-06T16:42:48.296Z"
   },
   {
    "duration": 3,
    "start_time": "2023-02-06T16:45:30.671Z"
   },
   {
    "duration": 85,
    "start_time": "2023-02-06T16:45:30.676Z"
   },
   {
    "duration": 15,
    "start_time": "2023-02-06T16:45:30.762Z"
   },
   {
    "duration": 24,
    "start_time": "2023-02-06T16:45:30.779Z"
   },
   {
    "duration": 33,
    "start_time": "2023-02-06T16:45:30.819Z"
   },
   {
    "duration": 221,
    "start_time": "2023-02-06T16:45:30.854Z"
   },
   {
    "duration": 15,
    "start_time": "2023-02-06T16:45:31.077Z"
   },
   {
    "duration": 51,
    "start_time": "2023-02-06T16:45:31.094Z"
   },
   {
    "duration": 9,
    "start_time": "2023-02-06T16:45:31.146Z"
   },
   {
    "duration": 23,
    "start_time": "2023-02-06T16:45:31.156Z"
   },
   {
    "duration": 27,
    "start_time": "2023-02-06T16:45:31.181Z"
   },
   {
    "duration": 64,
    "start_time": "2023-02-06T16:45:31.209Z"
   },
   {
    "duration": 28,
    "start_time": "2023-02-06T16:45:31.277Z"
   },
   {
    "duration": 259,
    "start_time": "2023-02-06T16:45:31.307Z"
   },
   {
    "duration": 103,
    "start_time": "2023-02-06T16:45:31.568Z"
   },
   {
    "duration": 20,
    "start_time": "2023-02-06T16:45:31.673Z"
   },
   {
    "duration": 656,
    "start_time": "2023-02-06T16:45:31.695Z"
   },
   {
    "duration": 429,
    "start_time": "2023-02-06T16:45:32.353Z"
   },
   {
    "duration": 479,
    "start_time": "2023-02-06T16:45:32.784Z"
   },
   {
    "duration": 440,
    "start_time": "2023-02-06T16:45:33.265Z"
   },
   {
    "duration": 457,
    "start_time": "2023-02-06T16:45:33.715Z"
   },
   {
    "duration": 15,
    "start_time": "2023-02-06T16:45:34.175Z"
   },
   {
    "duration": 42,
    "start_time": "2023-02-06T16:45:34.192Z"
   },
   {
    "duration": 36,
    "start_time": "2023-02-06T16:45:34.235Z"
   },
   {
    "duration": 215,
    "start_time": "2023-02-06T16:45:34.273Z"
   },
   {
    "duration": 68,
    "start_time": "2023-02-06T16:45:34.490Z"
   },
   {
    "duration": 904,
    "start_time": "2023-02-06T16:45:34.564Z"
   },
   {
    "duration": 304,
    "start_time": "2023-02-06T16:45:35.470Z"
   },
   {
    "duration": 299,
    "start_time": "2023-02-06T16:45:35.776Z"
   },
   {
    "duration": 189,
    "start_time": "2023-02-06T16:45:36.077Z"
   },
   {
    "duration": 4,
    "start_time": "2023-02-06T16:45:36.268Z"
   },
   {
    "duration": 323,
    "start_time": "2023-02-06T16:45:36.274Z"
   },
   {
    "duration": 436,
    "start_time": "2023-02-06T16:45:36.599Z"
   },
   {
    "duration": 294,
    "start_time": "2023-02-06T16:45:37.048Z"
   },
   {
    "duration": 12,
    "start_time": "2023-02-06T16:45:37.360Z"
   },
   {
    "duration": 441,
    "start_time": "2023-02-06T16:45:37.374Z"
   },
   {
    "duration": 525,
    "start_time": "2023-02-06T16:45:37.821Z"
   },
   {
    "duration": 505,
    "start_time": "2023-02-06T16:45:38.356Z"
   },
   {
    "duration": 12,
    "start_time": "2023-02-06T16:45:38.863Z"
   },
   {
    "duration": 14,
    "start_time": "2023-02-06T16:45:38.878Z"
   },
   {
    "duration": 129,
    "start_time": "2023-02-06T16:46:42.476Z"
   },
   {
    "duration": 11,
    "start_time": "2023-02-06T16:46:53.450Z"
   },
   {
    "duration": 5,
    "start_time": "2023-02-06T16:51:50.189Z"
   },
   {
    "duration": 74,
    "start_time": "2023-02-06T16:57:41.730Z"
   },
   {
    "duration": 43,
    "start_time": "2023-02-06T16:59:34.827Z"
   },
   {
    "duration": 66,
    "start_time": "2023-02-06T17:00:09.509Z"
   },
   {
    "duration": 51,
    "start_time": "2023-02-06T17:02:09.536Z"
   },
   {
    "duration": 5,
    "start_time": "2023-02-06T17:04:38.403Z"
   },
   {
    "duration": 13,
    "start_time": "2023-02-06T17:04:56.268Z"
   },
   {
    "duration": 21,
    "start_time": "2023-02-06T17:07:46.458Z"
   },
   {
    "duration": 25,
    "start_time": "2023-02-06T17:08:04.343Z"
   },
   {
    "duration": 21,
    "start_time": "2023-02-06T17:09:23.328Z"
   },
   {
    "duration": 19,
    "start_time": "2023-02-06T17:09:48.473Z"
   },
   {
    "duration": 66,
    "start_time": "2023-02-06T17:10:12.466Z"
   },
   {
    "duration": 19,
    "start_time": "2023-02-06T17:10:18.140Z"
   },
   {
    "duration": 14,
    "start_time": "2023-02-06T17:10:23.820Z"
   },
   {
    "duration": 4,
    "start_time": "2023-02-06T17:10:29.867Z"
   },
   {
    "duration": 255,
    "start_time": "2023-02-06T17:10:31.884Z"
   },
   {
    "duration": 5,
    "start_time": "2023-02-06T17:10:47.345Z"
   },
   {
    "duration": 20,
    "start_time": "2023-02-06T17:10:51.752Z"
   },
   {
    "duration": 20,
    "start_time": "2023-02-06T17:11:12.429Z"
   },
   {
    "duration": 5,
    "start_time": "2023-02-06T17:13:41.548Z"
   },
   {
    "duration": 19,
    "start_time": "2023-02-06T17:14:03.032Z"
   },
   {
    "duration": 4,
    "start_time": "2023-02-06T17:14:15.944Z"
   },
   {
    "duration": 17,
    "start_time": "2023-02-06T17:14:46.625Z"
   },
   {
    "duration": 98,
    "start_time": "2023-02-06T17:20:47.603Z"
   },
   {
    "duration": 18,
    "start_time": "2023-02-06T17:20:51.281Z"
   },
   {
    "duration": 14,
    "start_time": "2023-02-06T17:20:59.027Z"
   },
   {
    "duration": 5,
    "start_time": "2023-02-06T17:21:05.333Z"
   },
   {
    "duration": 5,
    "start_time": "2023-02-06T17:21:09.572Z"
   },
   {
    "duration": 7,
    "start_time": "2023-02-06T17:21:11.791Z"
   },
   {
    "duration": 9,
    "start_time": "2023-02-06T17:25:34.061Z"
   },
   {
    "duration": 9,
    "start_time": "2023-02-06T17:26:05.165Z"
   },
   {
    "duration": 26,
    "start_time": "2023-02-06T17:28:13.929Z"
   },
   {
    "duration": 16,
    "start_time": "2023-02-06T17:29:36.542Z"
   },
   {
    "duration": 23,
    "start_time": "2023-02-06T17:29:53.200Z"
   },
   {
    "duration": 6,
    "start_time": "2023-02-06T17:30:02.655Z"
   },
   {
    "duration": 14,
    "start_time": "2023-02-06T17:30:22.732Z"
   },
   {
    "duration": 16,
    "start_time": "2023-02-06T17:30:31.071Z"
   },
   {
    "duration": 36,
    "start_time": "2023-02-06T17:32:35.195Z"
   },
   {
    "duration": 327,
    "start_time": "2023-02-06T17:38:01.674Z"
   },
   {
    "duration": 4,
    "start_time": "2023-02-06T17:40:14.796Z"
   },
   {
    "duration": 24,
    "start_time": "2023-02-06T17:41:00.871Z"
   },
   {
    "duration": 4,
    "start_time": "2023-02-06T17:41:13.897Z"
   },
   {
    "duration": 8,
    "start_time": "2023-02-06T17:42:46.336Z"
   },
   {
    "duration": 27,
    "start_time": "2023-02-06T17:45:21.139Z"
   },
   {
    "duration": 6,
    "start_time": "2023-02-06T17:45:27.596Z"
   },
   {
    "duration": 31,
    "start_time": "2023-02-06T17:46:29.498Z"
   },
   {
    "duration": 5,
    "start_time": "2023-02-06T17:46:35.700Z"
   },
   {
    "duration": 44,
    "start_time": "2023-02-06T17:51:40.983Z"
   },
   {
    "duration": 6,
    "start_time": "2023-02-06T17:51:46.954Z"
   },
   {
    "duration": 13,
    "start_time": "2023-02-06T17:52:53.745Z"
   },
   {
    "duration": 5,
    "start_time": "2023-02-06T17:53:06.032Z"
   },
   {
    "duration": 1463,
    "start_time": "2023-02-07T16:39:55.037Z"
   },
   {
    "duration": 213,
    "start_time": "2023-02-07T16:40:01.577Z"
   },
   {
    "duration": 15,
    "start_time": "2023-02-07T16:40:05.827Z"
   },
   {
    "duration": 15,
    "start_time": "2023-02-07T16:40:11.631Z"
   },
   {
    "duration": 4,
    "start_time": "2023-02-07T16:40:15.697Z"
   },
   {
    "duration": 200,
    "start_time": "2023-02-07T16:40:20.839Z"
   },
   {
    "duration": 6,
    "start_time": "2023-02-07T16:40:25.680Z"
   },
   {
    "duration": 28,
    "start_time": "2023-02-07T16:40:29.265Z"
   },
   {
    "duration": 5,
    "start_time": "2023-02-07T16:40:40.209Z"
   },
   {
    "duration": 11,
    "start_time": "2023-02-07T16:40:50.208Z"
   },
   {
    "duration": 5,
    "start_time": "2023-02-07T16:40:54.247Z"
   },
   {
    "duration": 7,
    "start_time": "2023-02-07T16:41:03.921Z"
   },
   {
    "duration": 5,
    "start_time": "2023-02-07T16:42:10.738Z"
   },
   {
    "duration": 17,
    "start_time": "2023-02-07T16:42:12.984Z"
   },
   {
    "duration": 14,
    "start_time": "2023-02-07T16:42:20.470Z"
   },
   {
    "duration": 18,
    "start_time": "2023-02-07T16:42:26.561Z"
   },
   {
    "duration": 16,
    "start_time": "2023-02-07T16:42:35.117Z"
   },
   {
    "duration": 222,
    "start_time": "2023-02-07T16:43:18.960Z"
   },
   {
    "duration": 427,
    "start_time": "2023-02-07T16:43:22.736Z"
   },
   {
    "duration": 106,
    "start_time": "2023-02-07T16:45:28.646Z"
   },
   {
    "duration": 18,
    "start_time": "2023-02-07T16:47:44.061Z"
   },
   {
    "duration": 21,
    "start_time": "2023-02-07T16:48:06.328Z"
   },
   {
    "duration": 678,
    "start_time": "2023-02-07T16:48:34.282Z"
   },
   {
    "duration": 355,
    "start_time": "2023-02-07T16:48:42.503Z"
   },
   {
    "duration": 335,
    "start_time": "2023-02-07T16:48:47.469Z"
   },
   {
    "duration": 403,
    "start_time": "2023-02-07T16:48:51.102Z"
   },
   {
    "duration": 380,
    "start_time": "2023-02-07T16:48:55.468Z"
   },
   {
    "duration": 15,
    "start_time": "2023-02-07T16:48:59.861Z"
   },
   {
    "duration": 1372,
    "start_time": "2023-02-08T14:20:02.881Z"
   },
   {
    "duration": 211,
    "start_time": "2023-02-08T14:20:07.237Z"
   },
   {
    "duration": 15,
    "start_time": "2023-02-08T14:20:10.292Z"
   },
   {
    "duration": 15,
    "start_time": "2023-02-08T14:20:14.569Z"
   },
   {
    "duration": 5,
    "start_time": "2023-02-08T14:20:17.572Z"
   },
   {
    "duration": 170,
    "start_time": "2023-02-08T14:20:20.697Z"
   },
   {
    "duration": 8,
    "start_time": "2023-02-08T14:20:25.015Z"
   },
   {
    "duration": 10,
    "start_time": "2023-02-08T14:20:34.234Z"
   },
   {
    "duration": 7,
    "start_time": "2023-02-08T14:22:31.691Z"
   },
   {
    "duration": 19,
    "start_time": "2023-02-08T14:22:35.465Z"
   },
   {
    "duration": 12,
    "start_time": "2023-02-08T14:22:38.404Z"
   },
   {
    "duration": 14,
    "start_time": "2023-02-08T14:22:43.322Z"
   },
   {
    "duration": 14,
    "start_time": "2023-02-08T14:22:53.815Z"
   },
   {
    "duration": 311,
    "start_time": "2023-02-08T14:23:02.360Z"
   },
   {
    "duration": 88,
    "start_time": "2023-02-08T14:23:18.514Z"
   },
   {
    "duration": 17,
    "start_time": "2023-02-08T14:23:24.500Z"
   },
   {
    "duration": 561,
    "start_time": "2023-02-08T14:23:33.202Z"
   },
   {
    "duration": 290,
    "start_time": "2023-02-08T14:23:44.879Z"
   },
   {
    "duration": 299,
    "start_time": "2023-02-08T14:23:55.123Z"
   },
   {
    "duration": 403,
    "start_time": "2023-02-08T14:23:59.805Z"
   },
   {
    "duration": 336,
    "start_time": "2023-02-08T14:24:01.826Z"
   },
   {
    "duration": 17,
    "start_time": "2023-02-08T14:24:06.436Z"
   },
   {
    "duration": 18,
    "start_time": "2023-02-08T14:24:14.870Z"
   },
   {
    "duration": 14,
    "start_time": "2023-02-08T14:24:18.414Z"
   },
   {
    "duration": 184,
    "start_time": "2023-02-08T14:24:22.757Z"
   },
   {
    "duration": 32,
    "start_time": "2023-02-08T14:24:27.052Z"
   },
   {
    "duration": 771,
    "start_time": "2023-02-08T14:24:33.157Z"
   },
   {
    "duration": 245,
    "start_time": "2023-02-08T14:24:42.364Z"
   },
   {
    "duration": 223,
    "start_time": "2023-02-08T14:25:39.980Z"
   },
   {
    "duration": 73,
    "start_time": "2023-02-08T14:26:49.883Z"
   },
   {
    "duration": 133,
    "start_time": "2023-02-08T14:27:06.504Z"
   },
   {
    "duration": 142,
    "start_time": "2023-02-08T14:29:50.719Z"
   },
   {
    "duration": 218,
    "start_time": "2023-02-08T14:30:04.316Z"
   },
   {
    "duration": 4,
    "start_time": "2023-02-08T14:30:51.620Z"
   },
   {
    "duration": 252,
    "start_time": "2023-02-08T14:30:57.089Z"
   },
   {
    "duration": 294,
    "start_time": "2023-02-08T14:31:05.777Z"
   },
   {
    "duration": 347,
    "start_time": "2023-02-08T14:31:53.840Z"
   },
   {
    "duration": 10,
    "start_time": "2023-02-08T14:32:35.869Z"
   },
   {
    "duration": 344,
    "start_time": "2023-02-08T14:32:55.923Z"
   },
   {
    "duration": 365,
    "start_time": "2023-02-08T14:32:59.471Z"
   },
   {
    "duration": 445,
    "start_time": "2023-02-08T14:33:01.424Z"
   },
   {
    "duration": 13,
    "start_time": "2023-02-08T14:33:55.723Z"
   },
   {
    "duration": 11,
    "start_time": "2023-02-08T14:34:21.208Z"
   },
   {
    "duration": 417,
    "start_time": "2023-02-08T14:35:18.145Z"
   },
   {
    "duration": 3,
    "start_time": "2023-02-08T14:38:34.214Z"
   },
   {
    "duration": 76,
    "start_time": "2023-02-08T14:38:34.220Z"
   },
   {
    "duration": 19,
    "start_time": "2023-02-08T14:38:34.298Z"
   },
   {
    "duration": 35,
    "start_time": "2023-02-08T14:38:34.319Z"
   },
   {
    "duration": 14,
    "start_time": "2023-02-08T14:38:34.356Z"
   },
   {
    "duration": 216,
    "start_time": "2023-02-08T14:38:34.372Z"
   },
   {
    "duration": 11,
    "start_time": "2023-02-08T14:38:34.591Z"
   },
   {
    "duration": 13,
    "start_time": "2023-02-08T14:38:34.604Z"
   },
   {
    "duration": 7,
    "start_time": "2023-02-08T14:38:34.619Z"
   },
   {
    "duration": 36,
    "start_time": "2023-02-08T14:38:34.627Z"
   },
   {
    "duration": 21,
    "start_time": "2023-02-08T14:38:34.671Z"
   },
   {
    "duration": 18,
    "start_time": "2023-02-08T14:38:34.694Z"
   },
   {
    "duration": 13,
    "start_time": "2023-02-08T14:38:34.714Z"
   },
   {
    "duration": 367,
    "start_time": "2023-02-08T14:38:34.729Z"
   },
   {
    "duration": 121,
    "start_time": "2023-02-08T14:38:35.098Z"
   },
   {
    "duration": 20,
    "start_time": "2023-02-08T14:38:35.222Z"
   },
   {
    "duration": 632,
    "start_time": "2023-02-08T14:38:35.247Z"
   },
   {
    "duration": 336,
    "start_time": "2023-02-08T14:38:35.881Z"
   },
   {
    "duration": 418,
    "start_time": "2023-02-08T14:38:36.218Z"
   },
   {
    "duration": 363,
    "start_time": "2023-02-08T14:38:36.639Z"
   },
   {
    "duration": 368,
    "start_time": "2023-02-08T14:38:37.004Z"
   },
   {
    "duration": 12,
    "start_time": "2023-02-08T14:38:37.374Z"
   },
   {
    "duration": 20,
    "start_time": "2023-02-08T14:38:37.388Z"
   },
   {
    "duration": 11,
    "start_time": "2023-02-08T14:38:37.410Z"
   },
   {
    "duration": 188,
    "start_time": "2023-02-08T14:38:37.451Z"
   },
   {
    "duration": 30,
    "start_time": "2023-02-08T14:38:37.640Z"
   },
   {
    "duration": 822,
    "start_time": "2023-02-08T14:38:37.672Z"
   },
   {
    "duration": 246,
    "start_time": "2023-02-08T14:38:38.495Z"
   },
   {
    "duration": 246,
    "start_time": "2023-02-08T14:38:38.749Z"
   },
   {
    "duration": 166,
    "start_time": "2023-02-08T14:38:38.996Z"
   },
   {
    "duration": 212,
    "start_time": "2023-02-08T14:38:39.167Z"
   },
   {
    "duration": 12,
    "start_time": "2023-02-08T14:38:39.381Z"
   },
   {
    "duration": 290,
    "start_time": "2023-02-08T14:38:39.395Z"
   },
   {
    "duration": 294,
    "start_time": "2023-02-08T14:38:39.686Z"
   },
   {
    "duration": 269,
    "start_time": "2023-02-08T14:38:39.982Z"
   },
   {
    "duration": 12,
    "start_time": "2023-02-08T14:38:40.257Z"
   },
   {
    "duration": 344,
    "start_time": "2023-02-08T14:38:40.271Z"
   },
   {
    "duration": 379,
    "start_time": "2023-02-08T14:38:40.617Z"
   },
   {
    "duration": 423,
    "start_time": "2023-02-08T14:38:40.998Z"
   },
   {
    "duration": 9,
    "start_time": "2023-02-08T14:38:41.422Z"
   },
   {
    "duration": 46,
    "start_time": "2023-02-08T14:38:41.433Z"
   },
   {
    "duration": 1399,
    "start_time": "2023-02-08T17:31:04.045Z"
   },
   {
    "duration": 127,
    "start_time": "2023-02-08T17:31:05.446Z"
   },
   {
    "duration": 15,
    "start_time": "2023-02-08T17:31:05.575Z"
   },
   {
    "duration": 25,
    "start_time": "2023-02-08T17:31:05.594Z"
   },
   {
    "duration": 16,
    "start_time": "2023-02-08T17:31:05.622Z"
   },
   {
    "duration": 205,
    "start_time": "2023-02-08T17:31:05.640Z"
   },
   {
    "duration": 7,
    "start_time": "2023-02-08T17:31:05.847Z"
   },
   {
    "duration": 13,
    "start_time": "2023-02-08T17:31:05.856Z"
   },
   {
    "duration": 7,
    "start_time": "2023-02-08T17:31:05.871Z"
   },
   {
    "duration": 23,
    "start_time": "2023-02-08T17:31:05.900Z"
   },
   {
    "duration": 29,
    "start_time": "2023-02-08T17:31:05.925Z"
   },
   {
    "duration": 18,
    "start_time": "2023-02-08T17:31:05.956Z"
   },
   {
    "duration": 27,
    "start_time": "2023-02-08T17:31:05.998Z"
   },
   {
    "duration": 387,
    "start_time": "2023-02-08T17:31:06.027Z"
   },
   {
    "duration": 112,
    "start_time": "2023-02-08T17:31:06.419Z"
   },
   {
    "duration": 21,
    "start_time": "2023-02-08T17:31:06.533Z"
   },
   {
    "duration": 678,
    "start_time": "2023-02-08T17:31:06.556Z"
   },
   {
    "duration": 343,
    "start_time": "2023-02-08T17:31:07.238Z"
   },
   {
    "duration": 336,
    "start_time": "2023-02-08T17:31:07.583Z"
   },
   {
    "duration": 482,
    "start_time": "2023-02-08T17:31:07.921Z"
   },
   {
    "duration": 367,
    "start_time": "2023-02-08T17:31:08.404Z"
   },
   {
    "duration": 28,
    "start_time": "2023-02-08T17:31:08.772Z"
   },
   {
    "duration": 31,
    "start_time": "2023-02-08T17:31:08.810Z"
   },
   {
    "duration": 22,
    "start_time": "2023-02-08T17:31:08.844Z"
   },
   {
    "duration": 200,
    "start_time": "2023-02-08T17:31:08.868Z"
   },
   {
    "duration": 45,
    "start_time": "2023-02-08T17:31:09.070Z"
   },
   {
    "duration": 848,
    "start_time": "2023-02-08T17:31:09.117Z"
   },
   {
    "duration": 292,
    "start_time": "2023-02-08T17:31:09.969Z"
   },
   {
    "duration": 284,
    "start_time": "2023-02-08T17:31:10.263Z"
   },
   {
    "duration": 183,
    "start_time": "2023-02-08T17:31:10.549Z"
   },
   {
    "duration": 215,
    "start_time": "2023-02-08T17:31:10.733Z"
   },
   {
    "duration": 6,
    "start_time": "2023-02-08T17:31:10.950Z"
   },
   {
    "duration": 427,
    "start_time": "2023-02-08T17:31:10.958Z"
   },
   {
    "duration": 388,
    "start_time": "2023-02-08T17:31:11.387Z"
   },
   {
    "duration": 341,
    "start_time": "2023-02-08T17:31:11.779Z"
   },
   {
    "duration": 7,
    "start_time": "2023-02-08T17:31:12.121Z"
   },
   {
    "duration": 420,
    "start_time": "2023-02-08T17:31:12.129Z"
   },
   {
    "duration": 437,
    "start_time": "2023-02-08T17:31:12.551Z"
   },
   {
    "duration": 585,
    "start_time": "2023-02-08T17:31:12.990Z"
   },
   {
    "duration": 23,
    "start_time": "2023-02-08T17:31:13.576Z"
   },
   {
    "duration": 17,
    "start_time": "2023-02-08T17:31:13.605Z"
   },
   {
    "duration": 13,
    "start_time": "2023-02-08T17:39:01.828Z"
   },
   {
    "duration": 16,
    "start_time": "2023-02-08T17:41:50.092Z"
   },
   {
    "duration": 5,
    "start_time": "2023-02-08T17:42:21.041Z"
   },
   {
    "duration": 115,
    "start_time": "2023-02-08T17:42:21.049Z"
   },
   {
    "duration": 47,
    "start_time": "2023-02-08T17:42:21.167Z"
   },
   {
    "duration": 16,
    "start_time": "2023-02-08T17:42:21.217Z"
   },
   {
    "duration": 9,
    "start_time": "2023-02-08T17:42:21.236Z"
   },
   {
    "duration": 199,
    "start_time": "2023-02-08T17:42:21.247Z"
   },
   {
    "duration": 7,
    "start_time": "2023-02-08T17:42:21.448Z"
   },
   {
    "duration": 12,
    "start_time": "2023-02-08T17:42:21.457Z"
   },
   {
    "duration": 27,
    "start_time": "2023-02-08T17:42:21.473Z"
   },
   {
    "duration": 17,
    "start_time": "2023-02-08T17:42:21.509Z"
   },
   {
    "duration": 23,
    "start_time": "2023-02-08T17:42:21.528Z"
   },
   {
    "duration": 30,
    "start_time": "2023-02-08T17:42:21.553Z"
   },
   {
    "duration": 31,
    "start_time": "2023-02-08T17:42:21.586Z"
   },
   {
    "duration": 366,
    "start_time": "2023-02-08T17:42:21.621Z"
   },
   {
    "duration": 106,
    "start_time": "2023-02-08T17:42:21.989Z"
   },
   {
    "duration": 26,
    "start_time": "2023-02-08T17:42:22.098Z"
   },
   {
    "duration": 650,
    "start_time": "2023-02-08T17:42:22.126Z"
   },
   {
    "duration": 396,
    "start_time": "2023-02-08T17:42:22.779Z"
   },
   {
    "duration": 409,
    "start_time": "2023-02-08T17:42:23.177Z"
   },
   {
    "duration": 457,
    "start_time": "2023-02-08T17:42:23.588Z"
   },
   {
    "duration": 528,
    "start_time": "2023-02-08T17:42:24.048Z"
   },
   {
    "duration": 42,
    "start_time": "2023-02-08T17:42:24.578Z"
   },
   {
    "duration": 18,
    "start_time": "2023-02-08T17:42:24.622Z"
   },
   {
    "duration": 17,
    "start_time": "2023-02-08T17:42:24.644Z"
   },
   {
    "duration": 385,
    "start_time": "2023-02-08T17:42:24.663Z"
   },
   {
    "duration": 52,
    "start_time": "2023-02-08T17:42:25.050Z"
   },
   {
    "duration": 1025,
    "start_time": "2023-02-08T17:42:25.104Z"
   },
   {
    "duration": 533,
    "start_time": "2023-02-08T17:42:26.131Z"
   },
   {
    "duration": 317,
    "start_time": "2023-02-08T17:42:26.666Z"
   },
   {
    "duration": 218,
    "start_time": "2023-02-08T17:42:26.985Z"
   },
   {
    "duration": 183,
    "start_time": "2023-02-08T17:42:27.206Z"
   },
   {
    "duration": 14,
    "start_time": "2023-02-08T17:42:27.392Z"
   },
   {
    "duration": 312,
    "start_time": "2023-02-08T17:42:27.412Z"
   },
   {
    "duration": 481,
    "start_time": "2023-02-08T17:42:27.726Z"
   },
   {
    "duration": 312,
    "start_time": "2023-02-08T17:42:28.212Z"
   },
   {
    "duration": 7,
    "start_time": "2023-02-08T17:42:28.526Z"
   },
   {
    "duration": 430,
    "start_time": "2023-02-08T17:42:28.535Z"
   },
   {
    "duration": 414,
    "start_time": "2023-02-08T17:42:28.967Z"
   },
   {
    "duration": 409,
    "start_time": "2023-02-08T17:42:29.383Z"
   },
   {
    "duration": 23,
    "start_time": "2023-02-08T17:42:29.794Z"
   },
   {
    "duration": 37,
    "start_time": "2023-02-08T17:42:29.819Z"
   },
   {
    "duration": 56,
    "start_time": "2023-02-09T07:52:36.022Z"
   },
   {
    "duration": 75,
    "start_time": "2023-02-09T13:09:21.298Z"
   },
   {
    "duration": 1371,
    "start_time": "2023-02-09T13:09:27.462Z"
   },
   {
    "duration": 481,
    "start_time": "2023-02-09T13:09:28.835Z"
   },
   {
    "duration": 18,
    "start_time": "2023-02-09T13:09:29.317Z"
   },
   {
    "duration": 17,
    "start_time": "2023-02-09T13:09:29.337Z"
   },
   {
    "duration": 5,
    "start_time": "2023-02-09T13:09:29.356Z"
   },
   {
    "duration": 206,
    "start_time": "2023-02-09T13:09:29.362Z"
   },
   {
    "duration": 8,
    "start_time": "2023-02-09T13:09:29.570Z"
   },
   {
    "duration": 30,
    "start_time": "2023-02-09T13:09:29.591Z"
   },
   {
    "duration": 34,
    "start_time": "2023-02-09T13:09:29.622Z"
   },
   {
    "duration": 22,
    "start_time": "2023-02-09T13:09:29.658Z"
   },
   {
    "duration": 23,
    "start_time": "2023-02-09T13:09:29.681Z"
   },
   {
    "duration": 21,
    "start_time": "2023-02-09T13:09:29.706Z"
   },
   {
    "duration": 20,
    "start_time": "2023-02-09T13:09:29.728Z"
   },
   {
    "duration": 401,
    "start_time": "2023-02-09T13:09:29.750Z"
   },
   {
    "duration": 114,
    "start_time": "2023-02-09T13:09:30.153Z"
   },
   {
    "duration": 32,
    "start_time": "2023-02-09T13:09:30.268Z"
   },
   {
    "duration": 607,
    "start_time": "2023-02-09T13:09:30.301Z"
   },
   {
    "duration": 344,
    "start_time": "2023-02-09T13:09:30.910Z"
   },
   {
    "duration": 363,
    "start_time": "2023-02-09T13:09:31.256Z"
   },
   {
    "duration": 483,
    "start_time": "2023-02-09T13:09:31.621Z"
   },
   {
    "duration": 412,
    "start_time": "2023-02-09T13:09:32.106Z"
   },
   {
    "duration": 16,
    "start_time": "2023-02-09T13:09:32.519Z"
   },
   {
    "duration": 18,
    "start_time": "2023-02-09T13:09:32.537Z"
   },
   {
    "duration": 37,
    "start_time": "2023-02-09T13:09:32.557Z"
   },
   {
    "duration": 201,
    "start_time": "2023-02-09T13:09:32.596Z"
   },
   {
    "duration": 21,
    "start_time": "2023-02-09T13:09:32.798Z"
   },
   {
    "duration": 745,
    "start_time": "2023-02-09T13:09:32.821Z"
   },
   {
    "duration": 263,
    "start_time": "2023-02-09T13:09:33.570Z"
   },
   {
    "duration": 251,
    "start_time": "2023-02-09T13:09:33.835Z"
   },
   {
    "duration": 164,
    "start_time": "2023-02-09T13:09:34.088Z"
   },
   {
    "duration": 172,
    "start_time": "2023-02-09T13:09:34.254Z"
   },
   {
    "duration": 6,
    "start_time": "2023-02-09T13:09:34.428Z"
   },
   {
    "duration": 369,
    "start_time": "2023-02-09T13:09:34.435Z"
   },
   {
    "duration": 307,
    "start_time": "2023-02-09T13:09:34.807Z"
   },
   {
    "duration": 296,
    "start_time": "2023-02-09T13:09:35.116Z"
   },
   {
    "duration": 6,
    "start_time": "2023-02-09T13:09:35.414Z"
   },
   {
    "duration": 394,
    "start_time": "2023-02-09T13:09:35.421Z"
   },
   {
    "duration": 419,
    "start_time": "2023-02-09T13:09:35.817Z"
   },
   {
    "duration": 553,
    "start_time": "2023-02-09T13:09:36.238Z"
   },
   {
    "duration": 11,
    "start_time": "2023-02-09T13:09:36.793Z"
   },
   {
    "duration": 18,
    "start_time": "2023-02-09T13:09:36.806Z"
   },
   {
    "duration": 12,
    "start_time": "2023-02-09T13:10:57.336Z"
   },
   {
    "duration": 12,
    "start_time": "2023-02-09T13:15:35.703Z"
   },
   {
    "duration": 3,
    "start_time": "2023-02-09T13:15:58.715Z"
   },
   {
    "duration": 59,
    "start_time": "2023-02-09T13:15:58.721Z"
   },
   {
    "duration": 14,
    "start_time": "2023-02-09T13:15:58.783Z"
   },
   {
    "duration": 14,
    "start_time": "2023-02-09T13:15:58.799Z"
   },
   {
    "duration": 5,
    "start_time": "2023-02-09T13:15:58.816Z"
   },
   {
    "duration": 220,
    "start_time": "2023-02-09T13:15:58.823Z"
   },
   {
    "duration": 8,
    "start_time": "2023-02-09T13:15:59.045Z"
   },
   {
    "duration": 18,
    "start_time": "2023-02-09T13:15:59.055Z"
   },
   {
    "duration": 14,
    "start_time": "2023-02-09T13:15:59.074Z"
   },
   {
    "duration": 18,
    "start_time": "2023-02-09T13:15:59.092Z"
   },
   {
    "duration": 16,
    "start_time": "2023-02-09T13:15:59.113Z"
   },
   {
    "duration": 21,
    "start_time": "2023-02-09T13:15:59.131Z"
   },
   {
    "duration": 15,
    "start_time": "2023-02-09T13:15:59.153Z"
   },
   {
    "duration": 344,
    "start_time": "2023-02-09T13:15:59.170Z"
   },
   {
    "duration": 106,
    "start_time": "2023-02-09T13:15:59.516Z"
   },
   {
    "duration": 18,
    "start_time": "2023-02-09T13:15:59.624Z"
   },
   {
    "duration": 577,
    "start_time": "2023-02-09T13:15:59.644Z"
   },
   {
    "duration": 293,
    "start_time": "2023-02-09T13:16:00.223Z"
   },
   {
    "duration": 319,
    "start_time": "2023-02-09T13:16:00.518Z"
   },
   {
    "duration": 360,
    "start_time": "2023-02-09T13:16:00.839Z"
   },
   {
    "duration": 361,
    "start_time": "2023-02-09T13:16:01.201Z"
   },
   {
    "duration": 13,
    "start_time": "2023-02-09T13:16:01.563Z"
   },
   {
    "duration": 29,
    "start_time": "2023-02-09T13:16:01.577Z"
   },
   {
    "duration": 24,
    "start_time": "2023-02-09T13:16:01.608Z"
   },
   {
    "duration": 300,
    "start_time": "2023-02-09T13:16:01.633Z"
   },
   {
    "duration": 20,
    "start_time": "2023-02-09T13:16:01.935Z"
   },
   {
    "duration": 760,
    "start_time": "2023-02-09T13:16:01.957Z"
   },
   {
    "duration": 255,
    "start_time": "2023-02-09T13:16:02.718Z"
   },
   {
    "duration": 238,
    "start_time": "2023-02-09T13:16:02.977Z"
   },
   {
    "duration": 152,
    "start_time": "2023-02-09T13:16:03.217Z"
   },
   {
    "duration": 168,
    "start_time": "2023-02-09T13:16:03.371Z"
   },
   {
    "duration": 6,
    "start_time": "2023-02-09T13:16:03.540Z"
   },
   {
    "duration": 262,
    "start_time": "2023-02-09T13:16:03.547Z"
   },
   {
    "duration": 376,
    "start_time": "2023-02-09T13:16:03.811Z"
   },
   {
    "duration": 272,
    "start_time": "2023-02-09T13:16:04.192Z"
   },
   {
    "duration": 7,
    "start_time": "2023-02-09T13:16:04.465Z"
   },
   {
    "duration": 408,
    "start_time": "2023-02-09T13:16:04.474Z"
   },
   {
    "duration": 420,
    "start_time": "2023-02-09T13:16:04.884Z"
   },
   {
    "duration": 360,
    "start_time": "2023-02-09T13:16:05.305Z"
   },
   {
    "duration": 10,
    "start_time": "2023-02-09T13:16:05.667Z"
   },
   {
    "duration": 23,
    "start_time": "2023-02-09T13:16:05.678Z"
   }
  ],
  "kernelspec": {
   "display_name": "Python 3 (ipykernel)",
   "language": "python",
   "name": "python3"
  },
  "language_info": {
   "codemirror_mode": {
    "name": "ipython",
    "version": 3
   },
   "file_extension": ".py",
   "mimetype": "text/x-python",
   "name": "python",
   "nbconvert_exporter": "python",
   "pygments_lexer": "ipython3",
   "version": "3.9.13"
  },
  "toc": {
   "base_numbering": 1,
   "nav_menu": {},
   "number_sections": true,
   "sideBar": true,
   "skip_h1_title": true,
   "title_cell": "Table of Contents",
   "title_sidebar": "Contents",
   "toc_cell": false,
   "toc_position": {},
   "toc_section_display": true,
   "toc_window_display": true
  }
 },
 "nbformat": 4,
 "nbformat_minor": 2
}
