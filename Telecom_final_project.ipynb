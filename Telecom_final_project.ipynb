{
 "cells": [
  {
   "cell_type": "markdown",
   "metadata": {},
   "source": [
    "# Телеком — Определение неэффективных операторов"
   ]
  },
  {
   "cell_type": "markdown",
   "metadata": {},
   "source": [
    "В нашем распоряжении данные о работе операторов колл центров. Необходимо определить критирии неэффективной работы операторов колл центров. На основании обобщенной оценки по критериям, был получен список неэффективных операторов. Так же выполнена категоризация колл центров по количеству входящих, исходящих звонков. \n",
    "\n",
    "**Цель исследования:** Выполнить оценку эффективности операторов, работающих в колл-центре.\n",
    "\n",
    "**План**\n",
    "1) Предобработка данных\n",
    "\n",
    "2) Исследовательский анализ данных, определение критериев низкой эффективности оператора:\n",
    "- среднее количество пропущенных входящих вызовов;\n",
    "- среднее время ожидания клиента на обслуживания;\n",
    "- среднее длительность звонка без учета учета времени на ожидания;\n",
    "- обобщающие оценок по критериям.\n",
    "\n",
    "3) Специализация колл-центров:\n",
    "- определить общее количество звонков у операторов колл-центра\n",
    "- выполнить разбивку по специализации колл-центров.\n",
    "\n"
   ]
  },
  {
   "cell_type": "markdown",
   "metadata": {},
   "source": [
    "Название колонок, в переданном для анализе архиве:\n",
    "\n",
    "- `user_id` — Идентификатор клиентского аккаунта колл-центра в сервисе\n",
    "- `date` — Дата статистики\n",
    "- `direction` — Направление вызовов (out - исходящий вызов, in — входящий вызов)\n",
    "- `internal` — Является ли звонок внутренним звонком между операторами клиента\n",
    "- `operator_id` — Идентификатор оператора\n",
    "- `is_missed_call` — Является ли звонок пропущенным\n",
    "- `calls_count` — Количество звонков\n",
    "- `call_duration` — Длительность звонка (без учета времени ожидания)\n",
    "- `total_call_duration` — Длительность звонка (с учетом времени ожидания)"
   ]
  },
  {
   "cell_type": "code",
   "execution_count": 1,
   "metadata": {},
   "outputs": [],
   "source": [
    "#Импортируем библиотеки\n",
    "import pandas as pd\n",
    "import matplotlib.pyplot as plt\n",
    "import matplotlib\n",
    "import datetime\n",
    "import numpy as np\n",
    "import seaborn as sns\n",
    "import os\n",
    "from scipy import stats as st"
   ]
  },
  {
   "cell_type": "markdown",
   "metadata": {},
   "source": [
    "## Предобработка данных"
   ]
  },
  {
   "cell_type": "code",
   "execution_count": 2,
   "metadata": {
    "scrolled": true
   },
   "outputs": [
    {
     "data": {
      "text/html": [
       "<div>\n",
       "<style scoped>\n",
       "    .dataframe tbody tr th:only-of-type {\n",
       "        vertical-align: middle;\n",
       "    }\n",
       "\n",
       "    .dataframe tbody tr th {\n",
       "        vertical-align: top;\n",
       "    }\n",
       "\n",
       "    .dataframe thead th {\n",
       "        text-align: right;\n",
       "    }\n",
       "</style>\n",
       "<table border=\"1\" class=\"dataframe\">\n",
       "  <thead>\n",
       "    <tr style=\"text-align: right;\">\n",
       "      <th></th>\n",
       "      <th>user_id</th>\n",
       "      <th>date</th>\n",
       "      <th>direction</th>\n",
       "      <th>internal</th>\n",
       "      <th>operator_id</th>\n",
       "      <th>is_missed_call</th>\n",
       "      <th>calls_count</th>\n",
       "      <th>call_duration</th>\n",
       "      <th>total_call_duration</th>\n",
       "    </tr>\n",
       "  </thead>\n",
       "  <tbody>\n",
       "    <tr>\n",
       "      <th>0</th>\n",
       "      <td>166377</td>\n",
       "      <td>2019-08-04 00:00:00+03:00</td>\n",
       "      <td>in</td>\n",
       "      <td>False</td>\n",
       "      <td>NaN</td>\n",
       "      <td>True</td>\n",
       "      <td>2</td>\n",
       "      <td>0</td>\n",
       "      <td>4</td>\n",
       "    </tr>\n",
       "    <tr>\n",
       "      <th>1</th>\n",
       "      <td>166377</td>\n",
       "      <td>2019-08-05 00:00:00+03:00</td>\n",
       "      <td>out</td>\n",
       "      <td>True</td>\n",
       "      <td>880022.0</td>\n",
       "      <td>True</td>\n",
       "      <td>3</td>\n",
       "      <td>0</td>\n",
       "      <td>5</td>\n",
       "    </tr>\n",
       "    <tr>\n",
       "      <th>2</th>\n",
       "      <td>166377</td>\n",
       "      <td>2019-08-05 00:00:00+03:00</td>\n",
       "      <td>out</td>\n",
       "      <td>True</td>\n",
       "      <td>880020.0</td>\n",
       "      <td>True</td>\n",
       "      <td>1</td>\n",
       "      <td>0</td>\n",
       "      <td>1</td>\n",
       "    </tr>\n",
       "    <tr>\n",
       "      <th>3</th>\n",
       "      <td>166377</td>\n",
       "      <td>2019-08-05 00:00:00+03:00</td>\n",
       "      <td>out</td>\n",
       "      <td>True</td>\n",
       "      <td>880020.0</td>\n",
       "      <td>False</td>\n",
       "      <td>1</td>\n",
       "      <td>10</td>\n",
       "      <td>18</td>\n",
       "    </tr>\n",
       "    <tr>\n",
       "      <th>4</th>\n",
       "      <td>166377</td>\n",
       "      <td>2019-08-05 00:00:00+03:00</td>\n",
       "      <td>out</td>\n",
       "      <td>False</td>\n",
       "      <td>880022.0</td>\n",
       "      <td>True</td>\n",
       "      <td>3</td>\n",
       "      <td>0</td>\n",
       "      <td>25</td>\n",
       "    </tr>\n",
       "  </tbody>\n",
       "</table>\n",
       "</div>"
      ],
      "text/plain": [
       "   user_id                       date direction internal  operator_id  \\\n",
       "0   166377  2019-08-04 00:00:00+03:00        in    False          NaN   \n",
       "1   166377  2019-08-05 00:00:00+03:00       out     True     880022.0   \n",
       "2   166377  2019-08-05 00:00:00+03:00       out     True     880020.0   \n",
       "3   166377  2019-08-05 00:00:00+03:00       out     True     880020.0   \n",
       "4   166377  2019-08-05 00:00:00+03:00       out    False     880022.0   \n",
       "\n",
       "   is_missed_call  calls_count  call_duration  total_call_duration  \n",
       "0            True            2              0                    4  \n",
       "1            True            3              0                    5  \n",
       "2            True            1              0                    1  \n",
       "3           False            1             10                   18  \n",
       "4            True            3              0                   25  "
      ]
     },
     "execution_count": 2,
     "metadata": {},
     "output_type": "execute_result"
    }
   ],
   "source": [
    "#прочитаем данные, хохраним в df\n",
    "pth3 = 'C:\\\\YandexWork\\\\final_project\\\\telecom_dataset.csv'\n",
    "pth4 = '/datasets/telecom_dataset.csv'\n",
    "if os.path.exists(pth3): \n",
    "    df = pd.read_csv(pth3) \n",
    "elif os.path.exists(pth4): \n",
    "    df = pd.read_csv(pth4) \n",
    "else: \n",
    "    print('Something is wrong')\n",
    "\n",
    "df.head()"
   ]
  },
  {
   "cell_type": "code",
   "execution_count": 3,
   "metadata": {
    "scrolled": true
   },
   "outputs": [
    {
     "name": "stdout",
     "output_type": "stream",
     "text": [
      "<class 'pandas.core.frame.DataFrame'>\n",
      "RangeIndex: 53902 entries, 0 to 53901\n",
      "Data columns (total 9 columns):\n",
      " #   Column               Non-Null Count  Dtype  \n",
      "---  ------               --------------  -----  \n",
      " 0   user_id              53902 non-null  int64  \n",
      " 1   date                 53902 non-null  object \n",
      " 2   direction            53902 non-null  object \n",
      " 3   internal             53785 non-null  object \n",
      " 4   operator_id          45730 non-null  float64\n",
      " 5   is_missed_call       53902 non-null  bool   \n",
      " 6   calls_count          53902 non-null  int64  \n",
      " 7   call_duration        53902 non-null  int64  \n",
      " 8   total_call_duration  53902 non-null  int64  \n",
      "dtypes: bool(1), float64(1), int64(4), object(3)\n",
      "memory usage: 3.3+ MB\n"
     ]
    }
   ],
   "source": [
    "# Получим общую информацию о дата фрейме, для определния типов данных\n",
    "df.info()"
   ]
  },
  {
   "cell_type": "code",
   "execution_count": 4,
   "metadata": {},
   "outputs": [
    {
     "data": {
      "text/plain": [
       "user_id                   0\n",
       "date                      0\n",
       "direction                 0\n",
       "internal                117\n",
       "operator_id            8172\n",
       "is_missed_call            0\n",
       "calls_count               0\n",
       "call_duration             0\n",
       "total_call_duration       0\n",
       "dtype: int64"
      ]
     },
     "execution_count": 4,
     "metadata": {},
     "output_type": "execute_result"
    }
   ],
   "source": [
    "# Определим количество и пропусков в каждом из столбцов\n",
    "df.isna().sum()"
   ]
  },
  {
   "cell_type": "code",
   "execution_count": 5,
   "metadata": {},
   "outputs": [
    {
     "data": {
      "text/html": [
       "<div>\n",
       "<style scoped>\n",
       "    .dataframe tbody tr th:only-of-type {\n",
       "        vertical-align: middle;\n",
       "    }\n",
       "\n",
       "    .dataframe tbody tr th {\n",
       "        vertical-align: top;\n",
       "    }\n",
       "\n",
       "    .dataframe thead th {\n",
       "        text-align: right;\n",
       "    }\n",
       "</style>\n",
       "<table border=\"1\" class=\"dataframe\">\n",
       "  <thead>\n",
       "    <tr style=\"text-align: right;\">\n",
       "      <th></th>\n",
       "      <th>user_id</th>\n",
       "      <th>date</th>\n",
       "      <th>direction</th>\n",
       "      <th>internal</th>\n",
       "      <th>operator_id</th>\n",
       "      <th>is_missed_call</th>\n",
       "      <th>calls_count</th>\n",
       "      <th>call_duration</th>\n",
       "      <th>total_call_duration</th>\n",
       "    </tr>\n",
       "  </thead>\n",
       "  <tbody>\n",
       "    <tr>\n",
       "      <th>0</th>\n",
       "      <td>166377</td>\n",
       "      <td>2019-08-04 00:00:00+03:00</td>\n",
       "      <td>in</td>\n",
       "      <td>False</td>\n",
       "      <td>unknown</td>\n",
       "      <td>True</td>\n",
       "      <td>2</td>\n",
       "      <td>0</td>\n",
       "      <td>4</td>\n",
       "    </tr>\n",
       "    <tr>\n",
       "      <th>1</th>\n",
       "      <td>166377</td>\n",
       "      <td>2019-08-05 00:00:00+03:00</td>\n",
       "      <td>out</td>\n",
       "      <td>True</td>\n",
       "      <td>880022.0</td>\n",
       "      <td>True</td>\n",
       "      <td>3</td>\n",
       "      <td>0</td>\n",
       "      <td>5</td>\n",
       "    </tr>\n",
       "    <tr>\n",
       "      <th>2</th>\n",
       "      <td>166377</td>\n",
       "      <td>2019-08-05 00:00:00+03:00</td>\n",
       "      <td>out</td>\n",
       "      <td>True</td>\n",
       "      <td>880020.0</td>\n",
       "      <td>True</td>\n",
       "      <td>1</td>\n",
       "      <td>0</td>\n",
       "      <td>1</td>\n",
       "    </tr>\n",
       "    <tr>\n",
       "      <th>3</th>\n",
       "      <td>166377</td>\n",
       "      <td>2019-08-05 00:00:00+03:00</td>\n",
       "      <td>out</td>\n",
       "      <td>True</td>\n",
       "      <td>880020.0</td>\n",
       "      <td>False</td>\n",
       "      <td>1</td>\n",
       "      <td>10</td>\n",
       "      <td>18</td>\n",
       "    </tr>\n",
       "    <tr>\n",
       "      <th>4</th>\n",
       "      <td>166377</td>\n",
       "      <td>2019-08-05 00:00:00+03:00</td>\n",
       "      <td>out</td>\n",
       "      <td>False</td>\n",
       "      <td>880022.0</td>\n",
       "      <td>True</td>\n",
       "      <td>3</td>\n",
       "      <td>0</td>\n",
       "      <td>25</td>\n",
       "    </tr>\n",
       "    <tr>\n",
       "      <th>5</th>\n",
       "      <td>166377</td>\n",
       "      <td>2019-08-05 00:00:00+03:00</td>\n",
       "      <td>out</td>\n",
       "      <td>False</td>\n",
       "      <td>880020.0</td>\n",
       "      <td>False</td>\n",
       "      <td>2</td>\n",
       "      <td>3</td>\n",
       "      <td>29</td>\n",
       "    </tr>\n",
       "    <tr>\n",
       "      <th>6</th>\n",
       "      <td>166377</td>\n",
       "      <td>2019-08-05 00:00:00+03:00</td>\n",
       "      <td>out</td>\n",
       "      <td>False</td>\n",
       "      <td>880020.0</td>\n",
       "      <td>True</td>\n",
       "      <td>8</td>\n",
       "      <td>0</td>\n",
       "      <td>50</td>\n",
       "    </tr>\n",
       "    <tr>\n",
       "      <th>7</th>\n",
       "      <td>166377</td>\n",
       "      <td>2019-08-05 00:00:00+03:00</td>\n",
       "      <td>in</td>\n",
       "      <td>False</td>\n",
       "      <td>unknown</td>\n",
       "      <td>True</td>\n",
       "      <td>6</td>\n",
       "      <td>0</td>\n",
       "      <td>35</td>\n",
       "    </tr>\n",
       "    <tr>\n",
       "      <th>8</th>\n",
       "      <td>166377</td>\n",
       "      <td>2019-08-05 00:00:00+03:00</td>\n",
       "      <td>out</td>\n",
       "      <td>False</td>\n",
       "      <td>880020.0</td>\n",
       "      <td>True</td>\n",
       "      <td>8</td>\n",
       "      <td>0</td>\n",
       "      <td>50</td>\n",
       "    </tr>\n",
       "    <tr>\n",
       "      <th>9</th>\n",
       "      <td>166377</td>\n",
       "      <td>2019-08-06 00:00:00+03:00</td>\n",
       "      <td>in</td>\n",
       "      <td>False</td>\n",
       "      <td>unknown</td>\n",
       "      <td>True</td>\n",
       "      <td>4</td>\n",
       "      <td>0</td>\n",
       "      <td>62</td>\n",
       "    </tr>\n",
       "  </tbody>\n",
       "</table>\n",
       "</div>"
      ],
      "text/plain": [
       "   user_id                      date direction internal operator_id  \\\n",
       "0   166377 2019-08-04 00:00:00+03:00        in    False     unknown   \n",
       "1   166377 2019-08-05 00:00:00+03:00       out     True    880022.0   \n",
       "2   166377 2019-08-05 00:00:00+03:00       out     True    880020.0   \n",
       "3   166377 2019-08-05 00:00:00+03:00       out     True    880020.0   \n",
       "4   166377 2019-08-05 00:00:00+03:00       out    False    880022.0   \n",
       "5   166377 2019-08-05 00:00:00+03:00       out    False    880020.0   \n",
       "6   166377 2019-08-05 00:00:00+03:00       out    False    880020.0   \n",
       "7   166377 2019-08-05 00:00:00+03:00        in    False     unknown   \n",
       "8   166377 2019-08-05 00:00:00+03:00       out    False    880020.0   \n",
       "9   166377 2019-08-06 00:00:00+03:00        in    False     unknown   \n",
       "\n",
       "   is_missed_call  calls_count  call_duration  total_call_duration  \n",
       "0            True            2              0                    4  \n",
       "1            True            3              0                    5  \n",
       "2            True            1              0                    1  \n",
       "3           False            1             10                   18  \n",
       "4            True            3              0                   25  \n",
       "5           False            2              3                   29  \n",
       "6            True            8              0                   50  \n",
       "7            True            6              0                   35  \n",
       "8            True            8              0                   50  \n",
       "9            True            4              0                   62  "
      ]
     },
     "execution_count": 5,
     "metadata": {},
     "output_type": "execute_result"
    }
   ],
   "source": [
    "#Удалим все пропуски в столбце 'internal', их немного их удаление не повляиет на весь датасет\n",
    "df=df.dropna(subset=['internal']).reset_index(drop=True)\n",
    "# заменим пропуски в столбце operator_id на заглушки 'unknown'\n",
    "df['operator_id']=df['operator_id'].fillna('unknown')\n",
    "#Заменим типы данных в столбце date \n",
    "#df['date']=pd.to_datetime(df['date'],  format='%Y-%m-%d %H:%M:%S').dt.strftime('%Y-%m-%d')\n",
    "df['date']=pd.to_datetime(df['date'],  format='%Y-%m-%d %H:%M:%S')\n",
    "df = df. iloc [: , :9]\n",
    "df.head(10)"
   ]
  },
  {
   "cell_type": "code",
   "execution_count": 6,
   "metadata": {},
   "outputs": [
    {
     "name": "stdout",
     "output_type": "stream",
     "text": [
      "Количество явных дубликатов : 4893\n",
      "Количество явных дубликатов после удаления: 0\n"
     ]
    }
   ],
   "source": [
    "# посчитаем явные дубликаты \n",
    "print('Количество явных дубликатов :', df.duplicated().sum())\n",
    "# Явных дубликатов меньше 10% удалим их из датафрейма\n",
    "df=df.drop_duplicates()\n",
    "print('Количество явных дубликатов после удаления:', df.duplicated().sum())"
   ]
  },
  {
   "cell_type": "code",
   "execution_count": 7,
   "metadata": {},
   "outputs": [],
   "source": [
    "# добавим столбец:\n",
    "#среднее время ожидания до ответа оператора\n",
    "df['avg_time_duration']=(df['total_call_duration']-df ['call_duration'])/ df['calls_count']\n",
    "#среднее количество звонков в день у оператора\n",
    "df['avg_call_duration']=df['call_duration'] / df['calls_count']\n",
    "#среднее длительность звонка (с учетом времени ожидания) \n",
    "df['avg_total_call_duration']=df['total_call_duration'] / df['calls_count']"
   ]
  },
  {
   "cell_type": "code",
   "execution_count": 8,
   "metadata": {},
   "outputs": [],
   "source": [
    "# Выполним фильртрацию удалим все строки, в которых количество секунд больше 28800 (8 часовой рабочий день)\n",
    "# значение количества звонков не превышает 400\n",
    "norm_call_duration=28800\n",
    "norm_calls_count=400\n",
    "\n",
    "df=df.query('call_duration <= @norm_call_duration')\n",
    "df=df.query('calls_count <= @norm_calls_count')"
   ]
  },
  {
   "cell_type": "code",
   "execution_count": 9,
   "metadata": {
    "scrolled": true
   },
   "outputs": [
    {
     "name": "stdout",
     "output_type": "stream",
     "text": [
      "                                               total_call_duration\n",
      "date                      user_id operator_id                     \n",
      "2019-11-04 00:00:00+03:00 168361  945278.0                   61611\n",
      "2019-09-09 00:00:00+03:00 166582  885890.0                   40959\n",
      "2019-10-12 00:00:00+03:00 166582  925922.0                   39673\n",
      "2019-10-02 00:00:00+03:00 166582  925922.0                   36959\n",
      "2019-09-07 00:00:00+03:00 166582  885876.0                   36455\n"
     ]
    },
    {
     "data": {
      "text/html": [
       "<div>\n",
       "<style scoped>\n",
       "    .dataframe tbody tr th:only-of-type {\n",
       "        vertical-align: middle;\n",
       "    }\n",
       "\n",
       "    .dataframe tbody tr th {\n",
       "        vertical-align: top;\n",
       "    }\n",
       "\n",
       "    .dataframe thead th {\n",
       "        text-align: right;\n",
       "    }\n",
       "</style>\n",
       "<table border=\"1\" class=\"dataframe\">\n",
       "  <thead>\n",
       "    <tr style=\"text-align: right;\">\n",
       "      <th></th>\n",
       "      <th></th>\n",
       "      <th></th>\n",
       "      <th>total_call_duration</th>\n",
       "    </tr>\n",
       "    <tr>\n",
       "      <th>date</th>\n",
       "      <th>user_id</th>\n",
       "      <th>operator_id</th>\n",
       "      <th></th>\n",
       "    </tr>\n",
       "  </thead>\n",
       "  <tbody>\n",
       "    <tr>\n",
       "      <th>2019-11-04 00:00:00+03:00</th>\n",
       "      <th>168361</th>\n",
       "      <th>945278.0</th>\n",
       "      <td>61611</td>\n",
       "    </tr>\n",
       "    <tr>\n",
       "      <th>2019-11-26 00:00:00+03:00</th>\n",
       "      <th>168253</th>\n",
       "      <th>952948.0</th>\n",
       "      <td>36194</td>\n",
       "    </tr>\n",
       "    <tr>\n",
       "      <th>2019-10-25 00:00:00+03:00</th>\n",
       "      <th>167827</th>\n",
       "      <th>929428.0</th>\n",
       "      <td>35320</td>\n",
       "    </tr>\n",
       "    <tr>\n",
       "      <th>2019-10-28 00:00:00+03:00</th>\n",
       "      <th>167827</th>\n",
       "      <th>929428.0</th>\n",
       "      <td>30288</td>\n",
       "    </tr>\n",
       "    <tr>\n",
       "      <th>2019-11-22 00:00:00+03:00</th>\n",
       "      <th>168361</th>\n",
       "      <th>945310.0</th>\n",
       "      <td>29160</td>\n",
       "    </tr>\n",
       "    <tr>\n",
       "      <th>...</th>\n",
       "      <th>...</th>\n",
       "      <th>...</th>\n",
       "      <td>...</td>\n",
       "    </tr>\n",
       "    <tr>\n",
       "      <th>2019-09-26 00:00:00+03:00</th>\n",
       "      <th>167359</th>\n",
       "      <th>921316.0</th>\n",
       "      <td>0</td>\n",
       "    </tr>\n",
       "    <tr>\n",
       "      <th>2019-10-17 00:00:00+03:00</th>\n",
       "      <th>167756</th>\n",
       "      <th>938896.0</th>\n",
       "      <td>0</td>\n",
       "    </tr>\n",
       "    <tr>\n",
       "      <th>2019-11-27 00:00:00+03:00</th>\n",
       "      <th>167852</th>\n",
       "      <th>930690.0</th>\n",
       "      <td>0</td>\n",
       "    </tr>\n",
       "    <tr>\n",
       "      <th>2019-11-15 00:00:00+03:00</th>\n",
       "      <th>166939</th>\n",
       "      <th>955082.0</th>\n",
       "      <td>0</td>\n",
       "    </tr>\n",
       "    <tr>\n",
       "      <th>2019-09-03 00:00:00+03:00</th>\n",
       "      <th>167061</th>\n",
       "      <th>901034.0</th>\n",
       "      <td>0</td>\n",
       "    </tr>\n",
       "  </tbody>\n",
       "</table>\n",
       "<p>19438 rows × 1 columns</p>\n",
       "</div>"
      ],
      "text/plain": [
       "                                               total_call_duration\n",
       "date                      user_id operator_id                     \n",
       "2019-11-04 00:00:00+03:00 168361  945278.0                   61611\n",
       "2019-11-26 00:00:00+03:00 168253  952948.0                   36194\n",
       "2019-10-25 00:00:00+03:00 167827  929428.0                   35320\n",
       "2019-10-28 00:00:00+03:00 167827  929428.0                   30288\n",
       "2019-11-22 00:00:00+03:00 168361  945310.0                   29160\n",
       "...                                                            ...\n",
       "2019-09-26 00:00:00+03:00 167359  921316.0                       0\n",
       "2019-10-17 00:00:00+03:00 167756  938896.0                       0\n",
       "2019-11-27 00:00:00+03:00 167852  930690.0                       0\n",
       "2019-11-15 00:00:00+03:00 166939  955082.0                       0\n",
       "2019-09-03 00:00:00+03:00 167061  901034.0                       0\n",
       "\n",
       "[19438 rows x 1 columns]"
      ]
     },
     "execution_count": 9,
     "metadata": {},
     "output_type": "execute_result"
    }
   ],
   "source": [
    "#Сгруппируем данные по дате, user_id, operator_id, просуммируем total_call_duration, что бы просмотреть максимальные значения \n",
    "df_group_operator=df.query('operator_id !=\"unknown\"')\\\n",
    "                    .groupby(by=['date','user_id','operator_id'])\\\n",
    "                    .agg({'total_call_duration':'sum'})\n",
    "print(df_group_operator.sort_values(by='total_call_duration', ascending=False).head())\n",
    "# Переменная с аномальными операторами\n",
    "operator_id_anomaly=[885876.0, 885890.0, 925922.0, \"unknown\"]\n",
    "df_no_anomaly=df.loc[~df['operator_id'].isin(operator_id_anomaly)]\n",
    "    \n",
    "   \n",
    "df_group_operator=df_no_anomaly.groupby(by=['date','user_id','operator_id']).agg({'total_call_duration':'sum'})\n",
    "\n",
    "df_group_operator.sort_values(by='total_call_duration', ascending=False)"
   ]
  },
  {
   "cell_type": "code",
   "execution_count": 10,
   "metadata": {
    "scrolled": true
   },
   "outputs": [
    {
     "data": {
      "image/png": "[encoded data removed]",
      "text/plain": [
       "<Figure size 864x864 with 20 Axes>"
      ]
     },
     "metadata": {
      "needs_background": "light"
     },
     "output_type": "display_data"
    }
   ],
   "source": [
    "# Общее зависимости для оценки присутствуют ли анамальные значения после предобработки.\n",
    "sns.pairplot(df_no_anomaly[['user_id', 'calls_count', 'call_duration', 'total_call_duration']])\n",
    "plt.gcf().set_size_inches(12,12);"
   ]
  },
  {
   "cell_type": "markdown",
   "metadata": {},
   "source": [
    "**Выполнена преобработка данных:**\n",
    "- Из датафрейма были удалены 4893 явных дубликата;\n",
    "- вывлены аномальные operator_id 885876.0, 885890.0, 925922.0 они все относятся к user_id = 166582 их время работы превышает фактически возможное значение в сутках, вероятно их занесли в базу неоднократно. Удалил данных операторов из анализа;\n",
    "- выполнен изменение типа данных в столбце date;\n",
    "- так как цель исследования задача выявить неэффективных операторов, мной удалены все строки, в которых отсутствовали данные о id_operatora;\n",
    "- датафрейм  удалены строки, в которых количество секунд превышает 28800 (8 часовой рабочий день) и количества звонков превышает 400.\n"
   ]
  },
  {
   "cell_type": "markdown",
   "metadata": {},
   "source": [
    "## Исследовательский анализ данных "
   ]
  },
  {
   "cell_type": "markdown",
   "metadata": {},
   "source": [
    "### Критерий 1 для операторов, работающих на входящих  - Процент пропущенных вызовов"
   ]
  },
  {
   "cell_type": "code",
   "execution_count": 11,
   "metadata": {},
   "outputs": [
    {
     "data": {
      "image/png": "[encoded data removed]",
      "text/plain": [
       "<Figure size 1080x432 with 1 Axes>"
      ]
     },
     "metadata": {
      "needs_background": "light"
     },
     "output_type": "display_data"
    }
   ],
   "source": [
    "\n",
    "# Количесвто входящих звонков по кажлому из операторов\n",
    "call_count=df_no_anomaly.query('direction == \"in\"').groupby(by='operator_id').agg({'calls_count':'sum'}).reset_index()\n",
    "# Количество пропущенных входящих звонков по кажлому из операторов\n",
    "call_missed=df_no_anomaly.query('is_missed_call != False & direction == \"in\"')\\\n",
    "                         .groupby(by='operator_id').agg({'calls_count':'sum'}).reset_index()\n",
    "\n",
    "\n",
    "#Переименнование названия столбцов\n",
    "call_missed.columns=['operator_id','call_missed']\n",
    "#объединение таблиц с количество входящих звонков и пропущенных \n",
    "call_count=call_count.merge(call_missed, on='operator_id')\n",
    "call_count['call_missed_percent']=round((call_count['call_missed']/call_count['calls_count'])*100,0)\n",
    "call_count.head(20)\n",
    "fig = plt.figure(figsize=(15, 6))\n",
    "plt.hist(call_count['call_missed_percent'], bins=100);\n",
    "plt.title(\"Гистограмма распределения процента пропущенных входящих звонков\");\n",
    "\n",
    "plt.show()"
   ]
  },
  {
   "cell_type": "code",
   "execution_count": 12,
   "metadata": {
    "scrolled": true
   },
   "outputs": [
    {
     "name": "stdout",
     "output_type": "stream",
     "text": [
      "Процент неэффективных оператовров по критерию пропущенных звонков : 18.2\n"
     ]
    },
    {
     "data": {
      "text/html": [
       "<div>\n",
       "<style scoped>\n",
       "    .dataframe tbody tr th:only-of-type {\n",
       "        vertical-align: middle;\n",
       "    }\n",
       "\n",
       "    .dataframe tbody tr th {\n",
       "        vertical-align: top;\n",
       "    }\n",
       "\n",
       "    .dataframe thead th {\n",
       "        text-align: right;\n",
       "    }\n",
       "</style>\n",
       "<table border=\"1\" class=\"dataframe\">\n",
       "  <thead>\n",
       "    <tr style=\"text-align: right;\">\n",
       "      <th></th>\n",
       "      <th>operator_id</th>\n",
       "      <th>calls_count</th>\n",
       "      <th>call_missed</th>\n",
       "      <th>call_missed_percent</th>\n",
       "      <th>call_missed_effective</th>\n",
       "    </tr>\n",
       "  </thead>\n",
       "  <tbody>\n",
       "    <tr>\n",
       "      <th>0</th>\n",
       "      <td>882680.0</td>\n",
       "      <td>99</td>\n",
       "      <td>3</td>\n",
       "      <td>3.0</td>\n",
       "      <td>0</td>\n",
       "    </tr>\n",
       "    <tr>\n",
       "      <th>1</th>\n",
       "      <td>882684.0</td>\n",
       "      <td>613</td>\n",
       "      <td>4</td>\n",
       "      <td>1.0</td>\n",
       "      <td>0</td>\n",
       "    </tr>\n",
       "    <tr>\n",
       "      <th>2</th>\n",
       "      <td>882686.0</td>\n",
       "      <td>766</td>\n",
       "      <td>6</td>\n",
       "      <td>1.0</td>\n",
       "      <td>0</td>\n",
       "    </tr>\n",
       "    <tr>\n",
       "      <th>3</th>\n",
       "      <td>882690.0</td>\n",
       "      <td>171</td>\n",
       "      <td>2</td>\n",
       "      <td>1.0</td>\n",
       "      <td>0</td>\n",
       "    </tr>\n",
       "    <tr>\n",
       "      <th>4</th>\n",
       "      <td>884408.0</td>\n",
       "      <td>35</td>\n",
       "      <td>4</td>\n",
       "      <td>11.0</td>\n",
       "      <td>1</td>\n",
       "    </tr>\n",
       "  </tbody>\n",
       "</table>\n",
       "</div>"
      ],
      "text/plain": [
       "   operator_id  calls_count  call_missed  call_missed_percent  \\\n",
       "0     882680.0           99            3                  3.0   \n",
       "1     882684.0          613            4                  1.0   \n",
       "2     882686.0          766            6                  1.0   \n",
       "3     882690.0          171            2                  1.0   \n",
       "4     884408.0           35            4                 11.0   \n",
       "\n",
       "   call_missed_effective  \n",
       "0                      0  \n",
       "1                      0  \n",
       "2                      0  \n",
       "3                      0  \n",
       "4                      1  "
      ]
     },
     "execution_count": 12,
     "metadata": {},
     "output_type": "execute_result"
    }
   ],
   "source": [
    "# Создадим стоблбец call_missed_effective и заполням 1 у операторов, у которых процент пропущенных звонков больше 8.\n",
    "call_count['call_missed_effective'] = np.where(call_count['call_missed_percent'] > 8, 1, 0)\n",
    "print('Процент неэффективных оператовров по критерию пропущенных звонков :',\\\n",
    "      round(call_count['call_missed_effective'].sum()/ call_count['call_missed_effective'].count()*100,1))\n",
    "call_count.head()      \n"
   ]
  },
  {
   "cell_type": "markdown",
   "metadata": {},
   "source": [
    "**Определен критерий по количеству пропущенных звонков. Границы критериев были определены из открытых источников, в которых описывается критерии эффектисвности операторов колл центров. Границу критерия неэффективности оператора по количеству пропущенных звонков - 8% от общего числа звонков. Такому критерию не соотвествуют 18,2 % операторов**"
   ]
  },
  {
   "cell_type": "markdown",
   "metadata": {},
   "source": [
    "### Критерий 2 для операторов, работающих на входящих - Время ожидания клиента на обслуживания "
   ]
  },
  {
   "cell_type": "code",
   "execution_count": 13,
   "metadata": {},
   "outputs": [
    {
     "name": "stdout",
     "output_type": "stream",
     "text": [
      "   operator_id  avg_time_duration\n",
      "0     879896.0          13.396199\n",
      "1     879898.0          14.206548\n",
      "2     880020.0           7.714286\n",
      "3     880022.0          14.000000\n",
      "4     880026.0           5.935185\n"
     ]
    },
    {
     "data": {
      "image/png": "[encoded data removed]",
      "text/plain": [
       "<Figure size 1080x432 with 1 Axes>"
      ]
     },
     "metadata": {
      "needs_background": "light"
     },
     "output_type": "display_data"
    }
   ],
   "source": [
    "# Cреднее время ожидания до ответа оператора по всему временному интервалу\n",
    "avg_time_expectation=df_no_anomaly.query('direction == \"in\"')\\\n",
    "                            .groupby(by='operator_id').agg({'avg_time_duration':'mean'}).reset_index()\n",
    "print(avg_time_expectation.head())\n",
    "fig = plt.figure(figsize=(15, 6))\n",
    "plt.hist(avg_time_expectation['avg_time_duration'], bins=100);\n",
    "plt.title(\"Гистограмма распределения среднего время ожидания клиента до ответа оператора\");\n",
    "plt.show()"
   ]
  },
  {
   "cell_type": "code",
   "execution_count": 14,
   "metadata": {},
   "outputs": [
    {
     "name": "stdout",
     "output_type": "stream",
     "text": [
      "Процент неэффективных операторов по критерию пропущенных звонков : 19.8\n"
     ]
    },
    {
     "data": {
      "text/html": [
       "<div>\n",
       "<style scoped>\n",
       "    .dataframe tbody tr th:only-of-type {\n",
       "        vertical-align: middle;\n",
       "    }\n",
       "\n",
       "    .dataframe tbody tr th {\n",
       "        vertical-align: top;\n",
       "    }\n",
       "\n",
       "    .dataframe thead th {\n",
       "        text-align: right;\n",
       "    }\n",
       "</style>\n",
       "<table border=\"1\" class=\"dataframe\">\n",
       "  <thead>\n",
       "    <tr style=\"text-align: right;\">\n",
       "      <th></th>\n",
       "      <th>operator_id</th>\n",
       "      <th>avg_time_duration</th>\n",
       "      <th>avg_time_duration_effective</th>\n",
       "    </tr>\n",
       "  </thead>\n",
       "  <tbody>\n",
       "    <tr>\n",
       "      <th>0</th>\n",
       "      <td>879896.0</td>\n",
       "      <td>13.396199</td>\n",
       "      <td>0</td>\n",
       "    </tr>\n",
       "    <tr>\n",
       "      <th>1</th>\n",
       "      <td>879898.0</td>\n",
       "      <td>14.206548</td>\n",
       "      <td>0</td>\n",
       "    </tr>\n",
       "    <tr>\n",
       "      <th>2</th>\n",
       "      <td>880020.0</td>\n",
       "      <td>7.714286</td>\n",
       "      <td>0</td>\n",
       "    </tr>\n",
       "    <tr>\n",
       "      <th>3</th>\n",
       "      <td>880022.0</td>\n",
       "      <td>14.000000</td>\n",
       "      <td>0</td>\n",
       "    </tr>\n",
       "    <tr>\n",
       "      <th>4</th>\n",
       "      <td>880026.0</td>\n",
       "      <td>5.935185</td>\n",
       "      <td>0</td>\n",
       "    </tr>\n",
       "  </tbody>\n",
       "</table>\n",
       "</div>"
      ],
      "text/plain": [
       "   operator_id  avg_time_duration  avg_time_duration_effective\n",
       "0     879896.0          13.396199                            0\n",
       "1     879898.0          14.206548                            0\n",
       "2     880020.0           7.714286                            0\n",
       "3     880022.0          14.000000                            0\n",
       "4     880026.0           5.935185                            0"
      ]
     },
     "execution_count": 14,
     "metadata": {},
     "output_type": "execute_result"
    }
   ],
   "source": [
    "# Создадим стоблбец avg_time_duration_effective и заполням 1 у операторов, у которых среднее время ожидания до ответа больше 25.\n",
    "avg_time_expectation['avg_time_duration_effective'] = np.where(avg_time_expectation['avg_time_duration'] > 25, 1, 0)\n",
    "print('Процент неэффективных операторов по критерию пропущенных звонков :',\\\n",
    "      round(avg_time_expectation['avg_time_duration_effective'].sum()\\\n",
    "            /avg_time_expectation['avg_time_duration_effective'].count()*100,1))\n",
    "avg_time_expectation.head()     "
   ]
  },
  {
   "cell_type": "markdown",
   "metadata": {},
   "source": [
    "**Определен критерий по времени ожидания клиентами ответа оператора.Критерием неэффетивного оператора время ожидания клиента на обслуживания более 25 секунд. 80% клиентов дожидаются ответа оператора в течении 25 секунд.**"
   ]
  },
  {
   "cell_type": "markdown",
   "metadata": {},
   "source": [
    "### Критерий 3 для операторов, работающих на входящих - Средняя длительность звонка"
   ]
  },
  {
   "cell_type": "code",
   "execution_count": 15,
   "metadata": {},
   "outputs": [
    {
     "name": "stdout",
     "output_type": "stream",
     "text": [
      "   operator_id  avg_call_duration\n",
      "0     879896.0         148.497703\n",
      "1     879898.0          66.539881\n",
      "2     880020.0          42.714286\n",
      "3     880022.0          64.000000\n",
      "4     880026.0          56.675926\n"
     ]
    },
    {
     "data": {
      "image/png": "[encoded data removed]",
      "text/plain": [
       "<Figure size 1080x432 with 1 Axes>"
      ]
     },
     "metadata": {
      "needs_background": "light"
     },
     "output_type": "display_data"
    }
   ],
   "source": [
    "# Средней длительности звонка без учета времени на ожидания\n",
    "avg_time_duration=df_no_anomaly.query('direction == \"in\"')\\\n",
    "                            .groupby(by='operator_id').agg({'avg_call_duration':'mean'}).reset_index()\n",
    "print(avg_time_duration.head())\n",
    "fig = plt.figure(figsize=(15, 6))\n",
    "plt.hist(avg_time_duration['avg_call_duration'], bins=100);\n",
    "plt.title(\"Гистограмма распределения средней длительности звонка\");\n",
    "plt.show()\n"
   ]
  },
  {
   "cell_type": "code",
   "execution_count": 16,
   "metadata": {
    "scrolled": true
   },
   "outputs": [
    {
     "name": "stdout",
     "output_type": "stream",
     "text": [
      "Процент неэффективных операторов по критерию длительность звонка : 4.8\n"
     ]
    },
    {
     "data": {
      "text/html": [
       "<div>\n",
       "<style scoped>\n",
       "    .dataframe tbody tr th:only-of-type {\n",
       "        vertical-align: middle;\n",
       "    }\n",
       "\n",
       "    .dataframe tbody tr th {\n",
       "        vertical-align: top;\n",
       "    }\n",
       "\n",
       "    .dataframe thead th {\n",
       "        text-align: right;\n",
       "    }\n",
       "</style>\n",
       "<table border=\"1\" class=\"dataframe\">\n",
       "  <thead>\n",
       "    <tr style=\"text-align: right;\">\n",
       "      <th></th>\n",
       "      <th>operator_id</th>\n",
       "      <th>avg_call_duration</th>\n",
       "      <th>avg_call_duration_effective</th>\n",
       "    </tr>\n",
       "  </thead>\n",
       "  <tbody>\n",
       "    <tr>\n",
       "      <th>0</th>\n",
       "      <td>879896.0</td>\n",
       "      <td>148.497703</td>\n",
       "      <td>0</td>\n",
       "    </tr>\n",
       "    <tr>\n",
       "      <th>1</th>\n",
       "      <td>879898.0</td>\n",
       "      <td>66.539881</td>\n",
       "      <td>0</td>\n",
       "    </tr>\n",
       "    <tr>\n",
       "      <th>2</th>\n",
       "      <td>880020.0</td>\n",
       "      <td>42.714286</td>\n",
       "      <td>0</td>\n",
       "    </tr>\n",
       "    <tr>\n",
       "      <th>3</th>\n",
       "      <td>880022.0</td>\n",
       "      <td>64.000000</td>\n",
       "      <td>0</td>\n",
       "    </tr>\n",
       "    <tr>\n",
       "      <th>4</th>\n",
       "      <td>880026.0</td>\n",
       "      <td>56.675926</td>\n",
       "      <td>0</td>\n",
       "    </tr>\n",
       "  </tbody>\n",
       "</table>\n",
       "</div>"
      ],
      "text/plain": [
       "   operator_id  avg_call_duration  avg_call_duration_effective\n",
       "0     879896.0         148.497703                            0\n",
       "1     879898.0          66.539881                            0\n",
       "2     880020.0          42.714286                            0\n",
       "3     880022.0          64.000000                            0\n",
       "4     880026.0          56.675926                            0"
      ]
     },
     "execution_count": 16,
     "metadata": {},
     "output_type": "execute_result"
    }
   ],
   "source": [
    "# Создадим стоблбец avg_time_duration_effective и заполням 1 у операторов, у которых среднее время ожидания до ответа больше 240.\n",
    "avg_time_duration['avg_call_duration_effective'] = np.where(avg_time_duration['avg_call_duration'] > 240, 1, 0)\n",
    "print('Процент неэффективных операторов по критерию длительность звонка :',\\\n",
    "      round(avg_time_duration['avg_call_duration_effective'].sum()\\\n",
    "            /avg_time_duration['avg_call_duration_effective'].count()*100,1))\n",
    "avg_time_duration.head()      \n"
   ]
  },
  {
   "cell_type": "markdown",
   "metadata": {},
   "source": [
    "**Длительноть 95,2% звонков не превышает 240 секунд. Критерием неэффетивного оператора длительность звонка более 240 секунд (4 минуты).**"
   ]
  },
  {
   "cell_type": "markdown",
   "metadata": {},
   "source": [
    "### Критерий 4 для операторов, работающих на исходящих звонках - среднее число звонков"
   ]
  },
  {
   "cell_type": "code",
   "execution_count": 17,
   "metadata": {
    "scrolled": true
   },
   "outputs": [
    {
     "name": "stdout",
     "output_type": "stream",
     "text": [
      "   operator_id  calls_count\n",
      "0     879896.0     9.083333\n",
      "1     879898.0    42.405882\n",
      "2     880020.0     2.923077\n",
      "3     880022.0     3.048387\n",
      "4     880026.0    13.463415\n"
     ]
    },
    {
     "data": {
      "image/png": "[encoded data removed]",
      "text/plain": [
       "<Figure size 1080x432 with 1 Axes>"
      ]
     },
     "metadata": {
      "needs_background": "light"
     },
     "output_type": "display_data"
    }
   ],
   "source": [
    "# Cреднее количество  исходящих звонков  \n",
    "avg_count_outgoing_call=df_no_anomaly.query('direction == \"out\"')\\\n",
    "                            .groupby(by='operator_id').agg({'calls_count':'mean'}).reset_index()\n",
    "print(avg_count_outgoing_call.head())\n",
    "avg_count_outgoing_call.columns=['operator_id', 'avg_calls_count']\n",
    "\n",
    "fig = plt.figure(figsize=(15, 6))\n",
    "plt.hist(avg_count_outgoing_call['avg_calls_count'], bins=100);\n",
    "plt.title(\"Гистограмма распределения среднего количества исходящих звонков, сделанные операторами\");\n",
    "plt.show()"
   ]
  },
  {
   "cell_type": "code",
   "execution_count": 18,
   "metadata": {},
   "outputs": [
    {
     "name": "stdout",
     "output_type": "stream",
     "text": [
      "Процент неэффективных операторов по критерию среднее количество звонков : 81.1\n"
     ]
    },
    {
     "data": {
      "text/html": [
       "<div>\n",
       "<style scoped>\n",
       "    .dataframe tbody tr th:only-of-type {\n",
       "        vertical-align: middle;\n",
       "    }\n",
       "\n",
       "    .dataframe tbody tr th {\n",
       "        vertical-align: top;\n",
       "    }\n",
       "\n",
       "    .dataframe thead th {\n",
       "        text-align: right;\n",
       "    }\n",
       "</style>\n",
       "<table border=\"1\" class=\"dataframe\">\n",
       "  <thead>\n",
       "    <tr style=\"text-align: right;\">\n",
       "      <th></th>\n",
       "      <th>operator_id</th>\n",
       "      <th>avg_calls_count</th>\n",
       "      <th>avg_count_outgoing_call_effective</th>\n",
       "    </tr>\n",
       "  </thead>\n",
       "  <tbody>\n",
       "    <tr>\n",
       "      <th>0</th>\n",
       "      <td>879896.0</td>\n",
       "      <td>9.083333</td>\n",
       "      <td>1</td>\n",
       "    </tr>\n",
       "    <tr>\n",
       "      <th>1</th>\n",
       "      <td>879898.0</td>\n",
       "      <td>42.405882</td>\n",
       "      <td>0</td>\n",
       "    </tr>\n",
       "    <tr>\n",
       "      <th>2</th>\n",
       "      <td>880020.0</td>\n",
       "      <td>2.923077</td>\n",
       "      <td>1</td>\n",
       "    </tr>\n",
       "    <tr>\n",
       "      <th>3</th>\n",
       "      <td>880022.0</td>\n",
       "      <td>3.048387</td>\n",
       "      <td>1</td>\n",
       "    </tr>\n",
       "    <tr>\n",
       "      <th>4</th>\n",
       "      <td>880026.0</td>\n",
       "      <td>13.463415</td>\n",
       "      <td>1</td>\n",
       "    </tr>\n",
       "  </tbody>\n",
       "</table>\n",
       "</div>"
      ],
      "text/plain": [
       "   operator_id  avg_calls_count  avg_count_outgoing_call_effective\n",
       "0     879896.0         9.083333                                  1\n",
       "1     879898.0        42.405882                                  0\n",
       "2     880020.0         2.923077                                  1\n",
       "3     880022.0         3.048387                                  1\n",
       "4     880026.0        13.463415                                  1"
      ]
     },
     "execution_count": 18,
     "metadata": {},
     "output_type": "execute_result"
    }
   ],
   "source": [
    "# Создадим стоблбец avg_count_outgoing_call_effective и заполням 1 у операторов, у которых среднее количество звонков 20.\n",
    "avg_count_outgoing_call['avg_count_outgoing_call_effective'] = np.where(avg_count_outgoing_call['avg_calls_count'] < 20, 1, 0)\n",
    "print('Процент неэффективных операторов по критерию среднее количество звонков :',\\\n",
    "      round(avg_count_outgoing_call['avg_count_outgoing_call_effective'].sum()\\\n",
    "            /avg_count_outgoing_call['avg_count_outgoing_call_effective'].count()*100,1))\n",
    "avg_count_outgoing_call.head()  "
   ]
  },
  {
   "cell_type": "markdown",
   "metadata": {},
   "source": [
    "**Среднее количество звонков у 89,2% операторов не превышает 20 (критерий неэффетивного оператора количество звонка менее 20).**"
   ]
  },
  {
   "cell_type": "markdown",
   "metadata": {},
   "source": [
    "### Критерий 5 для операторов, работающих на исходящих звонках -  время, которое уходит на один звонок"
   ]
  },
  {
   "cell_type": "code",
   "execution_count": 19,
   "metadata": {},
   "outputs": [
    {
     "name": "stdout",
     "output_type": "stream",
     "text": [
      "   operator_id  call_duration\n",
      "0     879896.0     606.729167\n",
      "1     879898.0    1476.694118\n",
      "2     880020.0     149.692308\n",
      "3     880022.0     236.048387\n",
      "4     880026.0     925.237805\n"
     ]
    },
    {
     "data": {
      "image/png": "[encoded data removed]",
      "text/plain": [
       "<Figure size 1080x432 with 1 Axes>"
      ]
     },
     "metadata": {
      "needs_background": "light"
     },
     "output_type": "display_data"
    }
   ],
   "source": [
    "# Cреднее время одного звонка\n",
    "avg_duration_outgoing_call=df_no_anomaly.query('direction == \"out\"')\\\n",
    "                            .groupby(by='operator_id').agg({'call_duration':'mean'}).reset_index()\n",
    "print(avg_duration_outgoing_call.head())\n",
    "avg_duration_outgoing_call.columns=['operator_id', 'avg_duration_outgoing']\n",
    "\n",
    "fig = plt.figure(figsize=(15, 6))\n",
    "plt.hist(avg_duration_outgoing_call['avg_duration_outgoing'], bins=100);\n",
    "plt.title(\"Гистограмма распределения средней продолжительности исходящих звонков\");\n",
    "plt.show()"
   ]
  },
  {
   "cell_type": "code",
   "execution_count": 20,
   "metadata": {
    "scrolled": true
   },
   "outputs": [
    {
     "name": "stdout",
     "output_type": "stream",
     "text": [
      "Процент неэффективных операторов по критерию среднее количество звонков : 50.6\n"
     ]
    },
    {
     "data": {
      "text/html": [
       "<div>\n",
       "<style scoped>\n",
       "    .dataframe tbody tr th:only-of-type {\n",
       "        vertical-align: middle;\n",
       "    }\n",
       "\n",
       "    .dataframe tbody tr th {\n",
       "        vertical-align: top;\n",
       "    }\n",
       "\n",
       "    .dataframe thead th {\n",
       "        text-align: right;\n",
       "    }\n",
       "</style>\n",
       "<table border=\"1\" class=\"dataframe\">\n",
       "  <thead>\n",
       "    <tr style=\"text-align: right;\">\n",
       "      <th></th>\n",
       "      <th>operator_id</th>\n",
       "      <th>avg_calls_count</th>\n",
       "      <th>avg_count_outgoing_call_effective</th>\n",
       "    </tr>\n",
       "  </thead>\n",
       "  <tbody>\n",
       "    <tr>\n",
       "      <th>0</th>\n",
       "      <td>879896.0</td>\n",
       "      <td>9.083333</td>\n",
       "      <td>1</td>\n",
       "    </tr>\n",
       "    <tr>\n",
       "      <th>1</th>\n",
       "      <td>879898.0</td>\n",
       "      <td>42.405882</td>\n",
       "      <td>0</td>\n",
       "    </tr>\n",
       "    <tr>\n",
       "      <th>2</th>\n",
       "      <td>880020.0</td>\n",
       "      <td>2.923077</td>\n",
       "      <td>1</td>\n",
       "    </tr>\n",
       "    <tr>\n",
       "      <th>3</th>\n",
       "      <td>880022.0</td>\n",
       "      <td>3.048387</td>\n",
       "      <td>1</td>\n",
       "    </tr>\n",
       "    <tr>\n",
       "      <th>4</th>\n",
       "      <td>880026.0</td>\n",
       "      <td>13.463415</td>\n",
       "      <td>1</td>\n",
       "    </tr>\n",
       "  </tbody>\n",
       "</table>\n",
       "</div>"
      ],
      "text/plain": [
       "   operator_id  avg_calls_count  avg_count_outgoing_call_effective\n",
       "0     879896.0         9.083333                                  1\n",
       "1     879898.0        42.405882                                  0\n",
       "2     880020.0         2.923077                                  1\n",
       "3     880022.0         3.048387                                  1\n",
       "4     880026.0        13.463415                                  1"
      ]
     },
     "execution_count": 20,
     "metadata": {},
     "output_type": "execute_result"
    }
   ],
   "source": [
    "# Создадим стоблбец avg_duration_outgoing_call_effective и заполням 1 у операторов, у которых среднее количество звонков 240.\n",
    "avg_duration_outgoing_call['avg_duration_outgoing_call_effective'] = np.where(avg_duration_outgoing_call['avg_duration_outgoing'] > 240, 1, 0)\n",
    "print('Процент неэффективных операторов по критерию среднее количество звонков :',\\\n",
    "      round(avg_duration_outgoing_call['avg_duration_outgoing_call_effective'].sum()\\\n",
    "            /avg_duration_outgoing_call['avg_duration_outgoing_call_effective'].count()*100,1))\n",
    "avg_count_outgoing_call.head()  "
   ]
  },
  {
   "cell_type": "markdown",
   "metadata": {},
   "source": [
    "### Выявление неэффективных опареторов (агрегация по критериев)"
   ]
  },
  {
   "cell_type": "code",
   "execution_count": 21,
   "metadata": {},
   "outputs": [],
   "source": [
    "# Объединим датафрейм без анмалий с оценками выставленными про пяти критериям неэффективности\n",
    "# Критерий 1- Процент пропущенных вызовов \n",
    "df_no_anomaly=df_no_anomaly.merge(call_count[['operator_id','call_missed_effective']], on='operator_id')\n",
    "# Критерий 2  - Время ожидания клиента на обслуживания¶\n",
    "df_no_anomaly=df_no_anomaly.merge(avg_time_expectation[['operator_id', 'avg_time_duration_effective']], on='operator_id')\n",
    "# Критерий 3  - Средняя длительность звонка\n",
    "df_no_anomaly=df_no_anomaly.merge(avg_time_duration [['operator_id','avg_call_duration_effective']], on='operator_id')\n",
    "# Критерий 4 для операторов, работающих на исходящих звонках - число звонков\n",
    "df_no_anomaly=df_no_anomaly.merge(avg_count_outgoing_call [['operator_id','avg_count_outgoing_call_effective']], on='operator_id')\n",
    "# Критерий 5 для операторов, работающих на исходящих звонках - время, которое уходит на один звонок\n",
    "df_no_anomaly=df_no_anomaly.merge(avg_duration_outgoing_call [['operator_id','avg_duration_outgoing_call_effective']], on='operator_id')"
   ]
  },
  {
   "cell_type": "code",
   "execution_count": 22,
   "metadata": {
    "scrolled": true
   },
   "outputs": [
    {
     "name": "stdout",
     "output_type": "stream",
     "text": [
      "Список неэффектиных операторов : [882684.0 882686.0 902510.0 902532.0 882690.0 939478.0 888534.0 888532.0\n",
      " 887276.0 959312.0 884408.0 906680.0 891410.0 891414.0 925826.0 908958.0\n",
      " 893420.0 897872.0 890404.0 890406.0 888406.0 890618.0 900892.0 890228.0\n",
      " 899082.0 889754.0 894232.0 894224.0 894230.0 893804.0 899250.0 895776.0\n",
      " 906396.0 906392.0 906404.0 906400.0 906408.0 906410.0 906406.0 906412.0\n",
      " 900352.0 900354.0 901884.0 901880.0 909134.0 903318.0 898414.0 923528.0\n",
      " 923526.0 904044.0 913942.0 905542.0 905538.0 905566.0 926490.0 904344.0\n",
      " 912296.0 906070.0 905862.0 913788.0 919554.0 919552.0 920902.0 920852.0\n",
      " 920706.0 921814.0 921818.0 944646.0 915556.0 924948.0 924930.0 924928.0\n",
      " 924954.0 919792.0 919794.0 917852.0 928382.0 964510.0 919218.0 926872.0\n",
      " 937368.0 918888.0 920666.0 924546.0 921320.0 939708.0 918978.0 929424.0\n",
      " 940430.0 940442.0 930020.0 928888.0 928886.0 929876.0 944220.0 944226.0\n",
      " 944218.0 944222.0 944216.0 941844.0 937432.0 958460.0 958452.0 958434.0\n",
      " 939370.0 939376.0 938414.0 958640.0 937902.0 937966.0 937760.0 937808.0\n",
      " 937868.0 937780.0 937864.0 937874.0 937898.0 952948.0 944764.0 954650.0\n",
      " 947304.0 948758.0 948756.0 958416.0 953464.0 957922.0]\n",
      "Количество неэффектиных операторов : 126\n"
     ]
    }
   ],
   "source": [
    "# Суммируем оценки эффективности, запишем общую неэффективность в столбец 'total_not_effective'  \n",
    "df_no_anomaly['total_not_effective']=df_no_anomaly['call_missed_effective']\\\n",
    "                                    +df_no_anomaly['avg_time_duration_effective']+df_no_anomaly['avg_call_duration_effective']\\\n",
    "                                    +df_no_anomaly['avg_count_outgoing_call_effective']+df_no_anomaly['avg_duration_outgoing_call_effective']\n",
    "#Получим неэффетивных операторов в датафрейме \n",
    "operator_id_not_effective=df_no_anomaly.query('total_not_effective >= 2')\n",
    "# выведем уникальных операторов датафрейма operator_id_not_effective\n",
    "\n",
    "print('Список неэффектиных операторов :', operator_id_not_effective['operator_id'].unique())\n",
    "print('Количество неэффектиных операторов :', operator_id_not_effective['operator_id'].nunique())"
   ]
  },
  {
   "cell_type": "markdown",
   "metadata": {},
   "source": [
    "**После критерия при попадании в границы неэффективной работы, оператору присваивалась метка (1). Далее выполнена обощающая оценка неэффективности оператора, которая  включала сумму меток критериев, если оператор наберает  2-х и более балла - его считаем неэффективным.**"
   ]
  },
  {
   "cell_type": "markdown",
   "metadata": {},
   "source": [
    "## Специализация колл-центров"
   ]
  },
  {
   "cell_type": "code",
   "execution_count": 23,
   "metadata": {},
   "outputs": [
    {
     "data": {
      "text/html": [
       "<div>\n",
       "<style scoped>\n",
       "    .dataframe tbody tr th:only-of-type {\n",
       "        vertical-align: middle;\n",
       "    }\n",
       "\n",
       "    .dataframe tbody tr th {\n",
       "        vertical-align: top;\n",
       "    }\n",
       "\n",
       "    .dataframe thead th {\n",
       "        text-align: right;\n",
       "    }\n",
       "</style>\n",
       "<table border=\"1\" class=\"dataframe\">\n",
       "  <thead>\n",
       "    <tr style=\"text-align: right;\">\n",
       "      <th></th>\n",
       "      <th>user_id</th>\n",
       "      <th>calls_count</th>\n",
       "      <th>calls_count_in</th>\n",
       "      <th>calls_count_in_percent</th>\n",
       "      <th>calls_count_out_percent</th>\n",
       "    </tr>\n",
       "  </thead>\n",
       "  <tbody>\n",
       "    <tr>\n",
       "      <th>0</th>\n",
       "      <td>166405</td>\n",
       "      <td>10462</td>\n",
       "      <td>1970</td>\n",
       "      <td>19.0</td>\n",
       "      <td>81.0</td>\n",
       "    </tr>\n",
       "    <tr>\n",
       "      <th>1</th>\n",
       "      <td>166407</td>\n",
       "      <td>576</td>\n",
       "      <td>73</td>\n",
       "      <td>13.0</td>\n",
       "      <td>87.0</td>\n",
       "    </tr>\n",
       "    <tr>\n",
       "      <th>2</th>\n",
       "      <td>166485</td>\n",
       "      <td>1327</td>\n",
       "      <td>431</td>\n",
       "      <td>32.0</td>\n",
       "      <td>68.0</td>\n",
       "    </tr>\n",
       "    <tr>\n",
       "      <th>3</th>\n",
       "      <td>166487</td>\n",
       "      <td>201</td>\n",
       "      <td>56</td>\n",
       "      <td>28.0</td>\n",
       "      <td>72.0</td>\n",
       "    </tr>\n",
       "    <tr>\n",
       "      <th>4</th>\n",
       "      <td>166503</td>\n",
       "      <td>415</td>\n",
       "      <td>230</td>\n",
       "      <td>55.0</td>\n",
       "      <td>45.0</td>\n",
       "    </tr>\n",
       "  </tbody>\n",
       "</table>\n",
       "</div>"
      ],
      "text/plain": [
       "   user_id  calls_count  calls_count_in  calls_count_in_percent  \\\n",
       "0   166405        10462            1970                    19.0   \n",
       "1   166407          576              73                    13.0   \n",
       "2   166485         1327             431                    32.0   \n",
       "3   166487          201              56                    28.0   \n",
       "4   166503          415             230                    55.0   \n",
       "\n",
       "   calls_count_out_percent  \n",
       "0                     81.0  \n",
       "1                     87.0  \n",
       "2                     68.0  \n",
       "3                     72.0  \n",
       "4                     45.0  "
      ]
     },
     "execution_count": 23,
     "metadata": {},
     "output_type": "execute_result"
    }
   ],
   "source": [
    "# Рассчитаем количесвто звонков каждого из колл центров\n",
    "user_id_calls_count=df_no_anomaly.groupby(by='user_id').agg({'calls_count':'sum'}).reset_index()\n",
    "# Рассчитаем количесвто входящих звонков каждого из колл центров\n",
    "user_id_calls_count_in=df_no_anomaly.query('direction == \"in\"').groupby(by='user_id').agg({'calls_count':'sum'}).reset_index()\n",
    "#Заменим имена столбцов, что бы в дальнейшем  объединить датафреймы \n",
    "user_id_calls_count_in=user_id_calls_count_in.rename(columns={'calls_count':'calls_count_in'})\n",
    "#Объедине датафреймов \n",
    "user_id_calls_count=user_id_calls_count.merge(user_id_calls_count_in, on='user_id')\n",
    "# Доля входящих звонков по отношению к общему количеству звонков, обрабатывющих колл центром\n",
    "user_id_calls_count['calls_count_in_percent']=round(user_id_calls_count['calls_count_in']\\\n",
    "                                                    / user_id_calls_count['calls_count']*100,0)\n",
    "# Доля исходящих звонков по отношению к общему количеству звонков, обрабатывющих колл центром\n",
    "user_id_calls_count['calls_count_out_percent']= 100-user_id_calls_count['calls_count_in_percent']\n",
    "user_id_calls_count.head()\n"
   ]
  },
  {
   "cell_type": "code",
   "execution_count": 24,
   "metadata": {
    "scrolled": false
   },
   "outputs": [
    {
     "data": {
      "text/html": [
       "<div>\n",
       "<style scoped>\n",
       "    .dataframe tbody tr th:only-of-type {\n",
       "        vertical-align: middle;\n",
       "    }\n",
       "\n",
       "    .dataframe tbody tr th {\n",
       "        vertical-align: top;\n",
       "    }\n",
       "\n",
       "    .dataframe thead th {\n",
       "        text-align: right;\n",
       "    }\n",
       "</style>\n",
       "<table border=\"1\" class=\"dataframe\">\n",
       "  <thead>\n",
       "    <tr style=\"text-align: right;\">\n",
       "      <th></th>\n",
       "      <th>user_id</th>\n",
       "      <th>calls_count</th>\n",
       "      <th>calls_count_in</th>\n",
       "      <th>calls_count_in_percent</th>\n",
       "      <th>calls_count_out_percent</th>\n",
       "      <th>user_id_category</th>\n",
       "    </tr>\n",
       "  </thead>\n",
       "  <tbody>\n",
       "    <tr>\n",
       "      <th>0</th>\n",
       "      <td>166405</td>\n",
       "      <td>10462</td>\n",
       "      <td>1970</td>\n",
       "      <td>19.0</td>\n",
       "      <td>81.0</td>\n",
       "      <td>категория исходящие</td>\n",
       "    </tr>\n",
       "    <tr>\n",
       "      <th>1</th>\n",
       "      <td>166407</td>\n",
       "      <td>576</td>\n",
       "      <td>73</td>\n",
       "      <td>13.0</td>\n",
       "      <td>87.0</td>\n",
       "      <td>категория исходящие</td>\n",
       "    </tr>\n",
       "    <tr>\n",
       "      <th>2</th>\n",
       "      <td>166485</td>\n",
       "      <td>1327</td>\n",
       "      <td>431</td>\n",
       "      <td>32.0</td>\n",
       "      <td>68.0</td>\n",
       "      <td>категория исходящие</td>\n",
       "    </tr>\n",
       "    <tr>\n",
       "      <th>3</th>\n",
       "      <td>166487</td>\n",
       "      <td>201</td>\n",
       "      <td>56</td>\n",
       "      <td>28.0</td>\n",
       "      <td>72.0</td>\n",
       "      <td>категория исходящие</td>\n",
       "    </tr>\n",
       "    <tr>\n",
       "      <th>4</th>\n",
       "      <td>166503</td>\n",
       "      <td>415</td>\n",
       "      <td>230</td>\n",
       "      <td>55.0</td>\n",
       "      <td>45.0</td>\n",
       "      <td>категория исходящие и входящие</td>\n",
       "    </tr>\n",
       "    <tr>\n",
       "      <th>5</th>\n",
       "      <td>166511</td>\n",
       "      <td>6398</td>\n",
       "      <td>1163</td>\n",
       "      <td>18.0</td>\n",
       "      <td>82.0</td>\n",
       "      <td>категория исходящие</td>\n",
       "    </tr>\n",
       "    <tr>\n",
       "      <th>6</th>\n",
       "      <td>166536</td>\n",
       "      <td>765</td>\n",
       "      <td>212</td>\n",
       "      <td>28.0</td>\n",
       "      <td>72.0</td>\n",
       "      <td>категория исходящие</td>\n",
       "    </tr>\n",
       "    <tr>\n",
       "      <th>7</th>\n",
       "      <td>166541</td>\n",
       "      <td>1864</td>\n",
       "      <td>1644</td>\n",
       "      <td>88.0</td>\n",
       "      <td>12.0</td>\n",
       "      <td>категория входящие</td>\n",
       "    </tr>\n",
       "    <tr>\n",
       "      <th>8</th>\n",
       "      <td>166604</td>\n",
       "      <td>623</td>\n",
       "      <td>543</td>\n",
       "      <td>87.0</td>\n",
       "      <td>13.0</td>\n",
       "      <td>категория входящие</td>\n",
       "    </tr>\n",
       "    <tr>\n",
       "      <th>9</th>\n",
       "      <td>166619</td>\n",
       "      <td>52</td>\n",
       "      <td>3</td>\n",
       "      <td>6.0</td>\n",
       "      <td>94.0</td>\n",
       "      <td>категория исходящие</td>\n",
       "    </tr>\n",
       "  </tbody>\n",
       "</table>\n",
       "</div>"
      ],
      "text/plain": [
       "   user_id  calls_count  calls_count_in  calls_count_in_percent  \\\n",
       "0   166405        10462            1970                    19.0   \n",
       "1   166407          576              73                    13.0   \n",
       "2   166485         1327             431                    32.0   \n",
       "3   166487          201              56                    28.0   \n",
       "4   166503          415             230                    55.0   \n",
       "5   166511         6398            1163                    18.0   \n",
       "6   166536          765             212                    28.0   \n",
       "7   166541         1864            1644                    88.0   \n",
       "8   166604          623             543                    87.0   \n",
       "9   166619           52               3                     6.0   \n",
       "\n",
       "   calls_count_out_percent                 user_id_category  \n",
       "0                     81.0              категория исходящие  \n",
       "1                     87.0              категория исходящие  \n",
       "2                     68.0              категория исходящие  \n",
       "3                     72.0              категория исходящие  \n",
       "4                     45.0  категория исходящие и входящие   \n",
       "5                     82.0              категория исходящие  \n",
       "6                     72.0              категория исходящие  \n",
       "7                     12.0               категория входящие  \n",
       "8                     13.0               категория входящие  \n",
       "9                     94.0              категория исходящие  "
      ]
     },
     "execution_count": 24,
     "metadata": {},
     "output_type": "execute_result"
    }
   ],
   "source": [
    "# Создадим столбце с специализацией колл-центров.\n",
    "user_id_calls_count.loc[user_id_calls_count['calls_count_in_percent'] <= 40, 'user_id_category'] = 'категория исходящие'\n",
    "\n",
    "user_id_calls_count.loc[((user_id_calls_count['calls_count_in_percent'] > 40)\\\n",
    "                         & (user_id_calls_count['calls_count_in_percent'] <= 60)),\\\n",
    "                        'user_id_category'] = 'категория исходящие и входящие '\n",
    "\n",
    "user_id_calls_count.loc[user_id_calls_count['calls_count_in_percent'] > 60, 'user_id_category'] = 'категория входящие'\n",
    "user_id_calls_count.head(10)"
   ]
  },
  {
   "cell_type": "code",
   "execution_count": 25,
   "metadata": {},
   "outputs": [
    {
     "data": {
      "text/html": [
       "<div>\n",
       "<style scoped>\n",
       "    .dataframe tbody tr th:only-of-type {\n",
       "        vertical-align: middle;\n",
       "    }\n",
       "\n",
       "    .dataframe tbody tr th {\n",
       "        vertical-align: top;\n",
       "    }\n",
       "\n",
       "    .dataframe thead th {\n",
       "        text-align: right;\n",
       "    }\n",
       "</style>\n",
       "<table border=\"1\" class=\"dataframe\">\n",
       "  <thead>\n",
       "    <tr style=\"text-align: right;\">\n",
       "      <th></th>\n",
       "      <th>user_id_category</th>\n",
       "    </tr>\n",
       "    <tr>\n",
       "      <th>user_id_category</th>\n",
       "      <th></th>\n",
       "    </tr>\n",
       "  </thead>\n",
       "  <tbody>\n",
       "    <tr>\n",
       "      <th>категория входящие</th>\n",
       "      <td>23</td>\n",
       "    </tr>\n",
       "    <tr>\n",
       "      <th>категория исходящие</th>\n",
       "      <td>53</td>\n",
       "    </tr>\n",
       "    <tr>\n",
       "      <th>категория исходящие и входящие</th>\n",
       "      <td>20</td>\n",
       "    </tr>\n",
       "  </tbody>\n",
       "</table>\n",
       "</div>"
      ],
      "text/plain": [
       "                                 user_id_category\n",
       "user_id_category                                 \n",
       "категория входящие                             23\n",
       "категория исходящие                            53\n",
       "категория исходящие и входящие                 20"
      ]
     },
     "execution_count": 25,
     "metadata": {},
     "output_type": "execute_result"
    },
    {
     "data": {
      "image/png": "[encoded data removed]",
      "text/plain": [
       "<Figure size 504x504 with 1 Axes>"
      ]
     },
     "metadata": {},
     "output_type": "display_data"
    }
   ],
   "source": [
    "user_id_calls_count.groupby(by='user_id_category').agg({'user_id_category':'count'})\\\n",
    "                .plot(kind='pie', y='user_id_category', autopct='%1.0f%%',\\\n",
    "                      title='Распределие операторов по количеству обрабатываемых входящих и исходящих звонков',figsize=(7, 7));\n",
    "user_id_calls_count.groupby(by='user_id_category').agg({'user_id_category':'count'})"
   ]
  },
  {
   "cell_type": "markdown",
   "metadata": {},
   "source": [
    "**Выполнена категоризация колл центров по работы в зависимости от количества входящих и исходящих звонков.**"
   ]
  },
  {
   "cell_type": "markdown",
   "metadata": {},
   "source": [
    "## Гипотезы для проверки "
   ]
  },
  {
   "cell_type": "markdown",
   "metadata": {},
   "source": [
    "### Среднее количество звонков в выходные равно среднему количеству звонков в будни. "
   ]
  },
  {
   "cell_type": "markdown",
   "metadata": {},
   "source": [
    "H_0: Среднее количество звонков (calls_count) в выходные равно среднему количеству звонков в будни`\n",
    "\n",
    "H_a: Среднее количество звонков (calls_count) в выходные не равно среднее количество звонков в будни`\n",
    "alpha = 0.05"
   ]
  },
  {
   "cell_type": "code",
   "execution_count": 26,
   "metadata": {},
   "outputs": [
    {
     "name": "stdout",
     "output_type": "stream",
     "text": [
      "0.7214365329488424\n",
      "Не получилось отвергнуть нулевую гипотезу\n"
     ]
    }
   ],
   "source": [
    "df_no_anomaly['date']=pd.to_datetime(df['date'])\n",
    "df_no_anomaly['day_week']=pd.to_datetime(df_no_anomaly['date']). dt.weekday\n",
    "\n",
    "# Сгруппируем выборку количества звонков в будни \n",
    "weekdays_calls_count=df_no_anomaly.query('day_week !=5 & day_week !=6')['calls_count']\n",
    "# Сгруппируем, что бы получить среднее количество звонков в выходные у операторов\n",
    "weekend_calls_count=df_no_anomaly.query('day_week ==5 | day_week ==6')['calls_count']\n",
    "\n",
    "results = st.ttest_ind(weekend_calls_count, weekdays_calls_count, equal_var=False) #вызов метода для проверки гипотезы\n",
    "\n",
    "alpha = 0.05 #задайте значение уровня значимости\n",
    "print (results.pvalue)\n",
    "# вывод значения p-value на экран \n",
    "# условный оператор с выводом строки с ответом\n",
    "if results.pvalue > alpha:\n",
    "    print ('Не получилось отвергнуть нулевую гипотезу')\n",
    "else:\n",
    "    print ('Не отвергаем нулевую гипотезу')"
   ]
  },
  {
   "cell_type": "markdown",
   "metadata": {},
   "source": [
    "### Средняя длительность звонка в выходные превышает среднюю длительность звонков в будни. "
   ]
  },
  {
   "cell_type": "markdown",
   "metadata": {},
   "source": [
    "H_0: Средняя длительность звонка (calls_count) в выходные равна средней длительности звонка в будни`\n",
    "\n",
    "H_a: Средняя длительность звонка (calls_count) в выходные не равна средней длительности звонка в будни` alpha = 0.05"
   ]
  },
  {
   "cell_type": "code",
   "execution_count": 27,
   "metadata": {},
   "outputs": [
    {
     "name": "stdout",
     "output_type": "stream",
     "text": [
      "0.6596347860749422\n",
      "Не получилось отвергнуть нулевую гипотезу\n"
     ]
    }
   ],
   "source": [
    "# Сгруппируем выборку количества звонков в будни \n",
    "weekdays_call_duration=df_no_anomaly.query('day_week !=5 & day_week !=6')['call_duration']\n",
    "# Сгруппируем, что бы получить среднее количество звонков в выходные у операторов\n",
    "weekend_call_duration=df_no_anomaly.query('day_week ==5 | day_week ==6')['call_duration']\n",
    "\n",
    "results = st.ttest_ind(weekend_call_duration, weekdays_call_duration, equal_var=False) #вызов метода для проверки гипотезы\n",
    "\n",
    "alpha = 0.05 #задайте значение уровня значимости\n",
    "print (results.pvalue)\n",
    "# вывод значения p-value на экран \n",
    "# условный оператор с выводом строки с ответом\n",
    "if results.pvalue > alpha:\n",
    "    print ('Не получилось отвергнуть нулевую гипотезу')\n",
    "else:\n",
    "    print ('Отвергаем нулевую гипотезу')"
   ]
  },
  {
   "cell_type": "markdown",
   "metadata": {},
   "source": [
    "## Выводы"
   ]
  },
  {
   "cell_type": "markdown",
   "metadata": {},
   "source": [
    "1) Выполнена преобработка данных:\n",
    "- из датафрейма были удалены 4893 явных дубликата;\n",
    "- вывлены аномальные operator_id 885876.0, 885890.0, 925922.0 они все относятся к user_id = 166582 их время работы превышает фактически возможное значение в сутках, вероятно их занесли в базу неоднократно. Удалил данных операторов из анализа;\n",
    "- выполнен изменение типа данных в столбце date;\n",
    "- так как цель исследования задача выявить неэффективных операторов, мной удалены все строки, в которых отсутствовали данные о id_operatora;\n",
    "- датафрейм удалены строки, в которых количество секунд превышает 28800 (8 часовой рабочий день) и количества звонков превышает 400.\n",
    "\n",
    "2) Границы критериев были определены из открытых источников, в которых описывается критерии эффектисвности работы операторов колл центров (KPI).\n",
    "Обобщающая оценка включает в себя сумму метрик критериев при попадании в границы неэффективной работы. Если сумма штрафных баллов 2 и более - оператор считается неэффективным.\n",
    "\n",
    "Для колл центров, обслуживающие входящие звонки:\n",
    "- критерий среднее количество пропущенных звонков. Границей неэффективной работы оператора по количеству пропущенных звонков более  8% от общего числа звонков. Такому критерию не соотвествуют 18,2 % операторов.\n",
    "\n",
    "- критерий среднее время ожидания клиентами ответа оператора, границей неэффективной работы оператора время ожидания клиента на обслуживания более 25 секунд.  Такому критерию не соотвествуют 19,8 % операторов. 80% клиентов дожидаются ответа оператора в течении 25 секунд.\n",
    "\n",
    "- критерий срелняя длительноть звонков. Границей неэффективной работы оператора является длительность, превышающая 240 секунд. Такому критерию не соотвествуют 4,8 % операторов. 95,2% звонков не превышает 240 секунд.\n",
    "\n",
    "Для колл центров, обслуживающие исходящие звонки:\n",
    "- критерий неэффетивного оператора количество звонка менее 20);\n",
    "\n",
    "- критерий средняя длительноть звонков. Границей неэффективной работы оператора является длительность, превышающая 240 секунд. Такому критерию не соотвествуют 54,9 % операторов.\n",
    "\n",
    "3) Выполнена категоризация колл центров: \n",
    "- при менее чем 40 % входящих звонков - категория \"исходящие\";\n",
    "- при количстве входящих звонков 40...60 % - категория \"исходящие и входящие\";\n",
    "- при количстве входящих звонков более 60 % - категория \" входящие\".\n",
    "\n",
    "Определен список  из неэффектиных операторов. Сформировано 5 критериев.\n",
    "Три первых для оценки эффективности работы операторов, которые обрабатывают входящие звонки.\n",
    "Четвертый и пяты для эффективности работы операторов, которые обрабатывают исходящие звонки.\n",
    "Следовательно, в зависимости от специализации колл центра, предлагаю соотвествующие критерии: \n",
    "- для категория \"исходящие\" критерии 4,5;\n",
    "- категория \"исходящие и входящие\" критерии 1,2,3,4,5;\n",
    "- категория \"входящие\" - 1,2,3.\n",
    "\n",
    "4) Были проверены и не получилось отвергнуть две гипотезы \n",
    "- о равенстве среднего количество звонков (calls_count) в выходные и  в будни` \n",
    "- о равенстве среднеей длительности звонка (calls_count) в выходные и  в будни` \n"
   ]
  }
 ],
 "metadata": {
  "ExecuteTimeLog": [
   {
    "duration": 1267,
    "start_time": "2023-06-04T10:21:50.499Z"
   },
   {
    "duration": 181,
    "start_time": "2023-06-04T10:21:53.303Z"
   },
   {
    "duration": 179,
    "start_time": "2023-06-04T10:23:26.608Z"
   },
   {
    "duration": 3,
    "start_time": "2023-06-04T10:34:00.766Z"
   },
   {
    "duration": 116,
    "start_time": "2023-06-04T10:34:00.808Z"
   },
   {
    "duration": 18,
    "start_time": "2023-06-04T10:34:00.927Z"
   },
   {
    "duration": 24,
    "start_time": "2023-06-04T10:34:00.946Z"
   },
   {
    "duration": 537,
    "start_time": "2023-06-04T10:34:00.972Z"
   },
   {
    "duration": 87,
    "start_time": "2023-06-04T10:34:01.512Z"
   },
   {
    "duration": 9,
    "start_time": "2023-06-04T10:34:01.602Z"
   },
   {
    "duration": 52,
    "start_time": "2023-06-04T10:34:01.613Z"
   },
   {
    "duration": 99,
    "start_time": "2023-06-04T10:34:01.668Z"
   },
   {
    "duration": 7291,
    "start_time": "2023-06-04T10:34:01.769Z"
   },
   {
    "duration": 298,
    "start_time": "2023-06-04T10:34:09.063Z"
   },
   {
    "duration": 12,
    "start_time": "2023-06-04T10:34:09.363Z"
   },
   {
    "duration": 284,
    "start_time": "2023-06-04T10:34:09.376Z"
   },
   {
    "duration": 11,
    "start_time": "2023-06-04T10:34:09.662Z"
   },
   {
    "duration": 345,
    "start_time": "2023-06-04T10:34:09.676Z"
   },
   {
    "duration": 11,
    "start_time": "2023-06-04T10:34:10.023Z"
   },
   {
    "duration": 47,
    "start_time": "2023-06-04T10:34:10.042Z"
   },
   {
    "duration": 10,
    "start_time": "2023-06-04T10:34:10.091Z"
   },
   {
    "duration": 40,
    "start_time": "2023-06-04T10:34:10.103Z"
   },
   {
    "duration": 15,
    "start_time": "2023-06-04T10:34:10.145Z"
   },
   {
    "duration": 78,
    "start_time": "2023-06-04T10:35:15.509Z"
   },
   {
    "duration": 11,
    "start_time": "2023-06-04T10:35:33.812Z"
   },
   {
    "duration": 27,
    "start_time": "2023-06-04T10:35:58.252Z"
   },
   {
    "duration": 19,
    "start_time": "2023-06-04T10:36:07.725Z"
   },
   {
    "duration": 24,
    "start_time": "2023-06-04T10:36:38.317Z"
   },
   {
    "duration": 1178,
    "start_time": "2023-06-04T10:36:44.726Z"
   },
   {
    "duration": 21,
    "start_time": "2023-06-04T10:36:48.109Z"
   },
   {
    "duration": 17,
    "start_time": "2023-06-04T10:37:07.964Z"
   },
   {
    "duration": 19,
    "start_time": "2023-06-04T10:37:41.510Z"
   },
   {
    "duration": 3,
    "start_time": "2023-06-04T10:37:54.416Z"
   },
   {
    "duration": 118,
    "start_time": "2023-06-04T10:37:54.421Z"
   },
   {
    "duration": 16,
    "start_time": "2023-06-04T10:37:54.540Z"
   },
   {
    "duration": 12,
    "start_time": "2023-06-04T10:37:54.558Z"
   },
   {
    "duration": 545,
    "start_time": "2023-06-04T10:37:54.572Z"
   },
   {
    "duration": 77,
    "start_time": "2023-06-04T10:37:55.119Z"
   },
   {
    "duration": 7,
    "start_time": "2023-06-04T10:37:55.198Z"
   },
   {
    "duration": 22,
    "start_time": "2023-06-04T10:37:55.207Z"
   },
   {
    "duration": 68,
    "start_time": "2023-06-04T10:37:55.243Z"
   },
   {
    "duration": 7666,
    "start_time": "2023-06-04T10:37:55.313Z"
   },
   {
    "duration": 297,
    "start_time": "2023-06-04T10:38:02.981Z"
   },
   {
    "duration": 12,
    "start_time": "2023-06-04T10:38:03.280Z"
   },
   {
    "duration": 284,
    "start_time": "2023-06-04T10:38:03.294Z"
   },
   {
    "duration": 11,
    "start_time": "2023-06-04T10:38:03.581Z"
   },
   {
    "duration": 692,
    "start_time": "2023-06-04T10:38:03.594Z"
   },
   {
    "duration": 11,
    "start_time": "2023-06-04T10:38:04.288Z"
   },
   {
    "duration": 48,
    "start_time": "2023-06-04T10:38:04.300Z"
   },
   {
    "duration": 10,
    "start_time": "2023-06-04T10:38:04.350Z"
   },
   {
    "duration": 19,
    "start_time": "2023-06-04T10:38:04.361Z"
   },
   {
    "duration": 1220,
    "start_time": "2023-06-04T10:38:04.381Z"
   },
   {
    "duration": 18,
    "start_time": "2023-06-04T10:40:18.510Z"
   },
   {
    "duration": 20,
    "start_time": "2023-06-04T10:40:36.327Z"
   },
   {
    "duration": 22,
    "start_time": "2023-06-04T10:41:30.679Z"
   },
   {
    "duration": 18,
    "start_time": "2023-06-04T10:41:52.415Z"
   },
   {
    "duration": 21,
    "start_time": "2023-06-04T10:42:18.951Z"
   },
   {
    "duration": 27,
    "start_time": "2023-06-04T10:42:37.479Z"
   },
   {
    "duration": 16,
    "start_time": "2023-06-04T10:42:41.431Z"
   },
   {
    "duration": 9,
    "start_time": "2023-06-04T10:48:43.801Z"
   },
   {
    "duration": 17,
    "start_time": "2023-06-04T10:48:53.337Z"
   },
   {
    "duration": 17,
    "start_time": "2023-06-04T10:49:03.018Z"
   },
   {
    "duration": 9,
    "start_time": "2023-06-04T10:49:38.712Z"
   },
   {
    "duration": 22,
    "start_time": "2023-06-04T10:52:28.219Z"
   },
   {
    "duration": 14,
    "start_time": "2023-06-04T10:53:56.858Z"
   },
   {
    "duration": 16,
    "start_time": "2023-06-04T10:54:10.874Z"
   },
   {
    "duration": 108,
    "start_time": "2023-06-04T10:54:58.979Z"
   },
   {
    "duration": 13,
    "start_time": "2023-06-04T10:56:05.763Z"
   },
   {
    "duration": 3,
    "start_time": "2023-06-04T10:56:15.005Z"
   },
   {
    "duration": 111,
    "start_time": "2023-06-04T10:56:23.210Z"
   },
   {
    "duration": 116,
    "start_time": "2023-06-04T10:56:42.902Z"
   },
   {
    "duration": 15,
    "start_time": "2023-06-04T10:57:16.363Z"
   },
   {
    "duration": 15,
    "start_time": "2023-06-04T10:57:28.043Z"
   },
   {
    "duration": 9,
    "start_time": "2023-06-04T10:57:34.819Z"
   },
   {
    "duration": 17,
    "start_time": "2023-06-04T10:57:48.053Z"
   },
   {
    "duration": 17,
    "start_time": "2023-06-04T10:57:59.809Z"
   },
   {
    "duration": 12,
    "start_time": "2023-06-04T10:59:14.212Z"
   },
   {
    "duration": 303,
    "start_time": "2023-06-04T11:01:08.813Z"
   },
   {
    "duration": 16,
    "start_time": "2023-06-04T11:01:43.957Z"
   },
   {
    "duration": 314,
    "start_time": "2023-06-04T11:01:44.902Z"
   },
   {
    "duration": 357,
    "start_time": "2023-06-04T11:02:29.125Z"
   },
   {
    "duration": 9,
    "start_time": "2023-06-04T11:03:14.219Z"
   },
   {
    "duration": 348,
    "start_time": "2023-06-04T11:03:40.406Z"
   },
   {
    "duration": 6,
    "start_time": "2023-06-04T11:05:31.262Z"
   },
   {
    "duration": 10,
    "start_time": "2023-06-04T11:05:37.718Z"
   },
   {
    "duration": 12,
    "start_time": "2023-06-04T11:07:04.600Z"
   },
   {
    "duration": 9,
    "start_time": "2023-06-04T11:07:31.471Z"
   },
   {
    "duration": 2482,
    "start_time": "2023-06-04T11:10:05.663Z"
   },
   {
    "duration": 142,
    "start_time": "2023-06-04T11:10:25.144Z"
   },
   {
    "duration": 5,
    "start_time": "2023-06-04T11:12:15.072Z"
   },
   {
    "duration": 4,
    "start_time": "2023-06-04T11:12:21.473Z"
   },
   {
    "duration": 140,
    "start_time": "2023-06-04T11:12:34.302Z"
   },
   {
    "duration": 15,
    "start_time": "2023-06-04T11:14:59.207Z"
   },
   {
    "duration": 167,
    "start_time": "2023-06-04T11:15:00.945Z"
   },
   {
    "duration": 167,
    "start_time": "2023-06-04T11:15:53.713Z"
   },
   {
    "duration": 219,
    "start_time": "2023-06-04T11:16:58.222Z"
   },
   {
    "duration": 3,
    "start_time": "2023-06-04T11:42:10.715Z"
   },
   {
    "duration": 116,
    "start_time": "2023-06-04T11:43:14.043Z"
   },
   {
    "duration": 76,
    "start_time": "2023-06-04T11:44:54.164Z"
   },
   {
    "duration": 221,
    "start_time": "2023-06-04T12:09:27.940Z"
   },
   {
    "duration": 311,
    "start_time": "2023-06-04T12:09:40.208Z"
   },
   {
    "duration": 3,
    "start_time": "2023-06-04T12:35:28.512Z"
   },
   {
    "duration": 114,
    "start_time": "2023-06-04T12:35:28.568Z"
   },
   {
    "duration": 18,
    "start_time": "2023-06-04T12:35:28.684Z"
   },
   {
    "duration": 13,
    "start_time": "2023-06-04T12:35:28.704Z"
   },
   {
    "duration": 608,
    "start_time": "2023-06-04T12:35:28.719Z"
   },
   {
    "duration": 95,
    "start_time": "2023-06-04T12:35:29.330Z"
   },
   {
    "duration": 15,
    "start_time": "2023-06-04T12:35:29.427Z"
   },
   {
    "duration": 40,
    "start_time": "2023-06-04T12:35:29.444Z"
   },
   {
    "duration": 82,
    "start_time": "2023-06-04T12:35:29.486Z"
   },
   {
    "duration": 7687,
    "start_time": "2023-06-04T12:35:29.570Z"
   },
   {
    "duration": 668,
    "start_time": "2023-06-04T12:35:37.259Z"
   },
   {
    "duration": 30,
    "start_time": "2023-06-04T12:35:37.929Z"
   },
   {
    "duration": 346,
    "start_time": "2023-06-04T12:35:37.961Z"
   },
   {
    "duration": 15,
    "start_time": "2023-06-04T12:35:38.310Z"
   },
   {
    "duration": 366,
    "start_time": "2023-06-04T12:35:38.342Z"
   },
   {
    "duration": 12,
    "start_time": "2023-06-04T12:35:38.710Z"
   },
   {
    "duration": 56,
    "start_time": "2023-06-04T12:35:38.724Z"
   },
   {
    "duration": 10,
    "start_time": "2023-06-04T12:35:38.781Z"
   },
   {
    "duration": 25,
    "start_time": "2023-06-04T12:35:38.793Z"
   },
   {
    "duration": 21,
    "start_time": "2023-06-04T12:35:38.841Z"
   },
   {
    "duration": 213,
    "start_time": "2023-06-04T12:35:38.864Z"
   },
   {
    "duration": 1166,
    "start_time": "2023-06-04T20:15:33.905Z"
   },
   {
    "duration": 175,
    "start_time": "2023-06-04T20:15:35.073Z"
   },
   {
    "duration": 18,
    "start_time": "2023-06-04T20:15:35.249Z"
   },
   {
    "duration": 31,
    "start_time": "2023-06-04T20:15:35.269Z"
   },
   {
    "duration": 519,
    "start_time": "2023-06-04T20:15:35.301Z"
   },
   {
    "duration": 71,
    "start_time": "2023-06-04T20:15:35.822Z"
   },
   {
    "duration": 5,
    "start_time": "2023-06-04T20:15:35.895Z"
   },
   {
    "duration": 43,
    "start_time": "2023-06-04T20:15:35.901Z"
   },
   {
    "duration": 102,
    "start_time": "2023-06-04T20:15:35.946Z"
   },
   {
    "duration": 6513,
    "start_time": "2023-06-04T20:15:36.051Z"
   },
   {
    "duration": 298,
    "start_time": "2023-06-04T20:15:42.566Z"
   },
   {
    "duration": 13,
    "start_time": "2023-06-04T20:15:42.866Z"
   },
   {
    "duration": 303,
    "start_time": "2023-06-04T20:15:42.880Z"
   },
   {
    "duration": 12,
    "start_time": "2023-06-04T20:15:43.185Z"
   },
   {
    "duration": 306,
    "start_time": "2023-06-04T20:15:43.198Z"
   },
   {
    "duration": 18,
    "start_time": "2023-06-04T20:15:43.506Z"
   },
   {
    "duration": 42,
    "start_time": "2023-06-04T20:15:43.526Z"
   },
   {
    "duration": 9,
    "start_time": "2023-06-04T20:15:43.569Z"
   },
   {
    "duration": 30,
    "start_time": "2023-06-04T20:15:43.580Z"
   },
   {
    "duration": 14,
    "start_time": "2023-06-04T20:15:43.625Z"
   },
   {
    "duration": 241,
    "start_time": "2023-06-04T20:15:43.640Z"
   },
   {
    "duration": 12,
    "start_time": "2023-06-04T20:15:54.290Z"
   },
   {
    "duration": 9,
    "start_time": "2023-06-04T20:16:07.751Z"
   },
   {
    "duration": 60,
    "start_time": "2023-06-05T03:28:12.946Z"
   },
   {
    "duration": 1209,
    "start_time": "2023-06-05T03:28:18.045Z"
   },
   {
    "duration": 220,
    "start_time": "2023-06-05T03:28:19.256Z"
   },
   {
    "duration": 37,
    "start_time": "2023-06-05T03:28:19.477Z"
   },
   {
    "duration": 16,
    "start_time": "2023-06-05T03:28:19.519Z"
   },
   {
    "duration": 574,
    "start_time": "2023-06-05T03:28:19.536Z"
   },
   {
    "duration": 66,
    "start_time": "2023-06-05T03:28:20.113Z"
   },
   {
    "duration": 18,
    "start_time": "2023-06-05T03:28:20.180Z"
   },
   {
    "duration": 63,
    "start_time": "2023-06-05T03:28:20.199Z"
   },
   {
    "duration": 117,
    "start_time": "2023-06-05T03:28:20.264Z"
   },
   {
    "duration": 6697,
    "start_time": "2023-06-05T03:28:20.383Z"
   },
   {
    "duration": 264,
    "start_time": "2023-06-05T03:28:27.082Z"
   },
   {
    "duration": 13,
    "start_time": "2023-06-05T03:28:27.348Z"
   },
   {
    "duration": 302,
    "start_time": "2023-06-05T03:28:27.363Z"
   },
   {
    "duration": 10,
    "start_time": "2023-06-05T03:28:27.667Z"
   },
   {
    "duration": 263,
    "start_time": "2023-06-05T03:28:27.690Z"
   },
   {
    "duration": 11,
    "start_time": "2023-06-05T03:28:27.955Z"
   },
   {
    "duration": 55,
    "start_time": "2023-06-05T03:28:27.967Z"
   },
   {
    "duration": 41,
    "start_time": "2023-06-05T03:28:28.023Z"
   },
   {
    "duration": 56,
    "start_time": "2023-06-05T03:28:28.067Z"
   },
   {
    "duration": 30,
    "start_time": "2023-06-05T03:28:28.125Z"
   },
   {
    "duration": 238,
    "start_time": "2023-06-05T03:28:28.158Z"
   },
   {
    "duration": 14,
    "start_time": "2023-06-05T06:44:21.488Z"
   },
   {
    "duration": 98,
    "start_time": "2023-06-05T06:47:55.948Z"
   },
   {
    "duration": 22,
    "start_time": "2023-06-05T06:48:05.712Z"
   },
   {
    "duration": 19,
    "start_time": "2023-06-05T06:49:03.449Z"
   },
   {
    "duration": 20,
    "start_time": "2023-06-05T06:49:16.695Z"
   },
   {
    "duration": 21,
    "start_time": "2023-06-05T06:49:44.424Z"
   },
   {
    "duration": 269,
    "start_time": "2023-06-05T06:50:01.738Z"
   },
   {
    "duration": 1308,
    "start_time": "2023-06-05T06:54:27.772Z"
   },
   {
    "duration": 87,
    "start_time": "2023-06-05T07:09:39.072Z"
   },
   {
    "duration": 1214,
    "start_time": "2023-06-05T07:09:53.278Z"
   },
   {
    "duration": 469,
    "start_time": "2023-06-05T07:10:29.348Z"
   },
   {
    "duration": 1351,
    "start_time": "2023-06-05T07:10:32.020Z"
   },
   {
    "duration": 11,
    "start_time": "2023-06-05T08:45:54.488Z"
   },
   {
    "duration": 9,
    "start_time": "2023-06-05T08:46:07.731Z"
   },
   {
    "duration": 10,
    "start_time": "2023-06-05T08:47:09.369Z"
   },
   {
    "duration": 245,
    "start_time": "2023-06-05T10:24:17.965Z"
   },
   {
    "duration": 242,
    "start_time": "2023-06-05T10:25:58.669Z"
   },
   {
    "duration": 10,
    "start_time": "2023-06-05T10:28:39.132Z"
   },
   {
    "duration": 49,
    "start_time": "2023-06-05T10:35:18.820Z"
   },
   {
    "duration": 59,
    "start_time": "2023-06-05T10:36:31.829Z"
   },
   {
    "duration": 12,
    "start_time": "2023-06-05T10:36:44.401Z"
   },
   {
    "duration": 10,
    "start_time": "2023-06-05T10:37:38.704Z"
   },
   {
    "duration": 14,
    "start_time": "2023-06-05T10:38:32.720Z"
   },
   {
    "duration": 33,
    "start_time": "2023-06-05T10:41:02.882Z"
   },
   {
    "duration": 17,
    "start_time": "2023-06-05T10:41:59.907Z"
   },
   {
    "duration": 1251,
    "start_time": "2023-06-05T18:18:56.915Z"
   },
   {
    "duration": 362,
    "start_time": "2023-06-05T18:18:58.168Z"
   },
   {
    "duration": 18,
    "start_time": "2023-06-05T18:18:58.531Z"
   },
   {
    "duration": 11,
    "start_time": "2023-06-05T18:18:58.551Z"
   },
   {
    "duration": 514,
    "start_time": "2023-06-05T18:18:58.564Z"
   },
   {
    "duration": 67,
    "start_time": "2023-06-05T18:18:59.080Z"
   },
   {
    "duration": 14,
    "start_time": "2023-06-05T18:18:59.148Z"
   },
   {
    "duration": 20,
    "start_time": "2023-06-05T18:18:59.164Z"
   },
   {
    "duration": 88,
    "start_time": "2023-06-05T18:18:59.186Z"
   },
   {
    "duration": 7546,
    "start_time": "2023-06-05T18:18:59.277Z"
   },
   {
    "duration": 302,
    "start_time": "2023-06-05T18:19:06.825Z"
   },
   {
    "duration": 27,
    "start_time": "2023-06-05T18:19:07.130Z"
   },
   {
    "duration": 304,
    "start_time": "2023-06-05T18:19:07.159Z"
   },
   {
    "duration": 11,
    "start_time": "2023-06-05T18:19:07.464Z"
   },
   {
    "duration": 272,
    "start_time": "2023-06-05T18:19:07.476Z"
   },
   {
    "duration": 14,
    "start_time": "2023-06-05T18:19:07.750Z"
   },
   {
    "duration": 329,
    "start_time": "2023-06-05T18:19:07.766Z"
   },
   {
    "duration": 13,
    "start_time": "2023-06-05T18:19:08.097Z"
   },
   {
    "duration": 648,
    "start_time": "2023-06-05T18:19:08.111Z"
   },
   {
    "duration": 14,
    "start_time": "2023-06-05T18:19:08.762Z"
   },
   {
    "duration": 85,
    "start_time": "2023-06-05T18:19:08.778Z"
   },
   {
    "duration": 15,
    "start_time": "2023-06-05T18:19:08.865Z"
   },
   {
    "duration": 31,
    "start_time": "2023-06-05T18:19:08.882Z"
   },
   {
    "duration": 14,
    "start_time": "2023-06-05T18:19:08.915Z"
   },
   {
    "duration": 220,
    "start_time": "2023-06-05T18:19:08.931Z"
   },
   {
    "duration": 4,
    "start_time": "2023-06-05T18:28:45.323Z"
   },
   {
    "duration": 102,
    "start_time": "2023-06-05T18:40:01.360Z"
   },
   {
    "duration": 12,
    "start_time": "2023-06-05T18:57:49.441Z"
   },
   {
    "duration": 14,
    "start_time": "2023-06-05T19:02:20.279Z"
   },
   {
    "duration": 12,
    "start_time": "2023-06-05T19:03:43.278Z"
   },
   {
    "duration": 6,
    "start_time": "2023-06-05T19:05:47.158Z"
   },
   {
    "duration": 137,
    "start_time": "2023-06-05T19:05:47.168Z"
   },
   {
    "duration": 19,
    "start_time": "2023-06-05T19:05:47.307Z"
   },
   {
    "duration": 32,
    "start_time": "2023-06-05T19:05:47.328Z"
   },
   {
    "duration": 573,
    "start_time": "2023-06-05T19:05:47.374Z"
   },
   {
    "duration": 85,
    "start_time": "2023-06-05T19:05:47.949Z"
   },
   {
    "duration": 7,
    "start_time": "2023-06-05T19:05:48.036Z"
   },
   {
    "duration": 32,
    "start_time": "2023-06-05T19:05:48.057Z"
   },
   {
    "duration": 87,
    "start_time": "2023-06-05T19:05:48.091Z"
   },
   {
    "duration": 7552,
    "start_time": "2023-06-05T19:05:48.181Z"
   },
   {
    "duration": 344,
    "start_time": "2023-06-05T19:05:55.735Z"
   },
   {
    "duration": 12,
    "start_time": "2023-06-05T19:05:56.081Z"
   },
   {
    "duration": 321,
    "start_time": "2023-06-05T19:05:56.096Z"
   },
   {
    "duration": 11,
    "start_time": "2023-06-05T19:05:56.419Z"
   },
   {
    "duration": 296,
    "start_time": "2023-06-05T19:05:56.431Z"
   },
   {
    "duration": 11,
    "start_time": "2023-06-05T19:05:56.729Z"
   },
   {
    "duration": 346,
    "start_time": "2023-06-05T19:05:56.742Z"
   },
   {
    "duration": 10,
    "start_time": "2023-06-05T19:05:57.090Z"
   },
   {
    "duration": 301,
    "start_time": "2023-06-05T19:05:57.102Z"
   },
   {
    "duration": 12,
    "start_time": "2023-06-05T19:05:57.405Z"
   },
   {
    "duration": 85,
    "start_time": "2023-06-05T19:05:57.418Z"
   },
   {
    "duration": 15,
    "start_time": "2023-06-05T19:05:57.505Z"
   },
   {
    "duration": 469,
    "start_time": "2023-06-05T19:05:57.522Z"
   },
   {
    "duration": 15,
    "start_time": "2023-06-05T19:05:57.992Z"
   },
   {
    "duration": 215,
    "start_time": "2023-06-05T19:05:58.008Z"
   },
   {
    "duration": 11,
    "start_time": "2023-06-05T19:05:58.224Z"
   },
   {
    "duration": 0,
    "start_time": "2023-06-05T19:05:58.237Z"
   },
   {
    "duration": 13,
    "start_time": "2023-06-05T19:06:53.980Z"
   },
   {
    "duration": 10,
    "start_time": "2023-06-05T19:07:17.641Z"
   },
   {
    "duration": 18,
    "start_time": "2023-06-05T19:11:59.786Z"
   },
   {
    "duration": 23,
    "start_time": "2023-06-05T19:13:13.663Z"
   },
   {
    "duration": 29,
    "start_time": "2023-06-05T19:14:30.300Z"
   },
   {
    "duration": 23,
    "start_time": "2023-06-05T19:15:08.617Z"
   },
   {
    "duration": 23,
    "start_time": "2023-06-05T19:16:11.542Z"
   },
   {
    "duration": 291,
    "start_time": "2023-06-05T19:16:38.405Z"
   },
   {
    "duration": 42,
    "start_time": "2023-06-05T19:23:47.503Z"
   },
   {
    "duration": 124,
    "start_time": "2023-06-05T19:32:57.895Z"
   },
   {
    "duration": 546,
    "start_time": "2023-06-05T19:33:07.682Z"
   },
   {
    "duration": 23,
    "start_time": "2023-06-05T19:33:52.143Z"
   },
   {
    "duration": 43,
    "start_time": "2023-06-05T19:35:20.897Z"
   },
   {
    "duration": 16,
    "start_time": "2023-06-05T19:35:32.236Z"
   },
   {
    "duration": 30,
    "start_time": "2023-06-05T19:35:46.936Z"
   },
   {
    "duration": 15,
    "start_time": "2023-06-05T19:36:07.508Z"
   },
   {
    "duration": 25,
    "start_time": "2023-06-05T19:37:12.290Z"
   },
   {
    "duration": 54,
    "start_time": "2023-06-05T19:37:52.818Z"
   },
   {
    "duration": 33,
    "start_time": "2023-06-05T19:38:58.190Z"
   },
   {
    "duration": 44,
    "start_time": "2023-06-05T19:39:16.790Z"
   },
   {
    "duration": 105,
    "start_time": "2023-06-05T19:46:45.945Z"
   },
   {
    "duration": 28,
    "start_time": "2023-06-05T19:47:07.609Z"
   },
   {
    "duration": 36,
    "start_time": "2023-06-05T19:49:54.434Z"
   },
   {
    "duration": 47,
    "start_time": "2023-06-05T19:50:12.913Z"
   },
   {
    "duration": 13,
    "start_time": "2023-06-05T19:57:00.192Z"
   },
   {
    "duration": 19,
    "start_time": "2023-06-05T19:57:06.930Z"
   },
   {
    "duration": 18,
    "start_time": "2023-06-05T19:57:27.287Z"
   },
   {
    "duration": 29,
    "start_time": "2023-06-05T19:57:51.548Z"
   },
   {
    "duration": 55,
    "start_time": "2023-06-05T20:00:09.132Z"
   },
   {
    "duration": 112,
    "start_time": "2023-06-05T20:00:54.494Z"
   },
   {
    "duration": 68,
    "start_time": "2023-06-05T20:02:35.430Z"
   },
   {
    "duration": 54,
    "start_time": "2023-06-05T20:03:13.004Z"
   },
   {
    "duration": 72,
    "start_time": "2023-06-05T20:07:01.137Z"
   },
   {
    "duration": 13,
    "start_time": "2023-06-05T20:07:12.476Z"
   },
   {
    "duration": 10,
    "start_time": "2023-06-05T20:07:39.007Z"
   },
   {
    "duration": 10,
    "start_time": "2023-06-05T20:08:03.403Z"
   },
   {
    "duration": 8,
    "start_time": "2023-06-05T20:08:38.147Z"
   },
   {
    "duration": 11,
    "start_time": "2023-06-05T20:10:07.626Z"
   },
   {
    "duration": 1526,
    "start_time": "2023-06-06T03:46:34.068Z"
   },
   {
    "duration": 465,
    "start_time": "2023-06-06T03:46:35.596Z"
   },
   {
    "duration": 20,
    "start_time": "2023-06-06T03:46:36.063Z"
   },
   {
    "duration": 15,
    "start_time": "2023-06-06T03:46:36.086Z"
   },
   {
    "duration": 54,
    "start_time": "2023-06-06T03:46:36.102Z"
   },
   {
    "duration": 86,
    "start_time": "2023-06-06T03:46:36.158Z"
   },
   {
    "duration": 13,
    "start_time": "2023-06-06T03:46:36.251Z"
   },
   {
    "duration": 38,
    "start_time": "2023-06-06T03:46:36.267Z"
   },
   {
    "duration": 93,
    "start_time": "2023-06-06T03:46:36.307Z"
   },
   {
    "duration": 7967,
    "start_time": "2023-06-06T03:46:36.404Z"
   },
   {
    "duration": 307,
    "start_time": "2023-06-06T03:46:44.373Z"
   },
   {
    "duration": 13,
    "start_time": "2023-06-06T03:46:44.682Z"
   },
   {
    "duration": 351,
    "start_time": "2023-06-06T03:46:44.696Z"
   },
   {
    "duration": 18,
    "start_time": "2023-06-06T03:46:45.052Z"
   },
   {
    "duration": 388,
    "start_time": "2023-06-06T03:46:45.072Z"
   },
   {
    "duration": 12,
    "start_time": "2023-06-06T03:46:45.462Z"
   },
   {
    "duration": 340,
    "start_time": "2023-06-06T03:46:45.475Z"
   },
   {
    "duration": 20,
    "start_time": "2023-06-06T03:46:45.826Z"
   },
   {
    "duration": 636,
    "start_time": "2023-06-06T03:46:45.848Z"
   },
   {
    "duration": 10,
    "start_time": "2023-06-06T03:46:46.486Z"
   },
   {
    "duration": 70,
    "start_time": "2023-06-06T03:46:46.498Z"
   },
   {
    "duration": 14,
    "start_time": "2023-06-06T03:46:46.569Z"
   },
   {
    "duration": 42,
    "start_time": "2023-06-06T03:46:46.585Z"
   },
   {
    "duration": 28,
    "start_time": "2023-06-06T03:46:46.629Z"
   },
   {
    "duration": 225,
    "start_time": "2023-06-06T03:46:46.659Z"
   },
   {
    "duration": 56,
    "start_time": "2023-06-06T03:46:46.885Z"
   },
   {
    "duration": 13,
    "start_time": "2023-06-06T03:46:46.948Z"
   },
   {
    "duration": 7,
    "start_time": "2023-06-06T03:47:28.781Z"
   },
   {
    "duration": 10,
    "start_time": "2023-06-06T03:47:36.706Z"
   },
   {
    "duration": 11,
    "start_time": "2023-06-06T03:47:58.454Z"
   },
   {
    "duration": 32,
    "start_time": "2023-06-06T03:48:16.753Z"
   },
   {
    "duration": 11,
    "start_time": "2023-06-06T03:48:37.451Z"
   },
   {
    "duration": 23,
    "start_time": "2023-06-06T03:49:16.186Z"
   },
   {
    "duration": 28,
    "start_time": "2023-06-06T03:50:06.402Z"
   },
   {
    "duration": 17,
    "start_time": "2023-06-06T03:51:52.244Z"
   },
   {
    "duration": 15,
    "start_time": "2023-06-06T03:53:31.546Z"
   },
   {
    "duration": 13,
    "start_time": "2023-06-06T03:54:21.324Z"
   },
   {
    "duration": 12,
    "start_time": "2023-06-06T03:54:33.108Z"
   },
   {
    "duration": 16,
    "start_time": "2023-06-06T03:54:49.951Z"
   },
   {
    "duration": 13,
    "start_time": "2023-06-06T03:55:23.079Z"
   },
   {
    "duration": 5,
    "start_time": "2023-06-06T03:56:17.442Z"
   },
   {
    "duration": 118,
    "start_time": "2023-06-06T03:56:17.476Z"
   },
   {
    "duration": 37,
    "start_time": "2023-06-06T03:56:17.596Z"
   },
   {
    "duration": 29,
    "start_time": "2023-06-06T03:56:17.635Z"
   },
   {
    "duration": 42,
    "start_time": "2023-06-06T03:56:17.666Z"
   },
   {
    "duration": 79,
    "start_time": "2023-06-06T03:56:17.710Z"
   },
   {
    "duration": 7,
    "start_time": "2023-06-06T03:56:17.791Z"
   },
   {
    "duration": 44,
    "start_time": "2023-06-06T03:56:17.799Z"
   },
   {
    "duration": 76,
    "start_time": "2023-06-06T03:56:17.850Z"
   },
   {
    "duration": 8069,
    "start_time": "2023-06-06T03:56:17.928Z"
   },
   {
    "duration": 343,
    "start_time": "2023-06-06T03:56:25.999Z"
   },
   {
    "duration": 14,
    "start_time": "2023-06-06T03:56:26.354Z"
   },
   {
    "duration": 325,
    "start_time": "2023-06-06T03:56:26.369Z"
   },
   {
    "duration": 12,
    "start_time": "2023-06-06T03:56:26.696Z"
   },
   {
    "duration": 357,
    "start_time": "2023-06-06T03:56:26.710Z"
   },
   {
    "duration": 12,
    "start_time": "2023-06-06T03:56:27.069Z"
   },
   {
    "duration": 766,
    "start_time": "2023-06-06T03:56:27.083Z"
   },
   {
    "duration": 15,
    "start_time": "2023-06-06T03:56:27.856Z"
   },
   {
    "duration": 366,
    "start_time": "2023-06-06T03:56:27.874Z"
   },
   {
    "duration": 14,
    "start_time": "2023-06-06T03:56:28.249Z"
   },
   {
    "duration": 62,
    "start_time": "2023-06-06T03:56:28.265Z"
   },
   {
    "duration": 30,
    "start_time": "2023-06-06T03:56:28.329Z"
   },
   {
    "duration": 26,
    "start_time": "2023-06-06T03:56:28.362Z"
   },
   {
    "duration": 15,
    "start_time": "2023-06-06T03:56:28.390Z"
   },
   {
    "duration": 254,
    "start_time": "2023-06-06T03:56:28.407Z"
   },
   {
    "duration": 26,
    "start_time": "2023-06-06T03:56:28.662Z"
   },
   {
    "duration": 203,
    "start_time": "2023-06-06T03:56:28.690Z"
   },
   {
    "duration": 0,
    "start_time": "2023-06-06T03:56:28.895Z"
   },
   {
    "duration": 0,
    "start_time": "2023-06-06T03:56:28.897Z"
   },
   {
    "duration": 43,
    "start_time": "2023-06-06T04:25:39.898Z"
   },
   {
    "duration": 48,
    "start_time": "2023-06-06T04:30:14.307Z"
   },
   {
    "duration": 14,
    "start_time": "2023-06-06T04:36:24.174Z"
   },
   {
    "duration": 3,
    "start_time": "2023-06-06T04:41:09.388Z"
   },
   {
    "duration": 135,
    "start_time": "2023-06-06T04:41:09.451Z"
   },
   {
    "duration": 27,
    "start_time": "2023-06-06T04:41:09.588Z"
   },
   {
    "duration": 35,
    "start_time": "2023-06-06T04:41:09.617Z"
   },
   {
    "duration": 48,
    "start_time": "2023-06-06T04:41:09.661Z"
   },
   {
    "duration": 91,
    "start_time": "2023-06-06T04:41:09.712Z"
   },
   {
    "duration": 8,
    "start_time": "2023-06-06T04:41:09.805Z"
   },
   {
    "duration": 27,
    "start_time": "2023-06-06T04:41:09.815Z"
   },
   {
    "duration": 112,
    "start_time": "2023-06-06T04:41:09.846Z"
   },
   {
    "duration": 7773,
    "start_time": "2023-06-06T04:41:09.964Z"
   },
   {
    "duration": 315,
    "start_time": "2023-06-06T04:41:17.744Z"
   },
   {
    "duration": 14,
    "start_time": "2023-06-06T04:41:18.061Z"
   },
   {
    "duration": 627,
    "start_time": "2023-06-06T04:41:18.077Z"
   },
   {
    "duration": 31,
    "start_time": "2023-06-06T04:41:18.706Z"
   },
   {
    "duration": 315,
    "start_time": "2023-06-06T04:41:18.747Z"
   },
   {
    "duration": 12,
    "start_time": "2023-06-06T04:41:19.063Z"
   },
   {
    "duration": 326,
    "start_time": "2023-06-06T04:41:19.076Z"
   },
   {
    "duration": 11,
    "start_time": "2023-06-06T04:41:19.404Z"
   },
   {
    "duration": 356,
    "start_time": "2023-06-06T04:41:19.417Z"
   },
   {
    "duration": 13,
    "start_time": "2023-06-06T04:41:19.776Z"
   },
   {
    "duration": 89,
    "start_time": "2023-06-06T04:41:19.791Z"
   },
   {
    "duration": 21,
    "start_time": "2023-06-06T04:41:19.882Z"
   },
   {
    "duration": 57,
    "start_time": "2023-06-06T04:41:19.905Z"
   },
   {
    "duration": 21,
    "start_time": "2023-06-06T04:41:19.966Z"
   },
   {
    "duration": 232,
    "start_time": "2023-06-06T04:41:19.989Z"
   },
   {
    "duration": 46,
    "start_time": "2023-06-06T04:41:20.225Z"
   },
   {
    "duration": 13,
    "start_time": "2023-06-06T04:41:20.273Z"
   },
   {
    "duration": 1293,
    "start_time": "2023-06-07T01:03:22.823Z"
   },
   {
    "duration": 176,
    "start_time": "2023-06-07T01:03:24.118Z"
   },
   {
    "duration": 15,
    "start_time": "2023-06-07T01:03:24.296Z"
   },
   {
    "duration": 10,
    "start_time": "2023-06-07T01:03:24.313Z"
   },
   {
    "duration": 64,
    "start_time": "2023-06-07T01:03:24.325Z"
   },
   {
    "duration": 65,
    "start_time": "2023-06-07T01:03:24.390Z"
   },
   {
    "duration": 5,
    "start_time": "2023-06-07T01:03:24.457Z"
   },
   {
    "duration": 32,
    "start_time": "2023-06-07T01:03:24.464Z"
   },
   {
    "duration": 73,
    "start_time": "2023-06-07T01:03:24.498Z"
   },
   {
    "duration": 6140,
    "start_time": "2023-06-07T01:03:24.574Z"
   },
   {
    "duration": 244,
    "start_time": "2023-06-07T01:03:30.719Z"
   },
   {
    "duration": 10,
    "start_time": "2023-06-07T01:03:30.965Z"
   },
   {
    "duration": 268,
    "start_time": "2023-06-07T01:03:30.977Z"
   },
   {
    "duration": 11,
    "start_time": "2023-06-07T01:03:31.246Z"
   },
   {
    "duration": 264,
    "start_time": "2023-06-07T01:03:31.259Z"
   },
   {
    "duration": 11,
    "start_time": "2023-06-07T01:03:31.524Z"
   },
   {
    "duration": 271,
    "start_time": "2023-06-07T01:03:31.536Z"
   },
   {
    "duration": 11,
    "start_time": "2023-06-07T01:03:31.808Z"
   },
   {
    "duration": 573,
    "start_time": "2023-06-07T01:03:31.820Z"
   },
   {
    "duration": 10,
    "start_time": "2023-06-07T01:03:32.395Z"
   },
   {
    "duration": 68,
    "start_time": "2023-06-07T01:03:32.407Z"
   },
   {
    "duration": 13,
    "start_time": "2023-06-07T01:03:32.477Z"
   },
   {
    "duration": 30,
    "start_time": "2023-06-07T01:03:32.492Z"
   },
   {
    "duration": 22,
    "start_time": "2023-06-07T01:03:32.524Z"
   },
   {
    "duration": 211,
    "start_time": "2023-06-07T01:03:32.548Z"
   },
   {
    "duration": 39,
    "start_time": "2023-06-07T01:03:32.761Z"
   },
   {
    "duration": 13,
    "start_time": "2023-06-07T01:03:32.802Z"
   }
  ],
  "kernelspec": {
   "display_name": "Python 3 (ipykernel)",
   "language": "python",
   "name": "python3"
  },
  "language_info": {
   "codemirror_mode": {
    "name": "ipython",
    "version": 3
   },
   "file_extension": ".py",
   "mimetype": "text/x-python",
   "name": "python",
   "nbconvert_exporter": "python",
   "pygments_lexer": "ipython3",
   "version": "3.9.13"
  },
  "toc": {
   "base_numbering": 1,
   "nav_menu": {},
   "number_sections": true,
   "sideBar": true,
   "skip_h1_title": true,
   "title_cell": "Table of Contents",
   "title_sidebar": "Contents",
   "toc_cell": false,
   "toc_position": {},
   "toc_section_display": true,
   "toc_window_display": false
  }
 },
 "nbformat": 4,
 "nbformat_minor": 2
}
